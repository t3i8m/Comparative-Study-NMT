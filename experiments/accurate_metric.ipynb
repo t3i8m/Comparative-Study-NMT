{
  "cells": [
    {
      "cell_type": "code",
      "execution_count": 1,
      "metadata": {
        "colab": {
          "base_uri": "https://localhost:8080/"
        },
        "id": "Umrwr4ulv_YB",
        "outputId": "4902a1be-1c1b-4e7e-8611-17ae339778fd"
      },
      "outputs": [
        {
          "name": "stdout",
          "output_type": "stream",
          "text": [
            "Collecting datasets==2.19.1\n",
            "  Downloading datasets-2.19.1-py3-none-any.whl.metadata (19 kB)\n",
            "Requirement already satisfied: nltk in /usr/local/lib/python3.11/dist-packages (3.9.1)\n",
            "Collecting evaluate\n",
            "  Downloading evaluate-0.4.3-py3-none-any.whl.metadata (9.2 kB)\n",
            "Requirement already satisfied: tqdm in /usr/local/lib/python3.11/dist-packages (4.67.1)\n",
            "Collecting bert_score\n",
            "  Downloading bert_score-0.3.13-py3-none-any.whl.metadata (15 kB)\n",
            "Requirement already satisfied: wandb in /usr/local/lib/python3.11/dist-packages (0.19.11)\n",
            "Requirement already satisfied: torch in /usr/local/lib/python3.11/dist-packages (2.6.0+cu124)\n",
            "Requirement already satisfied: transformers in /usr/local/lib/python3.11/dist-packages (4.52.2)\n",
            "Requirement already satisfied: sentencepiece in /usr/local/lib/python3.11/dist-packages (0.2.0)\n",
            "Requirement already satisfied: filelock in /usr/local/lib/python3.11/dist-packages (from datasets==2.19.1) (3.18.0)\n",
            "Requirement already satisfied: numpy>=1.17 in /usr/local/lib/python3.11/dist-packages (from datasets==2.19.1) (2.0.2)\n",
            "Requirement already satisfied: pyarrow>=12.0.0 in /usr/local/lib/python3.11/dist-packages (from datasets==2.19.1) (18.1.0)\n",
            "Collecting pyarrow-hotfix (from datasets==2.19.1)\n",
            "  Downloading pyarrow_hotfix-0.7-py3-none-any.whl.metadata (3.6 kB)\n",
            "Requirement already satisfied: dill<0.3.9,>=0.3.0 in /usr/local/lib/python3.11/dist-packages (from datasets==2.19.1) (0.3.7)\n",
            "Requirement already satisfied: pandas in /usr/local/lib/python3.11/dist-packages (from datasets==2.19.1) (2.2.2)\n",
            "Requirement already satisfied: requests>=2.19.0 in /usr/local/lib/python3.11/dist-packages (from datasets==2.19.1) (2.32.3)\n",
            "Requirement already satisfied: xxhash in /usr/local/lib/python3.11/dist-packages (from datasets==2.19.1) (3.5.0)\n",
            "Requirement already satisfied: multiprocess in /usr/local/lib/python3.11/dist-packages (from datasets==2.19.1) (0.70.15)\n",
            "Collecting fsspec<=2024.3.1,>=2023.1.0 (from fsspec[http]<=2024.3.1,>=2023.1.0->datasets==2.19.1)\n",
            "  Downloading fsspec-2024.3.1-py3-none-any.whl.metadata (6.8 kB)\n",
            "Requirement already satisfied: aiohttp in /usr/local/lib/python3.11/dist-packages (from datasets==2.19.1) (3.11.15)\n",
            "Requirement already satisfied: huggingface-hub>=0.21.2 in /usr/local/lib/python3.11/dist-packages (from datasets==2.19.1) (0.31.4)\n",
            "Requirement already satisfied: packaging in /usr/local/lib/python3.11/dist-packages (from datasets==2.19.1) (24.2)\n",
            "Requirement already satisfied: pyyaml>=5.1 in /usr/local/lib/python3.11/dist-packages (from datasets==2.19.1) (6.0.2)\n",
            "Requirement already satisfied: click in /usr/local/lib/python3.11/dist-packages (from nltk) (8.2.1)\n",
            "Requirement already satisfied: joblib in /usr/local/lib/python3.11/dist-packages (from nltk) (1.5.0)\n",
            "Requirement already satisfied: regex>=2021.8.3 in /usr/local/lib/python3.11/dist-packages (from nltk) (2024.11.6)\n",
            "Requirement already satisfied: matplotlib in /usr/local/lib/python3.11/dist-packages (from bert_score) (3.10.0)\n",
            "Requirement already satisfied: docker-pycreds>=0.4.0 in /usr/local/lib/python3.11/dist-packages (from wandb) (0.4.0)\n",
            "Requirement already satisfied: gitpython!=3.1.29,>=1.0.0 in /usr/local/lib/python3.11/dist-packages (from wandb) (3.1.44)\n",
            "Requirement already satisfied: platformdirs in /usr/local/lib/python3.11/dist-packages (from wandb) (4.3.8)\n",
            "Requirement already satisfied: protobuf!=4.21.0,!=5.28.0,<7,>=3.19.0 in /usr/local/lib/python3.11/dist-packages (from wandb) (5.29.4)\n",
            "Requirement already satisfied: psutil>=5.0.0 in /usr/local/lib/python3.11/dist-packages (from wandb) (5.9.5)\n",
            "Requirement already satisfied: pydantic<3 in /usr/local/lib/python3.11/dist-packages (from wandb) (2.11.4)\n",
            "Requirement already satisfied: sentry-sdk>=2.0.0 in /usr/local/lib/python3.11/dist-packages (from wandb) (2.29.1)\n",
            "Requirement already satisfied: setproctitle in /usr/local/lib/python3.11/dist-packages (from wandb) (1.3.6)\n",
            "Requirement already satisfied: setuptools in /usr/local/lib/python3.11/dist-packages (from wandb) (75.2.0)\n",
            "Requirement already satisfied: typing-extensions<5,>=4.4 in /usr/local/lib/python3.11/dist-packages (from wandb) (4.13.2)\n",
            "Requirement already satisfied: networkx in /usr/local/lib/python3.11/dist-packages (from torch) (3.4.2)\n",
            "Requirement already satisfied: jinja2 in /usr/local/lib/python3.11/dist-packages (from torch) (3.1.6)\n",
            "Collecting nvidia-cuda-nvrtc-cu12==12.4.127 (from torch)\n",
            "  Downloading nvidia_cuda_nvrtc_cu12-12.4.127-py3-none-manylinux2014_x86_64.whl.metadata (1.5 kB)\n",
            "Collecting nvidia-cuda-runtime-cu12==12.4.127 (from torch)\n",
            "  Downloading nvidia_cuda_runtime_cu12-12.4.127-py3-none-manylinux2014_x86_64.whl.metadata (1.5 kB)\n",
            "Collecting nvidia-cuda-cupti-cu12==12.4.127 (from torch)\n",
            "  Downloading nvidia_cuda_cupti_cu12-12.4.127-py3-none-manylinux2014_x86_64.whl.metadata (1.6 kB)\n",
            "Collecting nvidia-cudnn-cu12==9.1.0.70 (from torch)\n",
            "  Downloading nvidia_cudnn_cu12-9.1.0.70-py3-none-manylinux2014_x86_64.whl.metadata (1.6 kB)\n",
            "Collecting nvidia-cublas-cu12==12.4.5.8 (from torch)\n",
            "  Downloading nvidia_cublas_cu12-12.4.5.8-py3-none-manylinux2014_x86_64.whl.metadata (1.5 kB)\n",
            "Collecting nvidia-cufft-cu12==11.2.1.3 (from torch)\n",
            "  Downloading nvidia_cufft_cu12-11.2.1.3-py3-none-manylinux2014_x86_64.whl.metadata (1.5 kB)\n",
            "Collecting nvidia-curand-cu12==10.3.5.147 (from torch)\n",
            "  Downloading nvidia_curand_cu12-10.3.5.147-py3-none-manylinux2014_x86_64.whl.metadata (1.5 kB)\n",
            "Collecting nvidia-cusolver-cu12==11.6.1.9 (from torch)\n",
            "  Downloading nvidia_cusolver_cu12-11.6.1.9-py3-none-manylinux2014_x86_64.whl.metadata (1.6 kB)\n",
            "Collecting nvidia-cusparse-cu12==12.3.1.170 (from torch)\n",
            "  Downloading nvidia_cusparse_cu12-12.3.1.170-py3-none-manylinux2014_x86_64.whl.metadata (1.6 kB)\n",
            "Requirement already satisfied: nvidia-cusparselt-cu12==0.6.2 in /usr/local/lib/python3.11/dist-packages (from torch) (0.6.2)\n",
            "Requirement already satisfied: nvidia-nccl-cu12==2.21.5 in /usr/local/lib/python3.11/dist-packages (from torch) (2.21.5)\n",
            "Requirement already satisfied: nvidia-nvtx-cu12==12.4.127 in /usr/local/lib/python3.11/dist-packages (from torch) (12.4.127)\n",
            "Collecting nvidia-nvjitlink-cu12==12.4.127 (from torch)\n",
            "  Downloading nvidia_nvjitlink_cu12-12.4.127-py3-none-manylinux2014_x86_64.whl.metadata (1.5 kB)\n",
            "Requirement already satisfied: triton==3.2.0 in /usr/local/lib/python3.11/dist-packages (from torch) (3.2.0)\n",
            "Requirement already satisfied: sympy==1.13.1 in /usr/local/lib/python3.11/dist-packages (from torch) (1.13.1)\n",
            "Requirement already satisfied: mpmath<1.4,>=1.1.0 in /usr/local/lib/python3.11/dist-packages (from sympy==1.13.1->torch) (1.3.0)\n",
            "Requirement already satisfied: tokenizers<0.22,>=0.21 in /usr/local/lib/python3.11/dist-packages (from transformers) (0.21.1)\n",
            "Requirement already satisfied: safetensors>=0.4.3 in /usr/local/lib/python3.11/dist-packages (from transformers) (0.5.3)\n",
            "Requirement already satisfied: six>=1.4.0 in /usr/local/lib/python3.11/dist-packages (from docker-pycreds>=0.4.0->wandb) (1.17.0)\n",
            "Requirement already satisfied: aiohappyeyeballs>=2.3.0 in /usr/local/lib/python3.11/dist-packages (from aiohttp->datasets==2.19.1) (2.6.1)\n",
            "Requirement already satisfied: aiosignal>=1.1.2 in /usr/local/lib/python3.11/dist-packages (from aiohttp->datasets==2.19.1) (1.3.2)\n",
            "Requirement already satisfied: attrs>=17.3.0 in /usr/local/lib/python3.11/dist-packages (from aiohttp->datasets==2.19.1) (25.3.0)\n",
            "Requirement already satisfied: frozenlist>=1.1.1 in /usr/local/lib/python3.11/dist-packages (from aiohttp->datasets==2.19.1) (1.6.0)\n",
            "Requirement already satisfied: multidict<7.0,>=4.5 in /usr/local/lib/python3.11/dist-packages (from aiohttp->datasets==2.19.1) (6.4.4)\n",
            "Requirement already satisfied: propcache>=0.2.0 in /usr/local/lib/python3.11/dist-packages (from aiohttp->datasets==2.19.1) (0.3.1)\n",
            "Requirement already satisfied: yarl<2.0,>=1.17.0 in /usr/local/lib/python3.11/dist-packages (from aiohttp->datasets==2.19.1) (1.20.0)\n",
            "Requirement already satisfied: gitdb<5,>=4.0.1 in /usr/local/lib/python3.11/dist-packages (from gitpython!=3.1.29,>=1.0.0->wandb) (4.0.12)\n",
            "Requirement already satisfied: python-dateutil>=2.8.2 in /usr/local/lib/python3.11/dist-packages (from pandas->datasets==2.19.1) (2.9.0.post0)\n",
            "Requirement already satisfied: pytz>=2020.1 in /usr/local/lib/python3.11/dist-packages (from pandas->datasets==2.19.1) (2025.2)\n",
            "Requirement already satisfied: tzdata>=2022.7 in /usr/local/lib/python3.11/dist-packages (from pandas->datasets==2.19.1) (2025.2)\n",
            "Requirement already satisfied: annotated-types>=0.6.0 in /usr/local/lib/python3.11/dist-packages (from pydantic<3->wandb) (0.7.0)\n",
            "Requirement already satisfied: pydantic-core==2.33.2 in /usr/local/lib/python3.11/dist-packages (from pydantic<3->wandb) (2.33.2)\n",
            "Requirement already satisfied: typing-inspection>=0.4.0 in /usr/local/lib/python3.11/dist-packages (from pydantic<3->wandb) (0.4.1)\n",
            "Requirement already satisfied: charset-normalizer<4,>=2 in /usr/local/lib/python3.11/dist-packages (from requests>=2.19.0->datasets==2.19.1) (3.4.2)\n",
            "Requirement already satisfied: idna<4,>=2.5 in /usr/local/lib/python3.11/dist-packages (from requests>=2.19.0->datasets==2.19.1) (3.10)\n",
            "Requirement already satisfied: urllib3<3,>=1.21.1 in /usr/local/lib/python3.11/dist-packages (from requests>=2.19.0->datasets==2.19.1) (2.4.0)\n",
            "Requirement already satisfied: certifi>=2017.4.17 in /usr/local/lib/python3.11/dist-packages (from requests>=2.19.0->datasets==2.19.1) (2025.4.26)\n",
            "Requirement already satisfied: MarkupSafe>=2.0 in /usr/local/lib/python3.11/dist-packages (from jinja2->torch) (3.0.2)\n",
            "Requirement already satisfied: contourpy>=1.0.1 in /usr/local/lib/python3.11/dist-packages (from matplotlib->bert_score) (1.3.2)\n",
            "Requirement already satisfied: cycler>=0.10 in /usr/local/lib/python3.11/dist-packages (from matplotlib->bert_score) (0.12.1)\n",
            "Requirement already satisfied: fonttools>=4.22.0 in /usr/local/lib/python3.11/dist-packages (from matplotlib->bert_score) (4.58.0)\n",
            "Requirement already satisfied: kiwisolver>=1.3.1 in /usr/local/lib/python3.11/dist-packages (from matplotlib->bert_score) (1.4.8)\n",
            "Requirement already satisfied: pillow>=8 in /usr/local/lib/python3.11/dist-packages (from matplotlib->bert_score) (11.2.1)\n",
            "Requirement already satisfied: pyparsing>=2.3.1 in /usr/local/lib/python3.11/dist-packages (from matplotlib->bert_score) (3.2.3)\n",
            "Requirement already satisfied: smmap<6,>=3.0.1 in /usr/local/lib/python3.11/dist-packages (from gitdb<5,>=4.0.1->gitpython!=3.1.29,>=1.0.0->wandb) (5.0.2)\n",
            "Downloading datasets-2.19.1-py3-none-any.whl (542 kB)\n",
            "\u001b[2K   \u001b[90m━━━━━━━━━━━━━━━━━━━━━━━━━━━━━━━━━━━━━━━━\u001b[0m \u001b[32m542.0/542.0 kB\u001b[0m \u001b[31m9.3 MB/s\u001b[0m eta \u001b[36m0:00:00\u001b[0m\n",
            "\u001b[?25hDownloading evaluate-0.4.3-py3-none-any.whl (84 kB)\n",
            "\u001b[2K   \u001b[90m━━━━━━━━━━━━━━━━━━━━━━━━━━━━━━━━━━━━━━━━\u001b[0m \u001b[32m84.0/84.0 kB\u001b[0m \u001b[31m7.6 MB/s\u001b[0m eta \u001b[36m0:00:00\u001b[0m\n",
            "\u001b[?25hDownloading bert_score-0.3.13-py3-none-any.whl (61 kB)\n",
            "\u001b[2K   \u001b[90m━━━━━━━━━━━━━━━━━━━━━━━━━━━━━━━━━━━━━━━━\u001b[0m \u001b[32m61.1/61.1 kB\u001b[0m \u001b[31m5.7 MB/s\u001b[0m eta \u001b[36m0:00:00\u001b[0m\n",
            "\u001b[?25hDownloading nvidia_cublas_cu12-12.4.5.8-py3-none-manylinux2014_x86_64.whl (363.4 MB)\n",
            "\u001b[2K   \u001b[90m━━━━━━━━━━━━━━━━━━━━━━━━━━━━━━━━━━━━━━━━\u001b[0m \u001b[32m363.4/363.4 MB\u001b[0m \u001b[31m4.1 MB/s\u001b[0m eta \u001b[36m0:00:00\u001b[0m\n",
            "\u001b[?25hDownloading nvidia_cuda_cupti_cu12-12.4.127-py3-none-manylinux2014_x86_64.whl (13.8 MB)\n",
            "\u001b[2K   \u001b[90m━━━━━━━━━━━━━━━━━━━━━━━━━━━━━━━━━━━━━━━━\u001b[0m \u001b[32m13.8/13.8 MB\u001b[0m \u001b[31m69.9 MB/s\u001b[0m eta \u001b[36m0:00:00\u001b[0m\n",
            "\u001b[?25hDownloading nvidia_cuda_nvrtc_cu12-12.4.127-py3-none-manylinux2014_x86_64.whl (24.6 MB)\n",
            "\u001b[2K   \u001b[90m━━━━━━━━━━━━━━━━━━━━━━━━━━━━━━━━━━━━━━━━\u001b[0m \u001b[32m24.6/24.6 MB\u001b[0m \u001b[31m57.4 MB/s\u001b[0m eta \u001b[36m0:00:00\u001b[0m\n",
            "\u001b[?25hDownloading nvidia_cuda_runtime_cu12-12.4.127-py3-none-manylinux2014_x86_64.whl (883 kB)\n",
            "\u001b[2K   \u001b[90m━━━━━━━━━━━━━━━━━━━━━━━━━━━━━━━━━━━━━━━━\u001b[0m \u001b[32m883.7/883.7 kB\u001b[0m \u001b[31m44.0 MB/s\u001b[0m eta \u001b[36m0:00:00\u001b[0m\n",
            "\u001b[?25hDownloading nvidia_cudnn_cu12-9.1.0.70-py3-none-manylinux2014_x86_64.whl (664.8 MB)\n",
            "\u001b[2K   \u001b[90m━━━━━━━━━━━━━━━━━━━━━━━━━━━━━━━━━━━━━━━━\u001b[0m \u001b[32m664.8/664.8 MB\u001b[0m \u001b[31m2.6 MB/s\u001b[0m eta \u001b[36m0:00:00\u001b[0m\n",
            "\u001b[?25hDownloading nvidia_cufft_cu12-11.2.1.3-py3-none-manylinux2014_x86_64.whl (211.5 MB)\n",
            "\u001b[2K   \u001b[90m━━━━━━━━━━━━━━━━━━━━━━━━━━━━━━━━━━━━━━━━\u001b[0m \u001b[32m211.5/211.5 MB\u001b[0m \u001b[31m6.0 MB/s\u001b[0m eta \u001b[36m0:00:00\u001b[0m\n",
            "\u001b[?25hDownloading nvidia_curand_cu12-10.3.5.147-py3-none-manylinux2014_x86_64.whl (56.3 MB)\n",
            "\u001b[2K   \u001b[90m━━━━━━━━━━━━━━━━━━━━━━━━━━━━━━━━━━━━━━━━\u001b[0m \u001b[32m56.3/56.3 MB\u001b[0m \u001b[31m16.9 MB/s\u001b[0m eta \u001b[36m0:00:00\u001b[0m\n",
            "\u001b[?25hDownloading nvidia_cusolver_cu12-11.6.1.9-py3-none-manylinux2014_x86_64.whl (127.9 MB)\n",
            "\u001b[2K   \u001b[90m━━━━━━━━━━━━━━━━━━━━━━━━━━━━━━━━━━━━━━━━\u001b[0m \u001b[32m127.9/127.9 MB\u001b[0m \u001b[31m7.3 MB/s\u001b[0m eta \u001b[36m0:00:00\u001b[0m\n",
            "\u001b[?25hDownloading nvidia_cusparse_cu12-12.3.1.170-py3-none-manylinux2014_x86_64.whl (207.5 MB)\n",
            "\u001b[2K   \u001b[90m━━━━━━━━━━━━━━━━━━━━━━━━━━━━━━━━━━━━━━━━\u001b[0m \u001b[32m207.5/207.5 MB\u001b[0m \u001b[31m5.5 MB/s\u001b[0m eta \u001b[36m0:00:00\u001b[0m\n",
            "\u001b[?25hDownloading nvidia_nvjitlink_cu12-12.4.127-py3-none-manylinux2014_x86_64.whl (21.1 MB)\n",
            "\u001b[2K   \u001b[90m━━━━━━━━━━━━━━━━━━━━━━━━━━━━━━━━━━━━━━━━\u001b[0m \u001b[32m21.1/21.1 MB\u001b[0m \u001b[31m96.7 MB/s\u001b[0m eta \u001b[36m0:00:00\u001b[0m\n",
            "\u001b[?25hDownloading fsspec-2024.3.1-py3-none-any.whl (171 kB)\n",
            "\u001b[2K   \u001b[90m━━━━━━━━━━━━━━━━━━━━━━━━━━━━━━━━━━━━━━━━\u001b[0m \u001b[32m172.0/172.0 kB\u001b[0m \u001b[31m16.7 MB/s\u001b[0m eta \u001b[36m0:00:00\u001b[0m\n",
            "\u001b[?25hDownloading pyarrow_hotfix-0.7-py3-none-any.whl (7.9 kB)\n",
            "Installing collected packages: pyarrow-hotfix, nvidia-nvjitlink-cu12, nvidia-curand-cu12, nvidia-cufft-cu12, nvidia-cuda-runtime-cu12, nvidia-cuda-nvrtc-cu12, nvidia-cuda-cupti-cu12, nvidia-cublas-cu12, fsspec, nvidia-cusparse-cu12, nvidia-cudnn-cu12, nvidia-cusolver-cu12, datasets, evaluate, bert_score\n",
            "  Attempting uninstall: nvidia-nvjitlink-cu12\n",
            "    Found existing installation: nvidia-nvjitlink-cu12 12.5.82\n",
            "    Uninstalling nvidia-nvjitlink-cu12-12.5.82:\n",
            "      Successfully uninstalled nvidia-nvjitlink-cu12-12.5.82\n",
            "  Attempting uninstall: nvidia-curand-cu12\n",
            "    Found existing installation: nvidia-curand-cu12 10.3.6.82\n",
            "    Uninstalling nvidia-curand-cu12-10.3.6.82:\n",
            "      Successfully uninstalled nvidia-curand-cu12-10.3.6.82\n",
            "  Attempting uninstall: nvidia-cufft-cu12\n",
            "    Found existing installation: nvidia-cufft-cu12 11.2.3.61\n",
            "    Uninstalling nvidia-cufft-cu12-11.2.3.61:\n",
            "      Successfully uninstalled nvidia-cufft-cu12-11.2.3.61\n",
            "  Attempting uninstall: nvidia-cuda-runtime-cu12\n",
            "    Found existing installation: nvidia-cuda-runtime-cu12 12.5.82\n",
            "    Uninstalling nvidia-cuda-runtime-cu12-12.5.82:\n",
            "      Successfully uninstalled nvidia-cuda-runtime-cu12-12.5.82\n",
            "  Attempting uninstall: nvidia-cuda-nvrtc-cu12\n",
            "    Found existing installation: nvidia-cuda-nvrtc-cu12 12.5.82\n",
            "    Uninstalling nvidia-cuda-nvrtc-cu12-12.5.82:\n",
            "      Successfully uninstalled nvidia-cuda-nvrtc-cu12-12.5.82\n",
            "  Attempting uninstall: nvidia-cuda-cupti-cu12\n",
            "    Found existing installation: nvidia-cuda-cupti-cu12 12.5.82\n",
            "    Uninstalling nvidia-cuda-cupti-cu12-12.5.82:\n",
            "      Successfully uninstalled nvidia-cuda-cupti-cu12-12.5.82\n",
            "  Attempting uninstall: nvidia-cublas-cu12\n",
            "    Found existing installation: nvidia-cublas-cu12 12.5.3.2\n",
            "    Uninstalling nvidia-cublas-cu12-12.5.3.2:\n",
            "      Successfully uninstalled nvidia-cublas-cu12-12.5.3.2\n",
            "  Attempting uninstall: fsspec\n",
            "    Found existing installation: fsspec 2025.3.2\n",
            "    Uninstalling fsspec-2025.3.2:\n",
            "      Successfully uninstalled fsspec-2025.3.2\n",
            "  Attempting uninstall: nvidia-cusparse-cu12\n",
            "    Found existing installation: nvidia-cusparse-cu12 12.5.1.3\n",
            "    Uninstalling nvidia-cusparse-cu12-12.5.1.3:\n",
            "      Successfully uninstalled nvidia-cusparse-cu12-12.5.1.3\n",
            "  Attempting uninstall: nvidia-cudnn-cu12\n",
            "    Found existing installation: nvidia-cudnn-cu12 9.3.0.75\n",
            "    Uninstalling nvidia-cudnn-cu12-9.3.0.75:\n",
            "      Successfully uninstalled nvidia-cudnn-cu12-9.3.0.75\n",
            "  Attempting uninstall: nvidia-cusolver-cu12\n",
            "    Found existing installation: nvidia-cusolver-cu12 11.6.3.83\n",
            "    Uninstalling nvidia-cusolver-cu12-11.6.3.83:\n",
            "      Successfully uninstalled nvidia-cusolver-cu12-11.6.3.83\n",
            "  Attempting uninstall: datasets\n",
            "    Found existing installation: datasets 2.14.4\n",
            "    Uninstalling datasets-2.14.4:\n",
            "      Successfully uninstalled datasets-2.14.4\n",
            "\u001b[31mERROR: pip's dependency resolver does not currently take into account all the packages that are installed. This behaviour is the source of the following dependency conflicts.\n",
            "gcsfs 2025.3.2 requires fsspec==2025.3.2, but you have fsspec 2024.3.1 which is incompatible.\u001b[0m\u001b[31m\n",
            "\u001b[0mSuccessfully installed bert_score-0.3.13 datasets-2.19.1 evaluate-0.4.3 fsspec-2024.3.1 nvidia-cublas-cu12-12.4.5.8 nvidia-cuda-cupti-cu12-12.4.127 nvidia-cuda-nvrtc-cu12-12.4.127 nvidia-cuda-runtime-cu12-12.4.127 nvidia-cudnn-cu12-9.1.0.70 nvidia-cufft-cu12-11.2.1.3 nvidia-curand-cu12-10.3.5.147 nvidia-cusolver-cu12-11.6.1.9 nvidia-cusparse-cu12-12.3.1.170 nvidia-nvjitlink-cu12-12.4.127 pyarrow-hotfix-0.7\n"
          ]
        }
      ],
      "source": [
        "!pip install datasets==2.19.1 nltk evaluate tqdm bert_score wandb torch transformers sentencepiece"
      ]
    },
    {
      "cell_type": "code",
      "execution_count": 2,
      "metadata": {
        "id": "ajlz9qvjwsGF"
      },
      "outputs": [],
      "source": [
        "import torch\n",
        "from transformers import MarianMTModel, MarianTokenizer, M2M100ForConditionalGeneration, M2M100Tokenizer\n",
        "from nltk.translate.bleu_score import sentence_bleu, SmoothingFunction\n",
        "import evaluate\n",
        "import matplotlib.pyplot as plt\n",
        "import seaborn as sns\n",
        "import pandas as pd\n",
        "from datasets import load_dataset\n",
        "from tqdm import tqdm"
      ]
    },
    {
      "cell_type": "code",
      "execution_count": 3,
      "metadata": {
        "colab": {
          "base_uri": "https://localhost:8080/",
          "height": 371,
          "referenced_widgets": [
            "9abf82c77e684fd9be3ffd916e7f5785",
            "6b649916b33042eaa5f0160022a5cfc5",
            "4c50d091fc224f86a97b1409600a0a9d",
            "8ee3c7d7e6824e8f84881a587ebaf112",
            "b85943cc8b4846f3973f880c3b8c77c1",
            "12180f264221481691db329cc7e975b0",
            "0667b2df192342a7a119c811e9d78952",
            "91bf74e006e44608860d990e5719966f",
            "fe1b21d69877428a9019f44dd1545cfc",
            "86942d1fbb51455fb0105b42698facb9",
            "b985a00a33654b8d83c1928a5026f4e9",
            "b571365c98334fbb9ec102aad26583d2",
            "c51b10f7abe045cab198e195308e25db",
            "b4883236084047fab694f2ec7d0fdb3a",
            "2d8fdc3a1cf841f18490ec20bb160f8c",
            "52f1d689f1d746f7b3d73bacf4af0155",
            "01ae2565bbdf41cc9151223eba233bdf",
            "7ff65afa619249b29e5965a6e474a966",
            "07948fb24fb4444f9d974928f0c4b0e8",
            "2ad836bc58c44bd5868ee77073de1bc1",
            "7a4848957bb544abb6aaf62e5cd274df",
            "c6009c0921f8441bbdd545cfb5ecacfe",
            "53b49e0a63254be5b58030527455880c",
            "4819713e74254c53b0b9f6b944a3c529",
            "4a2032096e0245a997961d785bb67f7a",
            "ec49a8f067f14d5eb68cd9c99390a3c0",
            "3be5d4731e2b47ad91af08bf531ecbca",
            "b5a7008ba8964002a0975030147aaaab",
            "8646c5d60743448989b467f7ab6bb686",
            "63327248c6cd4447b8c47f8f51b022d1",
            "8f5e15b7d8194116b5b5fa470a8cf5a4",
            "c6614b26a6c04e0395c76a745936643c",
            "c8b57e96375f4d638237b7b2697db4cd",
            "c68a2700f24d4e17a0dff0fbc59fb345",
            "98c71d32e77e49c283cdf6d577d95e6b",
            "0529637040e14820ac85deca5f50a5e9",
            "cd337af22008415994c838ea634621a0",
            "60e0f329bb4242eea11d744f89be395c",
            "5333883e2e5c4959a11072538dd5e4d9",
            "2d07607c868b47cfa2e3d41b5b8d24ba",
            "fc634a791522435b83fe8ebe950fa6e5",
            "4e0179a5610046f48b5673fe5d4fcfb7",
            "b80b3f20066d4243aa162219b3d557c4",
            "b1f021adf5c44f499d7fafc5392d3d03",
            "b7c7f0bdfdde47529f8b92e766b3157e",
            "71f46eecf2b44379a9cb34e55bd95a77",
            "fab82787439a4e3a8c42a15b17891782",
            "130c958729ce4c0db1631319aef64034",
            "dc92779243664fcaa78b2e8616fce0a7",
            "df6173c806194719a44c2c36dd2224f1",
            "2c50343239ad4adaa3c78c6bafc9a842",
            "c66e02b152e54b8e9e2b0f1b0d922e3b",
            "c610f8cf908e477b9e340e2db9119122",
            "a2abda0900d146acaa5134e3e1da821c",
            "e1424ea4b68346469806d3ceca25d16a"
          ]
        },
        "id": "LfxQc_rZw5xx",
        "outputId": "7bde9365-cf70-42b6-d740-9aca89eec854"
      },
      "outputs": [
        {
          "name": "stderr",
          "output_type": "stream",
          "text": [
            "/usr/local/lib/python3.11/dist-packages/huggingface_hub/utils/_auth.py:94: UserWarning: \n",
            "The secret `HF_TOKEN` does not exist in your Colab secrets.\n",
            "To authenticate with the Hugging Face Hub, create a token in your settings tab (https://huggingface.co/settings/tokens), set it as secret in your Google Colab and restart your session.\n",
            "You will be able to reuse this secret in all of your notebooks.\n",
            "Please note that authentication is recommended but still optional to access public models or datasets.\n",
            "  warnings.warn(\n"
          ]
        },
        {
          "data": {
            "application/vnd.jupyter.widget-view+json": {
              "model_id": "9abf82c77e684fd9be3ffd916e7f5785",
              "version_major": 2,
              "version_minor": 0
            },
            "text/plain": [
              "Downloading builder script:   0%|          | 0.00/5.94k [00:00<?, ?B/s]"
            ]
          },
          "metadata": {},
          "output_type": "display_data"
        },
        {
          "data": {
            "application/vnd.jupyter.widget-view+json": {
              "model_id": "b571365c98334fbb9ec102aad26583d2",
              "version_major": 2,
              "version_minor": 0
            },
            "text/plain": [
              "Downloading extra modules:   0%|          | 0.00/1.55k [00:00<?, ?B/s]"
            ]
          },
          "metadata": {},
          "output_type": "display_data"
        },
        {
          "data": {
            "application/vnd.jupyter.widget-view+json": {
              "model_id": "53b49e0a63254be5b58030527455880c",
              "version_major": 2,
              "version_minor": 0
            },
            "text/plain": [
              "Downloading extra modules:   0%|          | 0.00/3.34k [00:00<?, ?B/s]"
            ]
          },
          "metadata": {},
          "output_type": "display_data"
        },
        {
          "data": {
            "application/vnd.jupyter.widget-view+json": {
              "model_id": "c68a2700f24d4e17a0dff0fbc59fb345",
              "version_major": 2,
              "version_minor": 0
            },
            "text/plain": [
              "Downloading builder script:   0%|          | 0.00/7.02k [00:00<?, ?B/s]"
            ]
          },
          "metadata": {},
          "output_type": "display_data"
        },
        {
          "name": "stderr",
          "output_type": "stream",
          "text": [
            "[nltk_data] Downloading package wordnet to /root/nltk_data...\n",
            "[nltk_data] Downloading package punkt_tab to /root/nltk_data...\n",
            "[nltk_data]   Unzipping tokenizers/punkt_tab.zip.\n",
            "[nltk_data] Downloading package omw-1.4 to /root/nltk_data...\n"
          ]
        },
        {
          "data": {
            "application/vnd.jupyter.widget-view+json": {
              "model_id": "b7c7f0bdfdde47529f8b92e766b3157e",
              "version_major": 2,
              "version_minor": 0
            },
            "text/plain": [
              "Downloading builder script:   0%|          | 0.00/7.95k [00:00<?, ?B/s]"
            ]
          },
          "metadata": {},
          "output_type": "display_data"
        }
      ],
      "source": [
        "# Load evaluation metrics\n",
        "bleu = evaluate.load(\"bleu\")\n",
        "meteor = evaluate.load(\"meteor\")\n",
        "bertscore = evaluate.load(\"bertscore\")"
      ]
    },
    {
      "cell_type": "code",
      "execution_count": 50,
      "metadata": {
        "id": "RtSFK718w8BQ"
      },
      "outputs": [],
      "source": [
        "# Load dataset\n",
        "dataset = load_dataset(\"wmt14\", \"de-en\")\n",
        "samples = dataset[\"test\"].select(range(100))\n",
        "src_texts = [item[\"translation\"][\"en\"] for item in samples]\n",
        "references = [item[\"translation\"][\"de\"] for item in samples]"
      ]
    },
    {
      "cell_type": "code",
      "execution_count": 51,
      "metadata": {
        "colab": {
          "base_uri": "https://localhost:8080/"
        },
        "id": "UC9SKgRKxJYR",
        "outputId": "c87788ca-18a2-4f5e-947a-d2c3bdd10371"
      },
      "outputs": [
        {
          "name": "stderr",
          "output_type": "stream",
          "text": [
            "/usr/local/lib/python3.11/dist-packages/transformers/models/marian/tokenization_marian.py:177: UserWarning: Recommended: pip install sacremoses.\n",
            "  warnings.warn(\"Recommended: pip install sacremoses.\")\n"
          ]
        }
      ],
      "source": [
        "# Load models and tokenizers\n",
        "device = torch.device(\"cuda\" if torch.cuda.is_available() else \"cpu\")\n",
        "\n",
        "marian_model = MarianMTModel.from_pretrained(\"Helsinki-NLP/opus-mt-en-de\").to(device)\n",
        "marian_tokenizer = MarianTokenizer.from_pretrained(\"Helsinki-NLP/opus-mt-en-de\")\n",
        "\n",
        "m2m_model = M2M100ForConditionalGeneration.from_pretrained(\"facebook/m2m100_418M\").to(device)\n",
        "m2m_tokenizer = M2M100Tokenizer.from_pretrained(\"facebook/m2m100_418M\")"
      ]
    },
    {
      "cell_type": "code",
      "execution_count": 52,
      "metadata": {
        "id": "DgR1YLfHxVmK"
      },
      "outputs": [],
      "source": [
        "def compute_metrics(predictions, references):\n",
        "    # Wrap references as list of list of strings as required by evaluate\n",
        "    wrapped_references = [[ref] for ref in references]\n",
        "\n",
        "    bleu_score = bleu.compute(predictions=predictions, references=wrapped_references)[\"bleu\"]\n",
        "    meteor_score = meteor.compute(predictions=predictions, references=wrapped_references)[\"meteor\"]\n",
        "\n",
        "    bert_scores = bertscore.compute(predictions=predictions, references=wrapped_references, lang=\"de\")\n",
        "\n",
        "    bert_precision_avg = sum(bert_scores[\"precision\"]) / len(bert_scores[\"precision\"])\n",
        "    bert_recall_avg = sum(bert_scores[\"recall\"]) / len(bert_scores[\"recall\"])\n",
        "    bert_f1_avg = sum(bert_scores[\"f1\"]) / len(bert_scores[\"f1\"])\n",
        "\n",
        "    return bleu_score, meteor_score, bert_precision_avg, bert_recall_avg, bert_f1_avg\n",
        "\n",
        "\n"
      ]
    },
    {
      "cell_type": "code",
      "execution_count": 53,
      "metadata": {
        "colab": {
          "base_uri": "https://localhost:8080/"
        },
        "id": "QhuYpexzxYv0",
        "outputId": "b1b429f9-2d1d-40a1-c3ca-7721ec607de3"
      },
      "outputs": [
        {
          "name": "stderr",
          "output_type": "stream",
          "text": [
            "Evaluating samples:   1%|          | 1/100 [00:00<00:49,  2.01it/s]"
          ]
        },
        {
          "name": "stdout",
          "output_type": "stream",
          "text": [
            "\n",
            "Example 1\n",
            "Source: Gutach: Increased safety for pedestrians\n",
            "Reference: Gutach: Noch mehr Sicherheit für Fußgänger\n",
            "MarianMT: Gutach: Mehr Sicherheit für Fußgänger\n",
            "M2M100:  Gutach: Sicherheit für Fußgänger erhöht\n"
          ]
        },
        {
          "name": "stderr",
          "output_type": "stream",
          "text": [
            "\rEvaluating samples:   2%|▏         | 2/100 [00:02<01:48,  1.10s/it]"
          ]
        },
        {
          "name": "stdout",
          "output_type": "stream",
          "text": [
            "\n",
            "Example 2\n",
            "Source: They are not even 100 metres apart: On Tuesday, the new B 33 pedestrian lights in Dorfparkplatz in Gutach became operational - within view of the existing Town Hall traffic lights.\n",
            "Reference: Sie stehen keine 100 Meter voneinander entfernt: Am Dienstag ist in Gutach die neue B 33-Fußgängerampel am Dorfparkplatz in Betrieb genommen worden - in Sichtweite der älteren Rathausampel.\n",
            "MarianMT: Sie sind nicht einmal 100 Meter voneinander entfernt: Am Dienstag wurde die neue B 33 am Dorfparkplatz in Gutach in Betrieb genommen - mit Blick auf die bestehende Rathausampeln.\n",
            "M2M100:  Sie sind nicht einmal 100 Meter entfernt: Am Dienstag wurden die neuen B-33 Fußgängerleuchten im Dorfparkplatz in Gutach in Betrieb - im Blick auf die bestehenden Straßenverkehrsleuchten.\n"
          ]
        },
        {
          "name": "stderr",
          "output_type": "stream",
          "text": [
            "\rEvaluating samples:   3%|▎         | 3/100 [00:02<01:27,  1.11it/s]"
          ]
        },
        {
          "name": "stdout",
          "output_type": "stream",
          "text": [
            "\n",
            "Example 3\n",
            "Source: Two sets of lights so close to one another: intentional or just a silly error?\n",
            "Reference: Zwei Anlagen so nah beieinander: Absicht oder Schildbürgerstreich?\n",
            "MarianMT: Zwei Lichter so nah aneinander: absichtlich oder einfach nur ein dummer Fehler?\n",
            "M2M100:  Zwei Sätze von Licht so nah miteinander: absichtlich oder einfach ein dummes Fehler?\n"
          ]
        },
        {
          "name": "stderr",
          "output_type": "stream",
          "text": [
            "\rEvaluating samples:   4%|▍         | 4/100 [00:03<01:13,  1.31it/s]"
          ]
        },
        {
          "name": "stdout",
          "output_type": "stream",
          "text": [
            "\n",
            "Example 4\n",
            "Source: Yesterday, Gutacht's Mayor gave a clear answer to this question.\n",
            "Reference: Diese Frage hat Gutachs Bürgermeister gestern klar beantwortet.\n",
            "MarianMT: Gestern gab Gutachts Bürgermeister eine klare Antwort auf diese Frage.\n",
            "M2M100:  Gestern gab der Bürgermeister von Gutacht eine klare Antwort auf diese Frage.\n"
          ]
        },
        {
          "name": "stderr",
          "output_type": "stream",
          "text": [
            "\rEvaluating samples:   5%|▌         | 5/100 [00:04<01:18,  1.21it/s]"
          ]
        },
        {
          "name": "stdout",
          "output_type": "stream",
          "text": [
            "\n",
            "Example 5\n",
            "Source: \"At the time, the Town Hall traffic lights were installed because this was a school route,\" explained Eckert yesterday.\n",
            "Reference: \"Die Rathausampel ist damals installiert worden, weil diese den Schulweg sichert\", erläuterte Eckert gestern.\n",
            "MarianMT: \"Damals wurden die Rathausampeln installiert, weil dies eine Schulroute war\", erklärte Eckert gestern.\n",
            "M2M100:  \"In der Zeit wurden die Straßenbeleuchtungen im Stadthall installiert, weil dies eine Schulroute war\", erklärte Eckert gestern.\n"
          ]
        },
        {
          "name": "stderr",
          "output_type": "stream",
          "text": [
            "\rEvaluating samples:   6%|▌         | 6/100 [00:05<01:19,  1.19it/s]"
          ]
        },
        {
          "name": "stdout",
          "output_type": "stream",
          "text": [
            "\n",
            "Example 6\n",
            "Source: The Kluser lights protect cyclists, as well as those travelling by bus and the residents of Bergle.\n",
            "Reference: Die Kluser-Ampel sichere sowohl Radfahrer als auch Busfahrgäste und die Bergle-Bewohner.\n",
            "MarianMT: Die Kluser Lichter schützen Radfahrer, aber auch Reisende mit dem Bus und die Bewohner von Bergle.\n",
            "M2M100:  Die Kluser-Lichter schützen Fahrräder sowie diejenigen, die mit dem Bus und den Bewohnern von Bergle reisen.\n"
          ]
        },
        {
          "name": "stderr",
          "output_type": "stream",
          "text": [
            "\rEvaluating samples:   7%|▋         | 7/100 [00:05<01:20,  1.16it/s]"
          ]
        },
        {
          "name": "stdout",
          "output_type": "stream",
          "text": [
            "\n",
            "Example 7\n",
            "Source: The system, which officially became operational yesterday, is of importance to the Sulzbachweg/Kirchstrasse junction.\n",
            "Reference: Die gestern offiziell in Betrieb genommene Anlage sei wichtig für den Kreuzungsbereich Sulzbachweg/Kirchstraße.\n",
            "MarianMT: Das System, das gestern offiziell in Betrieb genommen wurde, ist für den Sulzbachweg/Kirchstraße von Bedeutung.\n",
            "M2M100:  Das System, das offiziell gestern in Betrieb wurde, ist von Bedeutung für die Sulzbachweg/Kirchstrasse-Junktion.\n"
          ]
        },
        {
          "name": "stderr",
          "output_type": "stream",
          "text": [
            "\rEvaluating samples:   8%|▊         | 8/100 [00:07<01:32,  1.00s/it]"
          ]
        },
        {
          "name": "stdout",
          "output_type": "stream",
          "text": [
            "\n",
            "Example 8\n",
            "Source: We have the museum, two churches, the spa gardens, the bus stop, a doctor's practice and a bank, not to mention the traffic from the 'Grub' residential area.\n",
            "Reference: Wir haben das Museum, zwei Kirchen, Kurpark, die Bushaltestelle, einen Arzt und eine Bank sowie den Verkehrsfluss aus dem Wohngebiet ›Grub‹.\n",
            "MarianMT: Wir haben das Museum, zwei Kirchen, die Kurgärten, die Bushaltestelle, eine Arztpraxis und eine Bank, ganz zu schweigen von dem Verkehr aus dem 'Grub' Wohngebiet.\n",
            "M2M100:  Wir haben das Museum, zwei Kirchen, die Spa-Gärten, die Bushaltestelle, eine Arztpraxis und eine Bank, um nicht zu erwähnen, den Verkehr aus der \"Grub\" Wohngebiet.\n"
          ]
        },
        {
          "name": "stderr",
          "output_type": "stream",
          "text": [
            "\rEvaluating samples:   9%|▉         | 9/100 [00:08<01:32,  1.02s/it]"
          ]
        },
        {
          "name": "stdout",
          "output_type": "stream",
          "text": [
            "\n",
            "Example 9\n",
            "Source: \"At times of high road and pedestrian traffic, an additional set of lights were required to ensure safety,\" said Eckert.\n",
            "Reference: \"Bei dem hohen Verkehrs- und Fußgängeraufkommen musste zu deren Sicherheit eine weitere Ampel her\", so Eckert.\n",
            "MarianMT: \"In Zeiten des hohen Straßen- und Fußgängerverkehrs waren zusätzliche Lichter erforderlich, um die Sicherheit zu gewährleisten\", sagte Eckert.\n",
            "M2M100:  \"In Zeiten des Hochstraßen- und Fußgängerverkehrs wurde ein zusätzliches Set von Lichter benötigt, um die Sicherheit zu gewährleisten\", sagte Eckert.\n"
          ]
        },
        {
          "name": "stderr",
          "output_type": "stream",
          "text": [
            "\rEvaluating samples:  10%|█         | 10/100 [00:08<01:17,  1.16it/s]"
          ]
        },
        {
          "name": "stdout",
          "output_type": "stream",
          "text": [
            "\n",
            "Example 10\n",
            "Source: This was also confirmed by Peter Arnold from the Offenburg District Office.\n",
            "Reference: Dies bestätigt auch Peter Arnold vom Landratsamt Offenburg.\n",
            "MarianMT: Dies wurde auch von Peter Arnold vom Amtsbezirk Offenburg bestätigt.\n",
            "M2M100:  Das bestätigte auch Peter Arnold vom Offenburg District Office.\n"
          ]
        },
        {
          "name": "stderr",
          "output_type": "stream",
          "text": [
            "\rEvaluating samples:  11%|█         | 11/100 [00:10<01:26,  1.03it/s]"
          ]
        },
        {
          "name": "stdout",
          "output_type": "stream",
          "text": [
            "\n",
            "Example 11\n",
            "Source: \"According to current measurements, around 12,000 vehicles travel through the town of Gutach on the B33 on a daily basis, of which heavy goods traffic accounts for around ten per cent,\" emphasised Arnold.\n",
            "Reference: \"Laut aktuellen Messungen durchfahren auf der B 33 täglich etwa 12 000 Fahrzeuge die Gemeinde Gutach, davon sind etwa zehn Prozent Schwerlastverkehr\", betont Arnold.\n",
            "MarianMT: \"Nach aktuellen Messungen fahren täglich rund 12.000 Fahrzeuge auf der B33 durch die Stadt Gutach, von denen der Schwerlastverkehr rund zehn Prozent ausmacht\", betonte Arnold.\n",
            "M2M100:  \"Nach den aktuellen Messungen reisen rund 12.000 Fahrzeuge durch die Stadt Gutach auf dem B33 täglich, von denen schweres Güterverkehr etwa zehn Prozent beträgt\", betonte Arnold.\n"
          ]
        },
        {
          "name": "stderr",
          "output_type": "stream",
          "text": [
            "\rEvaluating samples:  12%|█▏        | 12/100 [00:11<01:34,  1.07s/it]"
          ]
        },
        {
          "name": "stdout",
          "output_type": "stream",
          "text": [
            "\n",
            "Example 12\n",
            "Source: Therefore the construction of an additional set of lights was more than necessary: \"Here safety comes first, it's that simple,\" said Arnold.\n",
            "Reference: Daher sei der Bau einer weiteren Ampel mehr als notwendig: \"Sicherheit geht hier einfach vor\", so Arnold.\n",
            "MarianMT: Deshalb war der Bau eines zusätzlichen Lichtersatzes mehr als notwendig: \"Hier kommt die Sicherheit an erster Stelle, so einfach ist es\", sagte Arnold.\n",
            "M2M100:  Daher war die Konstruktion eines zusätzlichen Lichts mehr als notwendig: \"Hier kommt die Sicherheit zuerst, es ist so einfach\", sagte Arnold.\n"
          ]
        },
        {
          "name": "stderr",
          "output_type": "stream",
          "text": [
            "\rEvaluating samples:  13%|█▎        | 13/100 [00:13<01:50,  1.27s/it]"
          ]
        },
        {
          "name": "stdout",
          "output_type": "stream",
          "text": [
            "\n",
            "Example 13\n",
            "Source: A total of four road safety inspections were carried out and a roundabout was also considered, however, this idea was rejected on account of the narrowness of the Sulzbachweg/Kirchstrasse junctions.\n",
            "Reference: Insgesamt seien vier Verkehrsschauen durchgeführt worden, auch ein Kreisverkehr wurde angedacht, allerdings wegen der Enge in dem Kreuzungsbereich Sulzbachweg/Kirchstraße wieder verworfen.\n",
            "MarianMT: Insgesamt wurden vier Verkehrssicherheitsinspektionen durchgeführt und auch ein Kreisverkehr in Betracht gezogen, der jedoch aufgrund der Enge der Kreuzungen Sulzbachweg/Kirchstraße abgelehnt wurde.\n",
            "M2M100:  Insgesamt wurden vier Straßensicherheitsinspektionen durchgeführt und ein Rundabout wurde ebenfalls berücksichtigt, jedoch wurde diese Idee aufgrund der engen Zusammenhänge der Sulzbachweg/Kirchstrasse abgelehnt.\n"
          ]
        },
        {
          "name": "stderr",
          "output_type": "stream",
          "text": [
            "\rEvaluating samples:  14%|█▍        | 14/100 [00:15<02:10,  1.52s/it]"
          ]
        },
        {
          "name": "stdout",
          "output_type": "stream",
          "text": [
            "\n",
            "Example 14\n",
            "Source: According to Arnold, every possible test was carried out prior to the selection of the location for the traffic light posts: \"Using a goods vehicle loaded with particularly long tree trunks, we also tested whether such vehicles could access the B 33 from the Sulzbachweg without knocking over the traffic light posts\".\n",
            "Reference: Es wurde laut Arnold bei der Standortwahl der Ampelmasten zuvor alles ausgetestet: \"Mittels eines extra für uns mit besonders langen Holzstämmen beladener Transporter haben wir ausgestestet, ob diese Fahrzeuge aus dem Sulzbachweg auf die B 33 ausfahren können, ohne den Ampelmasten umzuknicken\".\n",
            "MarianMT: Vor der Auswahl des Standorts für die Ampelpfosten wurde laut Arnold jeder mögliche Test durchgeführt: \"Mit einem mit besonders langen Baumstämmen beladenen Güterwagen haben wir auch getestet, ob solche Fahrzeuge vom Sulzbachweg aus auf die B 33 gelangen konnten, ohne die Ampelpfosten zu überfallen.\"\n",
            "M2M100:  Nach Angaben von Arnold wurden alle möglichen Tests vor der Auswahl der Lage für die Verkehrslichtposten durchgeführt: \"Mit einem Warenfahrzeug mit fast langen Baumstühlen geladen, haben wir auch getestet, ob solche Fahrzeuge die B 33 vom Sulzbachweg erreichen könnten, ohne über die Verkehrslichtposten zu klopfen.\"\n"
          ]
        },
        {
          "name": "stderr",
          "output_type": "stream",
          "text": [
            "\rEvaluating samples:  15%|█▌        | 15/100 [00:16<01:55,  1.35s/it]"
          ]
        },
        {
          "name": "stdout",
          "output_type": "stream",
          "text": [
            "\n",
            "Example 15\n",
            "Source: The traffic light system itself, which cost around EUR 15,000, is the \"most modern system that is currently available on the market,\" explained Arnold.\n",
            "Reference: Die rund 15 000 Euro teure Ampelanlage selbst ist das \"modernste, was es derzeit auf dem Markt gibt\", erläuterte Arnold.\n",
            "MarianMT: Das rund 15.000 Euro teure Ampelsystem selbst ist das \"modernste System, das derzeit auf dem Markt verfügbar ist\", erklärt Arnold.\n",
            "M2M100:  Das Verkehrslichtsystem selbst, das rund 15.000 Euro kostet, ist \"das modernste System, das derzeit auf dem Markt verfügbar ist\", erklärte Arnold.\n"
          ]
        },
        {
          "name": "stderr",
          "output_type": "stream",
          "text": [
            "\rEvaluating samples:  16%|█▌        | 16/100 [00:17<01:46,  1.27s/it]"
          ]
        },
        {
          "name": "stdout",
          "output_type": "stream",
          "text": [
            "\n",
            "Example 16\n",
            "Source: The system is fitted with coloured LEDs, which are bright enough that drivers can easily see the lights, even when the sun is low in the sky.\n",
            "Reference: Die Anlage ist mit farbigen LEDs ausgestattet, die so kräftig leuchten, dass die Lichter von den Autofahrern beispielsweise auch bei tiefstehender Sonne gut zu erkennen sind.\n",
            "MarianMT: Das System ist mit farbigen LEDs ausgestattet, die hell genug sind, dass die Fahrer die Lichter leicht sehen können, auch wenn die Sonne am Himmel niedrig ist.\n",
            "M2M100:  Das System ist mit farbigen LEDs ausgestattet, die klar genug sind, damit Fahrer die Lichter leicht sehen können, auch wenn die Sonne im Himmel niedrig ist.\n"
          ]
        },
        {
          "name": "stderr",
          "output_type": "stream",
          "text": [
            "\rEvaluating samples:  17%|█▋        | 17/100 [00:18<01:34,  1.14s/it]"
          ]
        },
        {
          "name": "stdout",
          "output_type": "stream",
          "text": [
            "\n",
            "Example 17\n",
            "Source: And they are also energy-efficient: The older light systems consume around 100 Watts, with the new ones consuming just eight.\n",
            "Reference: Und sparsam ist sie auch: Die älteren Lichtanlagen verbrauchen etwa 100 Watt, die neuen gerade mal acht Watt.\n",
            "MarianMT: Und sie sind auch energieeffizient: Die älteren Lichtsysteme verbrauchen rund 100 Watt, die neuen nur acht.\n",
            "M2M100:  Und sie sind auch energieeffizient: Die älteren Lichtsysteme verbrauchen rund 100 Watt, die neuen verbrauchen nur acht.\n"
          ]
        },
        {
          "name": "stderr",
          "output_type": "stream",
          "text": [
            "\rEvaluating samples:  18%|█▊        | 18/100 [00:18<01:15,  1.09it/s]"
          ]
        },
        {
          "name": "stdout",
          "output_type": "stream",
          "text": [
            "\n",
            "Example 18\n",
            "Source: There are three sets of lights per direction of travel.\n",
            "Reference: Pro Fahrtrichtung gibt es drei Lichtanlagen.\n",
            "MarianMT: Es gibt drei Lichtersätze pro Fahrtrichtung.\n",
            "M2M100:  Es gibt drei Sätze von Lichter pro Reiseziel.\n"
          ]
        },
        {
          "name": "stderr",
          "output_type": "stream",
          "text": [
            "\rEvaluating samples:  19%|█▉        | 19/100 [00:19<01:09,  1.16it/s]"
          ]
        },
        {
          "name": "stdout",
          "output_type": "stream",
          "text": [
            "\n",
            "Example 19\n",
            "Source: Arnold explained the technology used by the new system: It is fitted with two radar sensors.\n",
            "Reference: Arnold erklärte die Technik der neuen Anlage: Diese ist mit zwei Radarsensoren ausgestattet.\n",
            "MarianMT: Arnold erläuterte die Technologie des neuen Systems: Es ist mit zwei Radarsensoren ausgestattet.\n",
            "M2M100:  Arnold erklärte die von dem neuen System verwendete Technologie: Es ist mit zwei Radar-Sensoren ausgestattet.\n"
          ]
        },
        {
          "name": "stderr",
          "output_type": "stream",
          "text": [
            "\rEvaluating samples:  20%|██        | 20/100 [00:20<01:09,  1.15it/s]"
          ]
        },
        {
          "name": "stdout",
          "output_type": "stream",
          "text": [
            "\n",
            "Example 20\n",
            "Source: If the pedestrian presses the button at the traffic lights, the top radar sensor checks the traffic status.\n",
            "Reference: Drückt der Fußgänger den Ampelknopf, testet der obere Radarsensor die Verkehrslage.\n",
            "MarianMT: Wenn der Fußgänger die Taste an der Ampel drückt, überprüft der obere Radarsensor den Verkehrszustand.\n",
            "M2M100:  Wenn der Fußgänger den Button bei den Verkehrslicht drückt, überprüft der obere Radar-Sensor den Verkehrsstatus.\n"
          ]
        },
        {
          "name": "stderr",
          "output_type": "stream",
          "text": [
            "\rEvaluating samples:  21%|██        | 21/100 [00:21<01:11,  1.11it/s]"
          ]
        },
        {
          "name": "stdout",
          "output_type": "stream",
          "text": [
            "\n",
            "Example 21\n",
            "Source: If the street is clear, the pedestrian obtains a green light immediately, if not, there is a delay of around 15 seconds.\n",
            "Reference: Ist die Straße frei, kommt unmittelbar Grün für den Fußgänger, wenn nicht, dauert es etwa 15 Sekunden.\n",
            "MarianMT: Wenn die Straße frei ist, erhält der Fußgänger sofort ein grünes Licht, wenn nicht, gibt es eine Verzögerung von etwa 15 Sekunden.\n",
            "M2M100:  Wenn die Straße klar ist, erhält der Fußgänger sofort ein grünes Licht, wenn nicht, gibt es eine Verzögerung von ca. 15 Sekunden.\n"
          ]
        },
        {
          "name": "stderr",
          "output_type": "stream",
          "text": [
            "\rEvaluating samples:  22%|██▏       | 22/100 [00:21<01:06,  1.16it/s]"
          ]
        },
        {
          "name": "stdout",
          "output_type": "stream",
          "text": [
            "\n",
            "Example 22\n",
            "Source: An additional radar sensor checks whether the green phase for the pedestrian can be ended.\n",
            "Reference: Ein weiteres Radarsensor prüft, ob die Grünphase für den Fußgänger beendet werden kann.\n",
            "MarianMT: Ein zusätzlicher Radarsensor prüft, ob die grüne Phase für den Fußgänger beendet werden kann.\n",
            "M2M100:  Ein zusätzlicher Radar-Sensor überprüft, ob die grüne Phase für den Fußgänger abgeschlossen werden kann.\n"
          ]
        },
        {
          "name": "stderr",
          "output_type": "stream",
          "text": [
            "\rEvaluating samples:  23%|██▎       | 23/100 [00:23<01:21,  1.06s/it]"
          ]
        },
        {
          "name": "stdout",
          "output_type": "stream",
          "text": [
            "\n",
            "Example 23\n",
            "Source: \"If a group of people or if disabled persons are crossing the street, the green phase is extended, thus ensuring that everyone gets safely across the street,\" explained Arnold.\n",
            "Reference: \"Sollte eine Gruppe oder gehbehinderte Menschen über die Straße gehen, wird die Grünphase verlängert, es kommt also jeder sicher über die Fahrbahn\", erklärte Arnold.\n",
            "MarianMT: \"Wenn eine Gruppe von Menschen oder behinderte Menschen die Straße überqueren, wird die grüne Phase verlängert und so sichergestellt, dass alle sicher über die Straße kommen\", erklärte Arnold.\n",
            "M2M100:  \"Wenn eine Gruppe von Menschen oder Menschen mit Behinderungen die Straße überschreiten, wird die grüne Phase erweitert, um sicherzustellen, dass alle sicher über die Straße kommen\", erklärte Arnold.\n"
          ]
        },
        {
          "name": "stderr",
          "output_type": "stream",
          "text": [
            "\rEvaluating samples:  24%|██▍       | 24/100 [00:24<01:14,  1.01it/s]"
          ]
        },
        {
          "name": "stdout",
          "output_type": "stream",
          "text": [
            "\n",
            "Example 24\n",
            "Source: Of course, drivers must also play their part and keep their eyes on the road.\n",
            "Reference: Natürlich müsse der Autofahrer hier als Partner mitdenken und die Fahrbahn beobachten.\n",
            "MarianMT: Selbstverständlich müssen die Fahrer auch ihren Teil dazu beitragen und die Straße im Auge behalten.\n",
            "M2M100:  Selbstverständlich müssen Fahrer auch ihre Rolle spielen und ihre Augen auf der Straße halten.\n"
          ]
        },
        {
          "name": "stderr",
          "output_type": "stream",
          "text": [
            "\rEvaluating samples:  25%|██▌       | 25/100 [00:25<01:17,  1.03s/it]"
          ]
        },
        {
          "name": "stdout",
          "output_type": "stream",
          "text": [
            "\n",
            "Example 25\n",
            "Source: Yesterday this was not the case: The light had barely turned green for pedestrians when a luxury vehicle sped through on a red light.\n",
            "Reference: Dies war gestern nicht der Fall: Kaum zeigte die Ampel für Fußgänger grün, rauschte ein Oberklasse-Fahrzeug durch - bei leuchtendem Rot.\n",
            "MarianMT: Gestern war das nicht der Fall: Das Licht war für Fußgänger kaum grün geworden, als ein Luxusfahrzeug an einer roten Ampel durchfuhr.\n",
            "M2M100:  Gestern war dies nicht der Fall: Das Licht war kaum für Fußgänger grün geworden, als ein luxuriöses Fahrzeug auf einem roten Licht durchspann.\n"
          ]
        },
        {
          "name": "stderr",
          "output_type": "stream",
          "text": [
            "\rEvaluating samples:  26%|██▌       | 26/100 [00:26<01:10,  1.04it/s]"
          ]
        },
        {
          "name": "stdout",
          "output_type": "stream",
          "text": [
            "\n",
            "Example 26\n",
            "Source: For more than 30 years, Josef Winkler has been writing from the heart, telling of the hardships of his childhood and youth.\n",
            "Reference: Josef Winkler schreibt sich seit mehr als 30 Jahren die Nöte seiner Kindheit und Jugend von der Seele.\n",
            "MarianMT: Seit mehr als 30 Jahren schreibt Josef Winkler aus dem Herzen und erzählt von den Härten seiner Kindheit und Jugend.\n",
            "M2M100:  Seit mehr als 30 Jahren schreibt Josef Winkler aus dem Herzen über die Schwierigkeiten seiner Kindheit und Jugend.\n"
          ]
        },
        {
          "name": "stderr",
          "output_type": "stream",
          "text": [
            "\rEvaluating samples:  27%|██▋       | 27/100 [00:27<01:25,  1.17s/it]"
          ]
        },
        {
          "name": "stdout",
          "output_type": "stream",
          "text": [
            "\n",
            "Example 27\n",
            "Source: The catastrophes of his Catholic village upbringing - the speechlessness, his tendency towards brute force and dulled sexuality, the confinement and lack of joy - all of this has been described many times by the Kaernten-born poet.\n",
            "Reference: Die Katastrophen seiner katholischen Dorfkindheit - die Sprachlosigkeit, der Hang zu roher Gewalt und stumpfer Sexualität, die Enge und Freudlosigkeit - hat der Kärntner Dichter vielfach beschrieben.\n",
            "MarianMT: Die Katastrophen seiner katholischen Dorfaufzucht - die Sprachlosigkeit, seine Tendenz zu brutaler Gewalt und abgestumpfter Sexualität, die Eingeschränktheit und das Fehlen von Freude - das alles hat der in Kaernten geborene Dichter schon oft beschrieben.\n",
            "M2M100:  Die Katastrophen seines katholischen Dorfes - seine Sprachlosigkeit, seine Tendenz zu brutaler Gewalt und verrückter Sexualität, die Begrenzung und Mangel an Freude - all dies wurde mehrmals von dem Kaernten-geborenen Dichter beschrieben.\n"
          ]
        },
        {
          "name": "stderr",
          "output_type": "stream",
          "text": [
            "\rEvaluating samples:  28%|██▊       | 28/100 [00:28<01:19,  1.10s/it]"
          ]
        },
        {
          "name": "stdout",
          "output_type": "stream",
          "text": [
            "\n",
            "Example 28\n",
            "Source: The Büchner prizewinner is known primarily as a writer of prose, with theatre texts something of a rarity for him.\n",
            "Reference: Bekannt ist der Büchner-Preisträger vor allem als Prosaautor, Theatertexte sind in seinem Werk rar.\n",
            "MarianMT: Der Büchner-Preisträger ist vor allem als Prosaautor bekannt, mit Theatertexten für ihn eine Seltenheit.\n",
            "M2M100:  Der Büchner Prizewinner ist hauptsächlich als Proza-Schriftsteller bekannt, mit Theatertexten etwas seltenes für ihn.\n"
          ]
        },
        {
          "name": "stderr",
          "output_type": "stream",
          "text": [
            "\rEvaluating samples:  29%|██▉       | 29/100 [00:30<01:34,  1.33s/it]"
          ]
        },
        {
          "name": "stdout",
          "output_type": "stream",
          "text": [
            "\n",
            "Example 29\n",
            "Source: In a collage of prose texts For his performance piece, \"Wetterleuchten auf der Zungenspitze\" (Summer lightning on the tip of your tongue), which can now be seen in Garage X on Petersplatz, Gerhard Fresacher ,creates a collage of prose texts.\n",
            "Reference: Collage aus Prosatexten Gerhard Fresacher stellt für seine Aufführung \"Wetterleuchten auf der Zungenspitze\", die nun in der Garage X am Petersplatz zu sehen ist, daher eine Collage aus Prosatexten zusammen.\n",
            "MarianMT: In einer Collage aus Prosatexten Für sein Performancestück \"Wetterleuchten auf der Zungenspitze\", das nun in Garage X am Petersplatz, Gerhard Fresacher, zu sehen ist, entsteht eine Collage aus Prosatexten.\n",
            "M2M100:  In einer Kollage von Prose-Texten Für sein Ausstellungsstück, \"Wetterleuchten auf der Zungenspitze\" (Summerlicht am Spitze deiner Zunge), die jetzt in Garage X auf Petersplatz, Gerhard Fresacher gesehen werden kann, schafft eine Kollage von Prose-Texten.\n"
          ]
        },
        {
          "name": "stderr",
          "output_type": "stream",
          "text": [
            "\rEvaluating samples:  30%|███       | 30/100 [00:32<01:42,  1.47s/it]"
          ]
        },
        {
          "name": "stdout",
          "output_type": "stream",
          "text": [
            "\n",
            "Example 30\n",
            "Source: The theatre producer has thus combined elements from the autobiographically inspired novel \"Der Leibeigene\" (1987) [The Bondsman] featuring prose miniatures from \"Leichnam, seine Familie belauernd\" (2003) [Corpse, stalking his family].\n",
            "Reference: Der Theatermacher verbindet etwa Elemente aus dem autobiografisch geprägten Roman \"Der Leibeigene\" (1987) mit Prosaminiaturen aus \"Leichnam, seine Familie belauernd\" (2003).\n",
            "MarianMT: So hat der Theaterproduzent Elemente aus dem autobiografisch inspirierten Roman \"Der Leibigene\" (1987) [Der Bondsman] mit Prosa-Miniaturen aus \"Leihnam, seine Familie belauernd\" (2003) [Corpse, stalkt seine Familie] kombiniert.\n",
            "M2M100:  Der Theaterproduzenten hat so Elemente aus dem autobiographisch inspirierten Roman \"Der Leibeigene\" (1987) [The Bondsman] mit prozen Miniaturen aus \"Leichnam, seine Familie belauernd\" (2003) [Corpse, stalking seine Familie].\n"
          ]
        },
        {
          "name": "stderr",
          "output_type": "stream",
          "text": [
            "\rEvaluating samples:  31%|███       | 31/100 [00:33<01:42,  1.49s/it]"
          ]
        },
        {
          "name": "stdout",
          "output_type": "stream",
          "text": [
            "\n",
            "Example 31\n",
            "Source: On the predominantly empty stage - with one important requirement: a crumpled sofa, on which cast members allude to copulating and masturbating - the eight-person ensemble work their way through the text material.\n",
            "Reference: Auf der weitgehend leergeräumten Bühne - wichtiges Requisit: ein zerknautschtes Sofa, auf dem andeutungsweise kopuliert und masturbiert wird - hangelt sich das achtköpfige Ensemble durch das Textmaterial.\n",
            "MarianMT: Auf der überwiegend leeren Bühne - mit einer wichtigen Anforderung: einem zerknitterten Sofa, auf dem die Besetzungsmitglieder auf Kopulieren und Masturbieren anspielen - arbeitet sich das achtköpfige Ensemble durch das Textmaterial aus.\n",
            "M2M100:  In der überwiegend leeren Phase - mit einer wichtigen Anforderung: einem zerbrochenen Sofa, auf dem die Kastenmitglieder auf Kopulation und Masturbation hinweisen - arbeitet das achtpersönliche Ensemble durch das Textmaterial.\n"
          ]
        },
        {
          "name": "stderr",
          "output_type": "stream",
          "text": [
            "\rEvaluating samples:  32%|███▏      | 32/100 [00:34<01:22,  1.21s/it]"
          ]
        },
        {
          "name": "stdout",
          "output_type": "stream",
          "text": [
            "\n",
            "Example 32\n",
            "Source: However, Director Fresacher seems to have little trust in the text.\n",
            "Reference: Dabei scheint Regisseur Fresacher dem Text wenig zu vertrauen.\n",
            "MarianMT: Allerdings scheint Direktor Fresacher wenig Vertrauen in den Text zu haben.\n",
            "M2M100:  Der Regisseur Fresacher scheint jedoch wenig Vertrauen in den Text zu haben.\n"
          ]
        },
        {
          "name": "stderr",
          "output_type": "stream",
          "text": [
            "\rEvaluating samples:  33%|███▎      | 33/100 [00:35<01:26,  1.29s/it]"
          ]
        },
        {
          "name": "stdout",
          "output_type": "stream",
          "text": [
            "\n",
            "Example 33\n",
            "Source: The 70-minute performance glosses over the script with a host of director's additions, well-known from the repertoire of post-dramatic theatrical styles.\n",
            "Reference: Die 70-minütige Performance übertüncht die Vorlage mit einer Fülle an Regieeinfällen, bekannt aus dem Repertoire postdramatischer Spielformen.\n",
            "MarianMT: Die 70-minütige Performance glänzt über das Drehbuch mit einer Vielzahl von Regisseur-Zusätzen, die aus dem Repertoire der postdramatischen Theaterstile bekannt sind.\n",
            "M2M100:  Die 70-minütige Performance glänzt über das Szenario mit einer Reihe von Regisseur-Additionen, bekannt aus dem Repertoire von postdramatischen Theaterstilen.\n"
          ]
        },
        {
          "name": "stderr",
          "output_type": "stream",
          "text": [
            "\rEvaluating samples:  34%|███▍      | 34/100 [00:36<01:16,  1.16s/it]"
          ]
        },
        {
          "name": "stdout",
          "output_type": "stream",
          "text": [
            "\n",
            "Example 34\n",
            "Source: In particular, the actresses play a major role in the sometimes rather dubious staging.\n",
            "Reference: Vor allem die Schauspielerinnen kommen bei den mitunter etwas fragwürdigen szenischen Umsetzungen dran.\n",
            "MarianMT: Insbesondere spielen die Schauspielerinnen eine wichtige Rolle in der manchmal eher zweifelhaften Inszenierung.\n",
            "M2M100:  Insbesondere spielen die Schauspieler eine wichtige Rolle in der manchmal ziemlich zweifelhaften Stage.\n"
          ]
        },
        {
          "name": "stderr",
          "output_type": "stream",
          "text": [
            "\rEvaluating samples:  35%|███▌      | 35/100 [00:37<01:08,  1.06s/it]"
          ]
        },
        {
          "name": "stdout",
          "output_type": "stream",
          "text": [
            "\n",
            "Example 35\n",
            "Source: They are manhandled, their heads held under water, tacked to the wall by their evening gowns.\n",
            "Reference: Sie werden hart angefasst, mit dem Kopf unter Wasser getaucht, mit ihren Abendroben an die Wand getackert.\n",
            "MarianMT: Sie werden mit Handgriffen behandelt, ihre Köpfe unter Wasser gehalten, durch ihre Abendkleider an die Wand geheftet.\n",
            "M2M100:  Sie sind gehandelt, ihre Köpfe unter Wasser gehalten, mit ihren Abendgötzen an die Wand berührt.\n"
          ]
        },
        {
          "name": "stderr",
          "output_type": "stream",
          "text": [
            "\rEvaluating samples:  36%|███▌      | 36/100 [00:38<01:14,  1.16s/it]"
          ]
        },
        {
          "name": "stdout",
          "output_type": "stream",
          "text": [
            "\n",
            "Example 36\n",
            "Source: Wrapped in cellophane or in girdles, they stumble on dangerously high heels across the set, either delivering monologues at the top of their voices or lying completely silent on the stage.\n",
            "Reference: Eingezwängt in Zellophan oder Mieder, staksen sie auf gefährlich hohen Stöckeln durch die Inszenierung, entweder monologisieren sie lautstark oder liegen völlig verstummt auf dem Bühnenboden.\n",
            "MarianMT: Gewickelt in Cellophan oder in Gürteln stolpern sie auf gefährlich hohen Fersen über das Set und liefern entweder Monologe an der Spitze ihrer Stimmen oder liegen völlig still auf der Bühne.\n",
            "M2M100:  Gefüllt in Zellophane oder in Gärten, trinken sie auf gefährlich hohen Hellen über den Set, entweder liefern Monologen an der Spitze ihrer Stimmen oder liegen völlig still auf der Bühne.\n"
          ]
        },
        {
          "name": "stderr",
          "output_type": "stream",
          "text": [
            "\rEvaluating samples:  37%|███▋      | 37/100 [00:39<01:01,  1.03it/s]"
          ]
        },
        {
          "name": "stdout",
          "output_type": "stream",
          "text": [
            "\n",
            "Example 37\n",
            "Source: However, the source text makes barely any reference to this intense delivery.\n",
            "Reference: Der Text vermittelt sich auf diese angestrengte Weise jedoch kaum.\n",
            "MarianMT: Der Quelltext nimmt jedoch kaum Bezug auf diese intensive Lieferung.\n",
            "M2M100:  Allerdings macht der Quelltext kaum einen Hinweis auf diese intensive Lieferung.\n"
          ]
        },
        {
          "name": "stderr",
          "output_type": "stream",
          "text": [
            "\rEvaluating samples:  38%|███▊      | 38/100 [00:40<00:59,  1.04it/s]"
          ]
        },
        {
          "name": "stdout",
          "output_type": "stream",
          "text": [
            "\n",
            "Example 38\n",
            "Source: The best moments of the evening is when the singing starts - tracks range from Deep Purple to traditional folk songs.\n",
            "Reference: Die besten Momente hat der Abend, wenn gesungen wird - die Bandbreite reicht von Deep Purple bis zu volkstümlichem Liedgut.\n",
            "MarianMT: Die besten Momente des Abends sind, wenn der Gesang beginnt - Tracks reichen von Deep Purple bis zu traditionellen Volksliedern.\n",
            "M2M100:  Die besten Momente des Abendes sind, wenn das Lied beginnt - Spuren variieren von Deep Purple bis zu traditionellen Folk-Songs.\n"
          ]
        },
        {
          "name": "stderr",
          "output_type": "stream",
          "text": [
            "\rEvaluating samples:  39%|███▉      | 39/100 [00:41<00:57,  1.06it/s]"
          ]
        },
        {
          "name": "stdout",
          "output_type": "stream",
          "text": [
            "\n",
            "Example 39\n",
            "Source: Only towards the end does the highly charged performance start to wind down, and we see flashes of Winkler's somewhat absurd sense of humour.\n",
            "Reference: Erst gegen Ende kommt die überdrehte Aufführung etwas zur Ruhe, und Winklers nachgerade absurder Humor blitzt auf.\n",
            "MarianMT: Erst gegen Ende beginnt die hochaufgeladene Performance zu sinken, und wir sehen Blitze von Winklers etwas absurdem Sinn für Humor.\n",
            "M2M100:  Nur am Ende beginnt die hoch belastete Leistung, und wir sehen Blätter des etwas absurden Humorgefühls von Winkler.\n"
          ]
        },
        {
          "name": "stderr",
          "output_type": "stream",
          "text": [
            "\rEvaluating samples:  40%|████      | 40/100 [00:41<00:46,  1.30it/s]"
          ]
        },
        {
          "name": "stdout",
          "output_type": "stream",
          "text": [
            "\n",
            "Example 40\n",
            "Source: A black box in your car?\n",
            "Reference: Eine Blackbox im Auto?\n",
            "MarianMT: Eine Blackbox in deinem Auto?\n",
            "M2M100:  Eine schwarze Box in deinem Auto?\n"
          ]
        },
        {
          "name": "stderr",
          "output_type": "stream",
          "text": [
            "\rEvaluating samples:  41%|████      | 41/100 [00:43<00:59,  1.01s/it]"
          ]
        },
        {
          "name": "stdout",
          "output_type": "stream",
          "text": [
            "\n",
            "Example 41\n",
            "Source: As America's road planners struggle to find the cash to mend a crumbling highway system, many are beginning to see a solution in a little black box that fits neatly by the dashboard of your car.\n",
            "Reference: US-amerikanische Straßenplaner sind auf der Suche nach einer Geldquelle, um das verfallende Highway-System zu reparieren, und glauben die Lösung in einem kleinen schwarzen Kasten gefunden zu haben, der im Armaturenbrett jedes Autos Platz findet.\n",
            "MarianMT: Da Amerikas Roadplaner kämpfen, um das Geld zu finden, um ein zerfallendes Autobahnsystem zu reparieren, beginnen viele, eine Lösung in einer kleinen schwarzen Box zu sehen, die ordentlich durch das Armaturenbrett Ihres Autos passt.\n",
            "M2M100:  Während amerikanische Straßenplaner kämpfen, um das Geld zu finden, um ein zerbrechendes Highway-System zu finden, beginnen viele, eine Lösung in einer kleinen schwarzen Kiste zu sehen, die sich sorgfältig an das Dashboard Ihres Autos passt.\n"
          ]
        },
        {
          "name": "stderr",
          "output_type": "stream",
          "text": [
            "\rEvaluating samples:  42%|████▏     | 42/100 [00:45<01:11,  1.23s/it]"
          ]
        },
        {
          "name": "stdout",
          "output_type": "stream",
          "text": [
            "\n",
            "Example 42\n",
            "Source: The devices, which track every mile a motorist drives and transmit that information to bureaucrats, are at the center of a controversial attempt in Washington and state planning offices to overhaul the outdated system for funding America's major roads.\n",
            "Reference: Die Geräte, die jeden gefahrenen Kilometer aufzeichnen und die Informationen an die Behörden melden, sind Kernpunkt eines kontroversen Versuchs von Washington und den Planungsbüros der Bundesstaaten, das veraltete System zur Finanzierung US-amerikanischer Straßen zu überarbeiten.\n",
            "MarianMT: Die Geräte, die jede Meile ein Autofahrer fährt und diese Informationen an Bürokraten weiterleitet, stehen im Zentrum eines umstrittenen Versuchs in Washington und in den staatlichen Planungsbüros, das veraltete System zur Finanzierung der großen Straßen Amerikas zu überarbeiten.\n",
            "M2M100:  Die Geräte, die jede Meile einen Autofahrer verfolgen und diese Informationen an Bürokraten übertragen, befinden sich im Zentrum eines kontroversiellen Versuchs in Washington und staatlichen Planungsstellen, das veraltete System für die Finanzierung der großen Straßen Amerikas zu überdenken.\n"
          ]
        },
        {
          "name": "stderr",
          "output_type": "stream",
          "text": [
            "\rEvaluating samples:  43%|████▎     | 43/100 [00:45<01:03,  1.12s/it]"
          ]
        },
        {
          "name": "stdout",
          "output_type": "stream",
          "text": [
            "\n",
            "Example 43\n",
            "Source: The usually dull arena of highway planning has suddenly spawned intense debate and colorful alliances.\n",
            "Reference: Das normalerweise eher langweilige Gebiet der Straßenplanung hat plötzlich eine intensive Debatte mit bunten Allianzen entfacht.\n",
            "MarianMT: Die meist langweilige Arena der Autobahnplanung hat plötzlich intensive Debatten und bunte Allianzen ausgelöst.\n",
            "M2M100:  Die gewöhnlich dülle Arena der Autobahnplanung hat plötzlich intensive Debatte und farbige Allianzen ausgelöst.\n"
          ]
        },
        {
          "name": "stderr",
          "output_type": "stream",
          "text": [
            "\rEvaluating samples:  44%|████▍     | 44/100 [00:47<01:18,  1.41s/it]"
          ]
        },
        {
          "name": "stdout",
          "output_type": "stream",
          "text": [
            "\n",
            "Example 44\n",
            "Source: Libertarians have joined environmental groups in lobbying to allow government to use the little boxes to keep track of the miles you drive, and possibly where you drive them - then use the information to draw up a tax bill.\n",
            "Reference: Libertäre haben sich mit Umweltgruppen verbündet und sprechen sich dafür aus, dass die Regierung die kleinen Boxen zum Aufzeichnen der gefahrenen Kilometer – und möglicherweise auch, wo sie gefahren wurden – verwenden und die Informationen dann für die Berechnung von Steuerbescheiden einsetzen kann.\n",
            "MarianMT: Libertarians haben Umweltgruppen in Lobbying, um die Regierung zu ermöglichen, die kleinen Boxen zu verwenden, um den Überblick über die Meilen, die Sie fahren, und möglicherweise, wo Sie sie fahren - dann verwenden Sie die Informationen, um eine Steuerrechnung zu erstellen.\n",
            "M2M100:  Libertarians haben sich mit Umweltgruppen in Lobbying verbunden, um die Regierung zu ermöglichen, die kleinen Kisten zu verwenden, um die Meilen zu verfolgen, die Sie fahren, und möglicherweise, wo Sie sie fahren - dann verwenden Sie die Informationen, um eine Steuerrechnung zu erstellen.\n"
          ]
        },
        {
          "name": "stderr",
          "output_type": "stream",
          "text": [
            "\rEvaluating samples:  45%|████▌     | 45/100 [00:48<01:01,  1.13s/it]"
          ]
        },
        {
          "name": "stdout",
          "output_type": "stream",
          "text": [
            "\n",
            "Example 45\n",
            "Source: The tea party is aghast.\n",
            "Reference: Die Tea Party ist entsetzt.\n",
            "MarianMT: Die Teeparty ist eklig.\n",
            "M2M100:  Die Teeparty ist Aghast.\n"
          ]
        },
        {
          "name": "stderr",
          "output_type": "stream",
          "text": [
            "\rEvaluating samples:  46%|████▌     | 46/100 [00:49<00:56,  1.05s/it]"
          ]
        },
        {
          "name": "stdout",
          "output_type": "stream",
          "text": [
            "\n",
            "Example 46\n",
            "Source: The American Civil Liberties Union is deeply concerned, too, raising a variety of privacy issues.\n",
            "Reference: Die amerikanische Bürgerrechtsvereinigung (ACLU) ist ebenfalls zutiefst besorgt und äußert eine Reihe von Datenschutzbedenken.\n",
            "MarianMT: Auch die amerikanische Union für bürgerliche Freiheiten ist zutiefst besorgt und wirft eine Vielzahl von Fragen der Privatsphäre auf.\n",
            "M2M100:  Die American Civil Liberties Union ist auch tief besorgt, eine Vielzahl von Privatsphäre-Problemen zu erheben.\n"
          ]
        },
        {
          "name": "stderr",
          "output_type": "stream",
          "text": [
            "\rEvaluating samples:  47%|████▋     | 47/100 [00:50<00:50,  1.06it/s]"
          ]
        },
        {
          "name": "stdout",
          "output_type": "stream",
          "text": [
            "\n",
            "Example 47\n",
            "Source: And while Congress can't agree on whether to proceed, several states are not waiting.\n",
            "Reference: Doch während man sich im Kongress nicht auf ein Vorgehen einigen kann, warten mehrere Bundesstaaten nicht länger.\n",
            "MarianMT: Und während sich der Kongress nicht einigen kann, ob er fortfahren soll, warten mehrere Staaten nicht.\n",
            "M2M100:  Und während der Kongress nicht einig ist, ob es fortgesetzt werden soll, warten mehrere Staaten nicht.\n"
          ]
        },
        {
          "name": "stderr",
          "output_type": "stream",
          "text": [
            "\rEvaluating samples:  48%|████▊     | 48/100 [00:51<00:52,  1.01s/it]"
          ]
        },
        {
          "name": "stdout",
          "output_type": "stream",
          "text": [
            "\n",
            "Example 48\n",
            "Source: They are exploring how, over the next decade, they can move to a system in which drivers pay per mile of road they roll over.\n",
            "Reference: Sie prüfen derzeit, wie sie im Laufe der nächsten zehn Jahre zu einem System wechseln können, bei dem Fahrer pro gefahrener Meile bezahlen.\n",
            "MarianMT: Sie erforschen, wie sie in den nächsten zehn Jahren zu einem System übergehen können, in dem die Fahrer pro Kilometer Straße zahlen, über die sie fahren.\n",
            "M2M100:  Sie untersuchen, wie sie in den kommenden Jahrzehnten zu einem System wechseln können, in dem Fahrer pro Meile von der Straße bezahlen, über die sie rollen.\n"
          ]
        },
        {
          "name": "stderr",
          "output_type": "stream",
          "text": [
            "\rEvaluating samples:  49%|████▉     | 49/100 [00:52<00:50,  1.01it/s]"
          ]
        },
        {
          "name": "stdout",
          "output_type": "stream",
          "text": [
            "\n",
            "Example 49\n",
            "Source: Thousands of motorists have already taken the black boxes, some of which have GPS monitoring, for a test drive.\n",
            "Reference: Tausende von Autofahrern haben die Fahrtenschreiber, von denen einige mit GPS-Überwachung ausgestattet sind, bereits getestet.\n",
            "MarianMT: Tausende von Autofahrern haben bereits die Black Boxen, von denen einige GPS-Monitoring haben, für eine Testfahrt genommen.\n",
            "M2M100:  Tausende Autofahrer haben bereits die schwarzen Kisten, von denen einige GPS-Monitoring haben, für eine Testdrive genommen.\n"
          ]
        },
        {
          "name": "stderr",
          "output_type": "stream",
          "text": [
            "\rEvaluating samples:  50%|█████     | 50/100 [00:52<00:40,  1.25it/s]"
          ]
        },
        {
          "name": "stdout",
          "output_type": "stream",
          "text": [
            "\n",
            "Example 50\n",
            "Source: This really is a must for our nation.\n",
            "Reference: Das ist wirklich ein Muss für unser Land.\n",
            "MarianMT: Das ist wirklich ein Muss für unsere Nation.\n",
            "M2M100:  Das ist wirklich eine Notwendigkeit für unsere Nation.\n"
          ]
        },
        {
          "name": "stderr",
          "output_type": "stream",
          "text": [
            "\rEvaluating samples:  51%|█████     | 51/100 [00:54<00:52,  1.08s/it]"
          ]
        },
        {
          "name": "stdout",
          "output_type": "stream",
          "text": [
            "\n",
            "Example 51\n",
            "Source: \"It is not a matter of something we might choose to do,\" said Hasan Ikhrata, executive director of the Southern California Assn. of Governments, which is planning for the state to start tracking miles driven by every California motorist by 2025.\n",
            "Reference: „Es ist nichts, das wir nur möglicherweise verwenden werden“, sagte Hasan Ikhrata, Geschäftsführer der Southern California Assn. of Governments, die eine Aufzeichnung der gefahrenen Meilen bei allen kalifornischen Autofahrern im Bundesstaat ab 2025 plant.\n",
            "MarianMT: \"Es ist keine Angelegenheit von etwas, das wir vielleicht zu tun,\" sagte Hasan Ikhrata, Exekutivdirektor der Südkalifornischen Assn. der Regierungen, die für den Staat plant, um zu starten Tracking Meilen von jedem kalifornischen Autofahrer bis 2025 angetrieben.\n",
            "M2M100:  \"Es ist keine Angelegenheit von etwas, was wir sich entscheiden könnten\", sagte Hasan Ikhrata, Geschäftsführer der Southern California Assn. of Governments, die für den Staat planen, bis 2025 die von jedem Kalifornischen Autofahrer geleiteten Meilen zu verfolgen.\n"
          ]
        },
        {
          "name": "stderr",
          "output_type": "stream",
          "text": [
            "\rEvaluating samples:  52%|█████▏    | 52/100 [00:54<00:45,  1.07it/s]"
          ]
        },
        {
          "name": "stdout",
          "output_type": "stream",
          "text": [
            "\n",
            "Example 52\n",
            "Source: There is going to be a change in how we pay these taxes.\n",
            "Reference: Die Art und Weise, wie wir diese Steuern zahlen, wird sich verändern.\n",
            "MarianMT: Es wird sich ändern, wie wir diese Steuern zahlen.\n",
            "M2M100:  Es wird eine Änderung in der Art und Weise geben, wie wir diese Steuern bezahlen.\n"
          ]
        },
        {
          "name": "stderr",
          "output_type": "stream",
          "text": [
            "\rEvaluating samples:  53%|█████▎    | 53/100 [00:55<00:36,  1.30it/s]"
          ]
        },
        {
          "name": "stdout",
          "output_type": "stream",
          "text": [
            "\n",
            "Example 53\n",
            "Source: The technology is there to do it.\n",
            "Reference: Die Technologie dafür ist da.\n",
            "MarianMT: Die Technologie ist da, um es zu tun.\n",
            "M2M100:  Die Technologie ist da, um das zu tun.\n"
          ]
        },
        {
          "name": "stderr",
          "output_type": "stream",
          "text": [
            "\rEvaluating samples:  54%|█████▍    | 54/100 [00:56<00:39,  1.17it/s]"
          ]
        },
        {
          "name": "stdout",
          "output_type": "stream",
          "text": [
            "\n",
            "Example 54\n",
            "Source: The push comes as the country's Highway Trust Fund, financed with taxes Americans pay at the gas pump, is broke.\n",
            "Reference: Die Initiative kommt zu einem Zeitpunkt, da der Highway Trust Fund, der aus den Steuern finanziert wird, die US-Amerikaner an der Zapfsäule entrichten, pleite ist.\n",
            "MarianMT: Der Druck kommt, da der Highway Trust Fund des Landes, finanziert mit Steuern, die Amerikaner an der Gaspumpe zahlen, pleite ist.\n",
            "M2M100:  Der Druck kommt, als der Highway Trust Fund des Landes, der mit Steuern finanziert wird, die Amerikaner an der Gaspumpe bezahlen, gebrochen wird.\n"
          ]
        },
        {
          "name": "stderr",
          "output_type": "stream",
          "text": [
            "\rEvaluating samples:  55%|█████▌    | 55/100 [00:56<00:33,  1.33it/s]"
          ]
        },
        {
          "name": "stdout",
          "output_type": "stream",
          "text": [
            "\n",
            "Example 55\n",
            "Source: Americans don't buy as much gas as they used to.\n",
            "Reference: Doch in Amerika wird nicht mehr so viel getankt wie früher.\n",
            "MarianMT: Amerikaner kaufen nicht mehr so viel Gas wie früher.\n",
            "M2M100:  Die Amerikaner kaufen nicht so viel Gas, wie sie es gewohnt haben.\n"
          ]
        },
        {
          "name": "stderr",
          "output_type": "stream",
          "text": [
            "\rEvaluating samples:  56%|█████▌    | 56/100 [00:57<00:28,  1.55it/s]"
          ]
        },
        {
          "name": "stdout",
          "output_type": "stream",
          "text": [
            "\n",
            "Example 56\n",
            "Source: Cars get many more miles to the gallon.\n",
            "Reference: Autos verbrauchen weniger Benzin.\n",
            "MarianMT: Autos bringen noch viele Kilometer bis zur Gallone.\n",
            "M2M100:  Autos bekommen viele weitere Meilen zum Galon.\n"
          ]
        },
        {
          "name": "stderr",
          "output_type": "stream",
          "text": [
            "\rEvaluating samples:  57%|█████▋    | 57/100 [00:57<00:27,  1.54it/s]"
          ]
        },
        {
          "name": "stdout",
          "output_type": "stream",
          "text": [
            "\n",
            "Example 57\n",
            "Source: The federal tax itself, 18.4 cents per gallon, hasn't gone up in 20 years.\n",
            "Reference: Die staatliche Mineralölsteuer von 18,4 Cent pro Gallone (weniger als 4 Eurocent pro Liter) ist seit 20 Jahren nicht gestiegen.\n",
            "MarianMT: Die Bundessteuer selbst, 18,4 Cent pro Gallone, ist seit 20 Jahren nicht mehr gestiegen.\n",
            "M2M100:  Der Bundessteuer selbst, 18,4 Cent pro Galon, hat in 20 Jahren nicht gestiegen.\n"
          ]
        },
        {
          "name": "stderr",
          "output_type": "stream",
          "text": [
            "\rEvaluating samples:  58%|█████▊    | 58/100 [00:58<00:28,  1.46it/s]"
          ]
        },
        {
          "name": "stdout",
          "output_type": "stream",
          "text": [
            "\n",
            "Example 58\n",
            "Source: Politicians are loath to raise the tax even one penny when gas prices are high.\n",
            "Reference: Politiker wagen bei hohen Spritpreisen nicht, die Steuer auch nur um einen Cent anzuheben.\n",
            "MarianMT: Politiker sind abscheulich, die Steuer sogar einen Pfennig zu erhöhen, wenn die Gaspreise hoch sind.\n",
            "M2M100:  Die Politiker sind bereit, die Steuern sogar ein Pfund zu erhöhen, wenn die Gaspreise hoch sind.\n"
          ]
        },
        {
          "name": "stderr",
          "output_type": "stream",
          "text": [
            "\rEvaluating samples:  59%|█████▉    | 59/100 [00:59<00:33,  1.21it/s]"
          ]
        },
        {
          "name": "stdout",
          "output_type": "stream",
          "text": [
            "\n",
            "Example 59\n",
            "Source: \"The gas tax is just not sustainable,\" said Lee Munnich, a transportation policy expert at the University of Minnesota.\n",
            "Reference: „Die Benzinsteuer ist einfach nicht zukunftsfähig“, so Lee Munnich, ein Experte für Verkehrsgesetzgebung an der Universität von Minnesota.\n",
            "MarianMT: \"Die Gassteuer ist einfach nicht nachhaltig\", sagte Lee Munnich, ein Experte für Transportpolitik an der University of Minnesota.\n",
            "M2M100:  \"Der Gassteuer ist einfach nicht nachhaltig\", sagte Lee Munnich, Transportpolitik-Experte an der University of Minnesota.\n"
          ]
        },
        {
          "name": "stderr",
          "output_type": "stream",
          "text": [
            "\rEvaluating samples:  60%|██████    | 60/100 [01:00<00:37,  1.07it/s]"
          ]
        },
        {
          "name": "stdout",
          "output_type": "stream",
          "text": [
            "\n",
            "Example 60\n",
            "Source: His state recently put tracking devices on 500 cars to test out a pay-by-mile system.\n",
            "Reference: Sein Bundesstaat hat kürzlich 500 Autos mit Fahrtenschreibern ausgerüstet, mit denen ein meilenbasiertes Bezahlsystem getestet werden soll.\n",
            "MarianMT: Sein Staat hat kürzlich Überwachungsgeräte auf 500 Autos gesetzt, um ein Pay-by-Mile-System auszuprobieren.\n",
            "M2M100:  Sein Staat setzte kürzlich Tracking-Geräte auf 500 Autos ein, um ein Pay-by-Mile-System zu testen.\n"
          ]
        },
        {
          "name": "stderr",
          "output_type": "stream",
          "text": [
            "\rEvaluating samples:  61%|██████    | 61/100 [01:01<00:32,  1.19it/s]"
          ]
        },
        {
          "name": "stdout",
          "output_type": "stream",
          "text": [
            "\n",
            "Example 61\n",
            "Source: \"This works out as the most logical alternative over the long term,\" he said.\n",
            "Reference: „Das stellt die langfristig sinnvollste Alternative dar“, sagte er.\n",
            "MarianMT: \"Das funktioniert als die logischste Alternative auf lange Sicht\", sagte er.\n",
            "M2M100:  \"Dies funktioniert als die logischste Alternative auf lange Sicht\", sagte er.\n"
          ]
        },
        {
          "name": "stderr",
          "output_type": "stream",
          "text": [
            "\rEvaluating samples:  62%|██████▏   | 62/100 [01:02<00:27,  1.36it/s]"
          ]
        },
        {
          "name": "stdout",
          "output_type": "stream",
          "text": [
            "\n",
            "Example 62\n",
            "Source: Wonks call it a mileage-based user fee.\n",
            "Reference: Bürokraten bezeichnen es als meilenbasierte Benutzergebühr.\n",
            "MarianMT: Wonks nennen es eine kilometerbasierte Nutzergebühr.\n",
            "M2M100:  Wonks nennt es eine mileage-basierte Benutzergebühr.\n"
          ]
        },
        {
          "name": "stderr",
          "output_type": "stream",
          "text": [
            "\rEvaluating samples:  63%|██████▎   | 63/100 [01:03<00:37,  1.01s/it]"
          ]
        },
        {
          "name": "stdout",
          "output_type": "stream",
          "text": [
            "\n",
            "Example 63\n",
            "Source: It is no surprise that the idea appeals to urban liberals, as the taxes could be rigged to change driving patterns in ways that could help reduce congestion and greenhouse gases, for example.\n",
            "Reference: Es überrascht nicht, dass die Idee bei städtischen Liberalen Anklang findet, denn die Steuer ließe sich beispielsweise dazu einsetzen, das Fahrverhalten so zu beeinflussen, dass Staus und klimaschädliche Abgase reduziert werden.\n",
            "MarianMT: Es ist nicht verwunderlich, dass die Idee an die Stadtliberalen appelliert, da die Steuern manipuliert werden könnten, um die Fahrmuster auf eine Weise zu ändern, die zum Beispiel zu einer Verringerung von Staus und Treibhausgasen beitragen könnte.\n",
            "M2M100:  Es ist keine Überraschung, dass sich die Idee an städtische Liberale wendet, da die Steuern auf die Veränderung der Fahrmuster auf Wege gestrichen werden könnten, die zum Beispiel die Belastung und Treibhausgase verringern könnten.\n"
          ]
        },
        {
          "name": "stderr",
          "output_type": "stream",
          "text": [
            "\rEvaluating samples:  64%|██████▍   | 64/100 [01:04<00:37,  1.04s/it]"
          ]
        },
        {
          "name": "stdout",
          "output_type": "stream",
          "text": [
            "\n",
            "Example 64\n",
            "Source: California planners are looking to the system as they devise strategies to meet the goals laid out in the state's ambitious global warming laws.\n",
            "Reference: Die kalifornischen Planer setzen auf das System bei der Ausarbeitung von Strategien, mit denen die ambitionierten, gesetzlich verankerten Ziele des Bundesstaats zum Klimawandel erreicht werden sollen.\n",
            "MarianMT: Die kalifornischen Planer schauen auf das System, wenn sie Strategien entwickeln, um die Ziele zu erreichen, die in den ehrgeizigen Gesetzen des Staates über die globale Erwärmung festgelegt sind.\n",
            "M2M100:  Kalifornien-Planer suchen nach dem System, da sie Strategien entwickeln, um die Ziele der ambitionierten globalen Wärmegesetze des Staates zu erfüllen.\n"
          ]
        },
        {
          "name": "stderr",
          "output_type": "stream",
          "text": [
            "\rEvaluating samples:  65%|██████▌   | 65/100 [01:05<00:38,  1.09s/it]"
          ]
        },
        {
          "name": "stdout",
          "output_type": "stream",
          "text": [
            "\n",
            "Example 65\n",
            "Source: But Rep. Bill Shuster (R-Pa.), chairman of the House Transportation Committee, has said he, too, sees it as the most viable long-term alternative.\n",
            "Reference: Doch der Republikaner Bill Shuster aus Pennsylvania, Vorsitzender des House Transportation Committee, hat ebenfalls erklärt, dass er darin die gangbarste langfristige Alternative sehe.\n",
            "MarianMT: Aber Rep. Bill Shuster (R-Pa.), Vorsitzender des House Transportation Committee, hat gesagt, er, auch, sieht es als die lebensfähigste langfristige Alternative.\n",
            "M2M100:  Aber Rep. Bill Shuster (R-Pa), Vorsitzender des Transportkomitees des Hauses, hat gesagt, er sieht es auch als die lebensfähigste langfristige Alternative.\n"
          ]
        },
        {
          "name": "stderr",
          "output_type": "stream",
          "text": [
            "\rEvaluating samples:  66%|██████▌   | 66/100 [01:06<00:33,  1.01it/s]"
          ]
        },
        {
          "name": "stdout",
          "output_type": "stream",
          "text": [
            "\n",
            "Example 66\n",
            "Source: The free marketeers at the Reason Foundation are also fond of having drivers pay per mile.\n",
            "Reference: Auch die freien Vermarkter der Reason Foundation sind von der Idee angetan, Fahrer nach zurückgelegter Strecke zahlen zu lassen.\n",
            "MarianMT: Die freien Vermarkter bei der Reason Foundation sind auch gerne mit Fahrer zahlen pro Meile.\n",
            "M2M100:  Die freien Händler der Reason Foundation sind auch begeistert, dass Fahrer pro Meile bezahlt werden.\n"
          ]
        },
        {
          "name": "stderr",
          "output_type": "stream",
          "text": [
            "\rEvaluating samples:  67%|██████▋   | 67/100 [01:07<00:31,  1.03it/s]"
          ]
        },
        {
          "name": "stdout",
          "output_type": "stream",
          "text": [
            "\n",
            "Example 67\n",
            "Source: \"This is not just a tax going into a black hole,\" said Adrian Moore, vice president of policy at Reason.\n",
            "Reference: „Das ist keine Steuer, die in einem schwarzen Loch verschwindet“, erklärt Adrian Moore, Vizepräsident für Richtlinien bei Reason.\n",
            "MarianMT: \"Das ist nicht nur eine Steuer, die in ein schwarzes Loch geht\", sagte Adrian Moore, Vizepräsident der Politik bei Reason.\n",
            "M2M100:  \"Das ist nicht nur eine Steuer, die in einen schwarzen Loch geht\", sagte Adrian Moore, Vizepräsident von Reason.\n"
          ]
        },
        {
          "name": "stderr",
          "output_type": "stream",
          "text": [
            "\rEvaluating samples:  68%|██████▊   | 68/100 [01:08<00:25,  1.24it/s]"
          ]
        },
        {
          "name": "stdout",
          "output_type": "stream",
          "text": [
            "\n",
            "Example 68\n",
            "Source: People are paying more directly into what they are getting.\n",
            "Reference: Die Leute bezahlen direkt für das, was sie bekommen.\n",
            "MarianMT: Die Menschen zahlen mehr direkt in das, was sie bekommen.\n",
            "M2M100:  Die Menschen bezahlen mehr direkt in das, was sie erhalten.\n"
          ]
        },
        {
          "name": "stderr",
          "output_type": "stream",
          "text": [
            "\rEvaluating samples:  69%|██████▉   | 69/100 [01:09<00:30,  1.01it/s]"
          ]
        },
        {
          "name": "stdout",
          "output_type": "stream",
          "text": [
            "\n",
            "Example 69\n",
            "Source: The movement is also bolstered by two former U.S. Transportation secretaries, who in a 2011 report urged Congress to move in the pay-per-mile direction.\n",
            "Reference: Die Bewegung wird auch von zwei früheren amerikanischen Verkehrsministern unterstützt, die in einem Bericht im Jahr 2011 den Kongress aufgefordert hatten, sich in Richtung meilenbasierter Abrechnung zu bewegen.\n",
            "MarianMT: Die Bewegung wird auch durch zwei ehemalige U.S. Transportation Sekretäre, die in einem Bericht 2011 forderte den Kongress in die Pay-per-Mile-Richtung zu bewegen gestärkt.\n",
            "M2M100:  Die Bewegung wird auch von zwei ehemaligen US-Transport-Sekretären unterstützt, die in einem Bericht aus dem Jahr 2011 den Kongress aufgefordert haben, sich in der Zahlungs-per-Mile-Richtung zu bewegen.\n"
          ]
        },
        {
          "name": "stderr",
          "output_type": "stream",
          "text": [
            "\rEvaluating samples:  70%|███████   | 70/100 [01:10<00:29,  1.03it/s]"
          ]
        },
        {
          "name": "stdout",
          "output_type": "stream",
          "text": [
            "\n",
            "Example 70\n",
            "Source: The U.S. Senate approved a $90-million pilot project last year that would have involved about 10,000 cars.\n",
            "Reference: Der US-Senat genehmigte letztes Jahr ein 90 Millionen Dollar teures Pilotprojekt, das 10.000 Autos umfasst hätte.\n",
            "MarianMT: Der US-Senat genehmigte ein 90-Millionen-Dollar-Pilotprojekt im vergangenen Jahr, das etwa 10.000 Autos involviert hätte.\n",
            "M2M100:  Der US-Senat hat im vergangenen Jahr ein Pilotprojekt von 90 Millionen US-Dollar genehmigt, das etwa 10.000 Autos beteiligt hätte.\n"
          ]
        },
        {
          "name": "stderr",
          "output_type": "stream",
          "text": [
            "\rEvaluating samples:  71%|███████   | 71/100 [01:12<00:36,  1.26s/it]"
          ]
        },
        {
          "name": "stdout",
          "output_type": "stream",
          "text": [
            "\n",
            "Example 71\n",
            "Source: But the House leadership killed the proposal, acting on concerns of rural lawmakers representing constituents whose daily lives often involve logging lots of miles to get to work or into town.\n",
            "Reference: Doch die Mehrheit im Repräsentantenhaus verhinderte den Vorstoß und reagierte damit auf die Bedenken von Abgeordneten aus ländlichen Gebieten, die Menschen vertreten, die im Alltag oft viele Meilen auf dem Weg zur Arbeit oder in die Stadt zurücklegen müssen.\n",
            "MarianMT: Aber die Führung des Hauses tötete den Vorschlag und handelte auf Bedenken von ländlichen Gesetzgebern, die Wähler vertreten, deren tägliches Leben oft viele Meilen einschließt, um zur Arbeit oder in die Stadt zu gelangen.\n",
            "M2M100:  Aber die House Leadership tötete das Vorschlag und handelte auf die Sorgen von ländlichen Gesetzgebern, die Vertretern vertreten, deren tägliche Leben oft dazu beiträgt, viele Meilen zu gehen, um zur Arbeit oder in die Stadt zu kommen.\n"
          ]
        },
        {
          "name": "stderr",
          "output_type": "stream",
          "text": [
            "\rEvaluating samples:  72%|███████▏  | 72/100 [01:13<00:30,  1.07s/it]"
          ]
        },
        {
          "name": "stdout",
          "output_type": "stream",
          "text": [
            "\n",
            "Example 72\n",
            "Source: Several states and cities are nonetheless moving ahead on their own.\n",
            "Reference: Mehrere Bundesstaaten und Großstädte bewegen sich nichtsdestotrotz auf eigene Faust in diese Richtung.\n",
            "MarianMT: Mehrere Staaten und Städte bewegen sich jedoch auf eigene Faust voran.\n",
            "M2M100:  Viele Staaten und Städte bewegen sich selbst weiter.\n"
          ]
        },
        {
          "name": "stderr",
          "output_type": "stream",
          "text": [
            "\rEvaluating samples:  73%|███████▎  | 73/100 [01:13<00:26,  1.02it/s]"
          ]
        },
        {
          "name": "stdout",
          "output_type": "stream",
          "text": [
            "\n",
            "Example 73\n",
            "Source: The most eager is Oregon, which is enlisting 5,000 drivers in the country's biggest experiment.\n",
            "Reference: Am engagiertesten ist Oregon, das derzeit 5.000 Fahrer für das größte Experiment des Landes anwirbt.\n",
            "MarianMT: Am eifrigsten ist Oregon, das 5.000 Fahrer in das größte Experiment des Landes einlädt.\n",
            "M2M100:  Am meisten begeistert ist Oregon, das 5.000 Fahrer im größten Experiment des Landes aufnimmt.\n"
          ]
        },
        {
          "name": "stderr",
          "output_type": "stream",
          "text": [
            "\rEvaluating samples:  74%|███████▍  | 74/100 [01:14<00:22,  1.14it/s]"
          ]
        },
        {
          "name": "stdout",
          "output_type": "stream",
          "text": [
            "\n",
            "Example 74\n",
            "Source: Those drivers will soon pay the mileage fees instead of gas taxes to the state.\n",
            "Reference: Diese Fahrer werden bald die Meilengebühren statt der Mineralölsteuer an den Bundesstaat zahlen.\n",
            "MarianMT: Diese Fahrer werden bald die Kilometergebühren anstelle von Gassteuern an den Staat zahlen.\n",
            "M2M100:  Diese Fahrer werden bald die Meilensteuer anstelle von Gassteuern an den Staat bezahlen.\n"
          ]
        },
        {
          "name": "stderr",
          "output_type": "stream",
          "text": [
            "\rEvaluating samples:  75%|███████▌  | 75/100 [01:14<00:18,  1.38it/s]"
          ]
        },
        {
          "name": "stdout",
          "output_type": "stream",
          "text": [
            "\n",
            "Example 75\n",
            "Source: Nevada has already completed a pilot.\n",
            "Reference: Nevada hat bereits ein Pilotprojekt abgeschlossen.\n",
            "MarianMT: Nevada hat bereits einen Piloten absolviert.\n",
            "M2M100:  In Nevada ist bereits ein Pilot abgeschlossen.\n"
          ]
        },
        {
          "name": "stderr",
          "output_type": "stream",
          "text": [
            "\rEvaluating samples:  76%|███████▌  | 76/100 [01:15<00:14,  1.66it/s]"
          ]
        },
        {
          "name": "stdout",
          "output_type": "stream",
          "text": [
            "\n",
            "Example 76\n",
            "Source: New York City is looking into one.\n",
            "Reference: New York City erwägt ebenfalls ein solches.\n",
            "MarianMT: New York City sucht nach einem.\n",
            "M2M100:  New York City schaut auf einen.\n"
          ]
        },
        {
          "name": "stderr",
          "output_type": "stream",
          "text": [
            "\rEvaluating samples:  77%|███████▋  | 77/100 [01:15<00:12,  1.77it/s]"
          ]
        },
        {
          "name": "stdout",
          "output_type": "stream",
          "text": [
            "\n",
            "Example 77\n",
            "Source: Illinois is trying it on a limited basis with trucks.\n",
            "Reference: Illinois testet es in eingeschränktem Maße mit Lkws.\n",
            "MarianMT: Illinois versucht es auf einer begrenzten Basis mit LKWs.\n",
            "M2M100:  Illinois versucht es auf einer begrenzten Basis mit Lastwagen.\n"
          ]
        },
        {
          "name": "stderr",
          "output_type": "stream",
          "text": [
            "\rEvaluating samples:  78%|███████▊  | 78/100 [01:17<00:18,  1.19it/s]"
          ]
        },
        {
          "name": "stdout",
          "output_type": "stream",
          "text": [
            "\n",
            "Example 78\n",
            "Source: And the I-95 Coalition, which includes 17 state transportation departments along the Eastern Seaboard (including Maryland, Pennsylvania, Virginia and Florida), is studying how they could go about implementing the change.\n",
            "Reference: Und die I-95-Koalition, zu der die Verkehrsministerien von 17 Bundesstaaten an der Ostküste gehören (einschließlich Maryland, Pennsylvania, Virginia und Florida), untersucht derzeit, wie man die Änderung einführen könnte.\n",
            "MarianMT: Und die I-95 Coalition, die 17 staatliche Transportabteilungen entlang der Eastern Seaboard (u.a. Maryland, Pennsylvania, Virginia und Florida) umfasst, untersucht, wie sie den Wandel umsetzen könnten.\n",
            "M2M100:  Und die I-95-Koalition, die 17 staatliche Verkehrsabteilungen enthält entlang der Ostsee (einschließlich Maryland, Pennsylvania, Virginia und Florida), untersucht, wie sie über die Umsetzung der Veränderung gehen könnten.\n"
          ]
        },
        {
          "name": "stderr",
          "output_type": "stream",
          "text": [
            "\rEvaluating samples:  79%|███████▉  | 79/100 [01:17<00:14,  1.45it/s]"
          ]
        },
        {
          "name": "stdout",
          "output_type": "stream",
          "text": [
            "\n",
            "Example 79\n",
            "Source: The concept is not a universal hit.\n",
            "Reference: Das Konzept ist kein universeller Hit.\n",
            "MarianMT: Das Konzept ist kein universeller Hit.\n",
            "M2M100:  Das Konzept ist kein universeller Hit.\n"
          ]
        },
        {
          "name": "stderr",
          "output_type": "stream",
          "text": [
            "\rEvaluating samples:  80%|████████  | 80/100 [01:18<00:16,  1.18it/s]"
          ]
        },
        {
          "name": "stdout",
          "output_type": "stream",
          "text": [
            "\n",
            "Example 80\n",
            "Source: In Nevada, where about 50 volunteers' cars were equipped with the devices not long ago, drivers were uneasy about the government being able to monitor their every move.\n",
            "Reference: In Nevada, wo vor kurzem 50 Freiwillige mit den Geräten ausgestattet wurden, waren Autofahrer skeptisch beim Gedanken, die Regierung könnte jede ihrer Bewegungen verfolgen.\n",
            "MarianMT: In Nevada, wo vor kurzem etwa 50 freiwillige Autos mit den Geräten ausgestattet waren, waren die Fahrer unruhig, dass die Regierung in der Lage war, jeden Schritt zu überwachen.\n",
            "M2M100:  In Nevada, wo die Autos von rund 50 Freiwilligen vor kurzem mit den Geräten ausgestattet waren, waren die Fahrer unruhig, dass die Regierung ihre Bewegungen überwachen kann.\n"
          ]
        },
        {
          "name": "stderr",
          "output_type": "stream",
          "text": [
            "\rEvaluating samples:  81%|████████  | 81/100 [01:19<00:18,  1.05it/s]"
          ]
        },
        {
          "name": "stdout",
          "output_type": "stream",
          "text": [
            "\n",
            "Example 81\n",
            "Source: \"Concerns about Big Brother and those sorts of things were a major problem,\" said Alauddin Khan, who directs strategic and performance management at the Nevada Department of Transportation.\n",
            "Reference: „Bedenken gegen Big Brother und derartige Dinge waren ein großes Problem“, erklärt Alauddin Khan, Leiter des Strategie- und Ergebnismanagements im Verkehrsministerium von Nevada.\n",
            "MarianMT: \"Bedenken über Big Brother und solche Dinge waren ein großes Problem\", sagte Alauddin Khan, der das strategische und Performance-Management im Verkehrsministerium von Nevada leitet.\n",
            "M2M100:  \"Konflikte über Big Brother und diese Arten von Dingen waren ein großes Problem\", sagte Alauddin Khan, der strategische und Leistungsmanagement am Nevada Department of Transport leitet.\n"
          ]
        },
        {
          "name": "stderr",
          "output_type": "stream",
          "text": [
            "\rEvaluating samples:  82%|████████▏ | 82/100 [01:20<00:14,  1.28it/s]"
          ]
        },
        {
          "name": "stdout",
          "output_type": "stream",
          "text": [
            "\n",
            "Example 82\n",
            "Source: It was not something people wanted.\n",
            "Reference: Die Leute wollten es nicht.\n",
            "MarianMT: Es war nicht etwas, was die Leute wollten.\n",
            "M2M100:  Das war nicht etwas, was die Leute wollten.\n"
          ]
        },
        {
          "name": "stderr",
          "output_type": "stream",
          "text": [
            "\rEvaluating samples:  83%|████████▎ | 83/100 [01:21<00:15,  1.11it/s]"
          ]
        },
        {
          "name": "stdout",
          "output_type": "stream",
          "text": [
            "\n",
            "Example 83\n",
            "Source: As the trial got underway, the ACLU of Nevada warned on its website: \"It would be fairly easy to turn these devices into full-fledged tracking devices.\"\n",
            "Reference: Als der Test anlief, warnte die ACLU von Nevada auf ihrer Website: „Es wäre relativ einfach, die Fahrtenschreiber in ausgewachsene Überwachungsgeräte zu verwandeln.“\n",
            "MarianMT: Als der Prozess begann, warnte die ACLU von Nevada auf ihrer Website: \"Es wäre ziemlich einfach, diese Geräte in vollwertige Tracking-Geräte zu verwandeln.\"\n",
            "M2M100:  Als das Verfahren fortging, warnte die ACLU von Nevada auf ihrer Website: \"Es wäre ziemlich einfach, diese Geräte in vollständige Tracking-Geräte zu verwandeln.\"\n"
          ]
        },
        {
          "name": "stderr",
          "output_type": "stream",
          "text": [
            "\rEvaluating samples:  84%|████████▍ | 84/100 [01:22<00:16,  1.02s/it]"
          ]
        },
        {
          "name": "stdout",
          "output_type": "stream",
          "text": [
            "\n",
            "Example 84\n",
            "Source: There is no need to build an enormous, unwieldy technological infrastructure that will inevitably be expanded to keep records of individuals' everyday comings and goings.\n",
            "Reference: Es bestehe keine Notwendigkeit, eine gigantische, sperrige technologische Infrastruktur aufzubauen, die unweigerlich dazu verwendet werden würde, Daten über die täglichen Bewegungen von Einzelpersonen zu erfassen.\n",
            "MarianMT: Es besteht keine Notwendigkeit, eine enorme, unhandliche technologische Infrastruktur aufzubauen, die zwangsläufig erweitert werden wird, um Aufzeichnungen über das alltägliche Kommen und Gehen von Individuen zu führen.\n",
            "M2M100:  Es besteht keine Notwendigkeit, eine riesige, unweite technologische Infrastruktur aufzubauen, die unvermeidlich erweitert wird, um Aufzeichnungen über die täglichen Kommen und Verläufe von Einzelpersonen zu halten.\n"
          ]
        },
        {
          "name": "stderr",
          "output_type": "stream",
          "text": [
            "\rEvaluating samples:  85%|████████▌ | 85/100 [01:24<00:18,  1.23s/it]"
          ]
        },
        {
          "name": "stdout",
          "output_type": "stream",
          "text": [
            "\n",
            "Example 85\n",
            "Source: Nevada is among several states now scrambling to find affordable technology that would allow the state to keep track of how many miles a car is being driven, but not exactly where and at what time.\n",
            "Reference: Nevada gehört zu einer Reihe von Bundesstaaten, die nun nach erschwinglicher Technologie Ausschau halten, mit der der Staat die gefahrenen Kilometer erfassen kann, aber nicht genau wann und wo.\n",
            "MarianMT: Nevada gehört zu mehreren Staaten, die jetzt nach erschwinglichen Technologien suchen, die es dem Staat ermöglichen würden, den Überblick darüber zu behalten, wie viele Meilen ein Auto gefahren wird, aber nicht genau wo und zu welchem Zeitpunkt.\n",
            "M2M100:  Nevada ist unter mehreren Staaten, die sich jetzt um eine erschwingliche Technologie suchen, die es dem Staat ermöglichen würde, wie viele Meilen ein Auto bewegen wird, aber nicht genau, wo und zu welchem Zeitpunkt.\n"
          ]
        },
        {
          "name": "stderr",
          "output_type": "stream",
          "text": [
            "\rEvaluating samples:  86%|████████▌ | 86/100 [01:25<00:15,  1.08s/it]"
          ]
        },
        {
          "name": "stdout",
          "output_type": "stream",
          "text": [
            "\n",
            "Example 86\n",
            "Source: If you can do that, Khan said, the public gets more comfortable.\n",
            "Reference: Damit, so Khan, wäre auch die Öffentlichkeit beruhigter.\n",
            "MarianMT: Wenn du das kannst, sagte Khan, wird es der Öffentlichkeit angenehmer.\n",
            "M2M100:  Wenn Sie das tun können, sagte Khan, wird die Öffentlichkeit komfortabler.\n"
          ]
        },
        {
          "name": "stderr",
          "output_type": "stream",
          "text": [
            "\rEvaluating samples:  87%|████████▋ | 87/100 [01:25<00:12,  1.00it/s]"
          ]
        },
        {
          "name": "stdout",
          "output_type": "stream",
          "text": [
            "\n",
            "Example 87\n",
            "Source: The hunt for that technology has led some state agencies to a small California startup called True Mileage.\n",
            "Reference: Die Jagd nach dieser Technologie hat einige Behörden zu einem kleinen Startup-Unternehmen namens True Mileage in Kalifornien geführt.\n",
            "MarianMT: Die Jagd nach dieser Technologie hat einige staatliche Agenturen zu einem kleinen kalifornischen Startup namens True Mileage geführt.\n",
            "M2M100:  Die Jagd für diese Technologie hat einige staatliche Agenturen zu einem kleinen kalifornischen Startup namens True Mileage geführt.\n"
          ]
        },
        {
          "name": "stderr",
          "output_type": "stream",
          "text": [
            "\rEvaluating samples:  88%|████████▊ | 88/100 [01:26<00:10,  1.14it/s]"
          ]
        },
        {
          "name": "stdout",
          "output_type": "stream",
          "text": [
            "\n",
            "Example 88\n",
            "Source: The firm was not originally in the business of helping states tax drivers.\n",
            "Reference: Die Firma ist ursprünglich nicht angetreten, um Bundesstaaten bei der Besteuerung von Autofahrern zu helfen.\n",
            "MarianMT: Das Unternehmen war ursprünglich nicht in der Lage, staatlichen Steuertreibern zu helfen.\n",
            "M2M100:  Das Unternehmen war ursprünglich nicht im Geschäft, um staatliche Steuerführer zu helfen.\n"
          ]
        },
        {
          "name": "stderr",
          "output_type": "stream",
          "text": [
            "\rEvaluating samples:  89%|████████▉ | 89/100 [01:27<00:09,  1.11it/s]"
          ]
        },
        {
          "name": "stdout",
          "output_type": "stream",
          "text": [
            "\n",
            "Example 89\n",
            "Source: It was seeking to break into an emerging market in auto insurance, in which drivers would pay based on their mileage.\n",
            "Reference: Vielmehr war es ihr Ziel, in einem aufstrebenden Markt für Kfz-Versicherungen Fuß zu fassen, bei denen Fahrer auf Grundlage der gefahrenen Meilen zahlen sollen.\n",
            "MarianMT: Es war zu versuchen, in einen aufstrebenden Markt in der Autoversicherung, in dem Fahrer zahlen würde auf der Grundlage ihrer Kilometerzahl brechen.\n",
            "M2M100:  Es versuchte, in einen wachsenden Markt in der Autoversicherung zu brechen, in dem Fahrer auf der Grundlage ihres Kilometers bezahlen würden.\n"
          ]
        },
        {
          "name": "stderr",
          "output_type": "stream",
          "text": [
            "\rEvaluating samples:  90%|█████████ | 90/100 [01:28<00:09,  1.01it/s]"
          ]
        },
        {
          "name": "stdout",
          "output_type": "stream",
          "text": [
            "\n",
            "Example 90\n",
            "Source: But the devices it is testing appeal to highway planners because they don't use GPS and deliver a limited amount of information, uploaded periodically by modem.\n",
            "Reference: Doch die von ihr getesteten Geräte sind auch für die Straßenplaner interessant, denn sie arbeiten nicht mit GPS und liefern nur begrenzte Informationen, die regelmäßig per Modem hochgeladen werden.\n",
            "MarianMT: Aber die Geräte, die es Test richtet sich an Autobahnplaner, weil sie nicht verwenden GPS und liefern eine begrenzte Menge an Informationen, die regelmäßig per Modem hochgeladen.\n",
            "M2M100:  Aber die Geräte, die es testet, ziehen auf Autobahnplaner, weil sie GPS nicht verwenden und eine begrenzte Menge an Informationen liefern, periodisch von Modem hochgeladen.\n"
          ]
        },
        {
          "name": "stderr",
          "output_type": "stream",
          "text": [
            "\rEvaluating samples:  91%|█████████ | 91/100 [01:29<00:09,  1.06s/it]"
          ]
        },
        {
          "name": "stdout",
          "output_type": "stream",
          "text": [
            "\n",
            "Example 91\n",
            "Source: \"People will be more willing to do this if you do not track their speed and you do not track their location,\" said Ryan Morrison, chief executive of True Mileage.\n",
            "Reference: „Die Leute sind eher bereit, sich daran zu beteiligen, wenn ihre Geschwindigkeit und Standorte nicht aufgezeichnet werden“, erklärte Ryan Morrison, Geschäftsführer von True Mileage.\n",
            "MarianMT: \"Die Menschen werden bereiter sein, dies zu tun, wenn Sie nicht verfolgen ihre Geschwindigkeit und Sie nicht verfolgen ihren Standort,\" sagte Ryan Morrison, Chief Executive von True Mileage.\n",
            "M2M100:  \"Menschen werden bereit sein, dies zu tun, wenn Sie ihre Geschwindigkeit nicht verfolgen und ihre Lage nicht verfolgen\", sagte Ryan Morrison, CEO von True Mileage.\n"
          ]
        },
        {
          "name": "stderr",
          "output_type": "stream",
          "text": [
            "\rEvaluating samples:  92%|█████████▏| 92/100 [01:30<00:07,  1.13it/s]"
          ]
        },
        {
          "name": "stdout",
          "output_type": "stream",
          "text": [
            "\n",
            "Example 92\n",
            "Source: There have been some big mistakes in some of these state pilot programs.\n",
            "Reference: In einigen dieser öffentlichen Pilotprogramme wurden große Fehler gemacht.\n",
            "MarianMT: Es gab einige große Fehler in einigen dieser staatlichen Pilotprogramme.\n",
            "M2M100:  Es gab einige große Fehler in einigen dieser staatlichen Pilotprogramme.\n"
          ]
        },
        {
          "name": "stderr",
          "output_type": "stream",
          "text": [
            "\rEvaluating samples:  93%|█████████▎| 93/100 [01:30<00:05,  1.28it/s]"
          ]
        },
        {
          "name": "stdout",
          "output_type": "stream",
          "text": [
            "\n",
            "Example 93\n",
            "Source: There are a lot less expensive and less intrusive ways to do this.\n",
            "Reference: Es gibt wesentlich billigere und weniger intrusive Möglichkeiten, dies umzusetzen.\n",
            "MarianMT: Es gibt viel weniger teure und weniger aufdringliche Möglichkeiten, dies zu tun.\n",
            "M2M100:  Es gibt viel teurer und weniger intrusive Möglichkeiten, dies zu tun.\n"
          ]
        },
        {
          "name": "stderr",
          "output_type": "stream",
          "text": [
            "\rEvaluating samples:  94%|█████████▍| 94/100 [01:31<00:04,  1.33it/s]"
          ]
        },
        {
          "name": "stdout",
          "output_type": "stream",
          "text": [
            "\n",
            "Example 94\n",
            "Source: In Oregon, planners are experimenting with giving drivers different choices.\n",
            "Reference: In Oregon experimentieren die Planer damit, Autofahrern eine Reihe von Auswahlmöglichkeiten zu geben.\n",
            "MarianMT: In Oregon experimentieren Planer mit Fahrern unterschiedlicher Wahlmöglichkeiten.\n",
            "M2M100:  In Oregon experimentieren Planner mit der Bereitstellung von Fahrern unterschiedlichen Entscheidungen.\n"
          ]
        },
        {
          "name": "stderr",
          "output_type": "stream",
          "text": [
            "\rEvaluating samples:  95%|█████████▌| 95/100 [01:32<00:03,  1.54it/s]"
          ]
        },
        {
          "name": "stdout",
          "output_type": "stream",
          "text": [
            "\n",
            "Example 95\n",
            "Source: They can choose a device with or without GPS.\n",
            "Reference: Sie können sich für ein Gerät mit oder ohne GPS entscheiden.\n",
            "MarianMT: Sie können ein Gerät mit oder ohne GPS wählen.\n",
            "M2M100:  Sie können ein Gerät mit oder ohne GPS wählen.\n"
          ]
        },
        {
          "name": "stderr",
          "output_type": "stream",
          "text": [
            "\rEvaluating samples:  96%|█████████▌| 96/100 [01:33<00:03,  1.15it/s]"
          ]
        },
        {
          "name": "stdout",
          "output_type": "stream",
          "text": [
            "\n",
            "Example 96\n",
            "Source: Or they can choose not to have a device at all, opting instead to pay a flat fee based on the average number of miles driven by all state residents.\n",
            "Reference: Oder sie wählen überhaupt kein Gerät und zahlen stattdessen eine Pauschalgebühr auf Grundlage der durchschnittlich von allen Einwohnern des Bundesstaates gefahrenen Meilen.\n",
            "MarianMT: Oder sie können sich dafür entscheiden, überhaupt kein Gerät zu haben und stattdessen eine Pauschalgebühr zu zahlen, die auf der durchschnittlichen Anzahl von Meilen basiert, die von allen Staatsbewohnern angetrieben wird.\n",
            "M2M100:  Oder sie können sich entscheiden, kein Gerät überhaupt zu haben, stattdessen eine Flachgebühr zu bezahlen, basierend auf der durchschnittlichen Anzahl von Meilen, die von allen Staatsbevölkern gedreht werden.\n"
          ]
        },
        {
          "name": "stderr",
          "output_type": "stream",
          "text": [
            "\rEvaluating samples:  97%|█████████▋| 97/100 [01:34<00:02,  1.16it/s]"
          ]
        },
        {
          "name": "stdout",
          "output_type": "stream",
          "text": [
            "\n",
            "Example 97\n",
            "Source: Other places are hoping to sell the concept to a wary public by having the devices do more, not less.\n",
            "Reference: Andere Stellen hoffen, das Konzept einer misstrauischen Öffentlichkeit verkaufen zu können, indem sie die Geräte mit mehr Funktionen ausstatten als mit wenigeren.\n",
            "MarianMT: Andere Orte hoffen, das Konzept an eine vorsichtige Öffentlichkeit zu verkaufen, indem sie die Geräte mehr tun, nicht weniger.\n",
            "M2M100:  Andere Orte hoffen, das Konzept an eine sorgfältige Öffentlichkeit zu verkaufen, indem die Geräte mehr, nicht weniger tun.\n"
          ]
        },
        {
          "name": "stderr",
          "output_type": "stream",
          "text": [
            "\rEvaluating samples:  98%|█████████▊| 98/100 [01:36<00:02,  1.43s/it]"
          ]
        },
        {
          "name": "stdout",
          "output_type": "stream",
          "text": [
            "\n",
            "Example 98\n",
            "Source: In New York City, transportation officials are seeking to develop a taxing device that would also be equipped to pay parking meter fees, provide \"pay-as-you-drive\" insurance, and create a pool of real-time speed data from other drivers that motorists could use to avoid traffic.\n",
            "Reference: In New York City wollen Verkehrsbeamte ein Gerät zur Besteuerung entwickeln, mit dem sich auch Parkgebühren bezahlen lassen, eine Versicherung nur für gefahrene Kilometer bezahlt werden muss und Geschwindigkeitsdaten von anderen Fahrzeugen in Echtzeit erhoben werden, dank derer Autofahrer Staus ausweichen können.\n",
            "MarianMT: In New York City versuchen Verkehrsbeamte, ein Steuergerät zu entwickeln, das auch ausgestattet wäre, um Parkgebühren zu bezahlen, eine \"Pay-as-you-drive\"-Versicherung anzubieten und einen Pool von Echtzeit-Geschwindigkeitsdaten von anderen Fahrern zu schaffen, die Autofahrer nutzen könnten, um den Verkehr zu vermeiden.\n",
            "M2M100:  In New York streben Verkehrsbeamte nach einem Steuergerät zu entwickeln, das auch zur Bezahlung von Parkmetergebühren ausgestattet sein würde, eine „pay-as-you-drive“ Versicherung zur Verfügung zu stellen und einen Pool von Geschwindigkeitsdaten in Echtzeit von anderen Fahrern zu erstellen, die Fahrer verwenden könnten, um den Verkehr zu vermeiden.\n"
          ]
        },
        {
          "name": "stderr",
          "output_type": "stream",
          "text": [
            "\rEvaluating samples:  99%|█████████▉| 99/100 [01:37<00:01,  1.29s/it]"
          ]
        },
        {
          "name": "stdout",
          "output_type": "stream",
          "text": [
            "\n",
            "Example 99\n",
            "Source: \"Motorists would be attracted to participate because of the value of the benefits it offers to them,\" says a city planning document.\n",
            "Reference: „Autofahrer würden durch den Mehrwert der Vorteile, die das System bietet, zur Teilnahme motiviert“, heißt es in einem Planungsdokument der Stadt.\n",
            "MarianMT: \"Motoren würden wegen des Werts der Vorteile, die sie ihnen bieten, angezogen werden, um teilzunehmen\", sagt ein Stadtplanungsdokument.\n",
            "M2M100:  \"Motoristen werden aufgrund des Wertes der Vorteile, die sie ihnen anbietet, angezogen werden\", heißt es in einem Stadtplanungsdokument.\n"
          ]
        },
        {
          "name": "stderr",
          "output_type": "stream",
          "text": [
            "Evaluating samples: 100%|██████████| 100/100 [01:38<00:00,  1.01it/s]"
          ]
        },
        {
          "name": "stdout",
          "output_type": "stream",
          "text": [
            "\n",
            "Example 100\n",
            "Source: Some transportation planners, though, wonder if all the talk about paying by the mile is just a giant distraction.\n",
            "Reference: Einige Verkehrsplaner fragen sich allerdings, ob das ganze Gerede über das Bezahlen pro Meile nicht nur ein riesiges Ablenkungsmanöver sei.\n",
            "MarianMT: Einige Verkehrsplaner fragen sich jedoch, ob der ganze Vortrag über das Bezahlen von der Meile nur eine riesige Ablenkung ist.\n",
            "M2M100:  Einige Transportplaner fragen sich jedoch, ob die ganze Rede über die Zahlung durch die Meile nur eine riesige Unterhaltung ist.\n"
          ]
        },
        {
          "name": "stderr",
          "output_type": "stream",
          "text": [
            "\n"
          ]
        }
      ],
      "source": [
        "# Store results\n",
        "records = []\n",
        "\n",
        "for i in tqdm(range(len(src_texts)), desc=\"Evaluating samples\"):\n",
        "    src, ref = src_texts[i], references[i]\n",
        "\n",
        "    # MarianMT translation\n",
        "    inputs = marian_tokenizer([src], return_tensors=\"pt\", padding=True, truncation=True).to(device)\n",
        "    outputs = marian_model.generate(**inputs, num_beams=4)\n",
        "    marian_translation = marian_tokenizer.batch_decode(outputs, skip_special_tokens=True)[0]\n",
        "\n",
        "    # M2M100 translation\n",
        "    m2m_tokenizer.src_lang = \"en\"\n",
        "    m2m_inputs = m2m_tokenizer(src, return_tensors=\"pt\").to(device)\n",
        "    forced_bos_token_id = m2m_tokenizer.get_lang_id(\"de\")\n",
        "    m2m_output = m2m_model.generate(**m2m_inputs, forced_bos_token_id=forced_bos_token_id)\n",
        "    m2m_translation = m2m_tokenizer.batch_decode(m2m_output, skip_special_tokens=True)[0]\n",
        "\n",
        "    # Compute metrics in batch style, one prediction and one reference wrapped in lists\n",
        "    marian_metrics = compute_metrics([marian_translation], [ref])\n",
        "    m2m_metrics = compute_metrics([m2m_translation], [ref])\n",
        "\n",
        "    metrics_names = [\"BLEU\", \"METEOR\", \"BERT Precision\", \"BERT Recall\", \"BERT F1\"]\n",
        "    for metric, mar_val, m2m_val in zip(metrics_names, marian_metrics, m2m_metrics):\n",
        "        records.append({\"Metric\": metric, \"Model\": \"MarianMT\", \"Score\": mar_val, \"Index\": i})\n",
        "        records.append({\"Metric\": metric, \"Model\": \"M2M100\", \"Score\": m2m_val, \"Index\": i})\n",
        "    # Print each example\n",
        "    print(f\"\\nExample {i+1}\")\n",
        "    print(f\"Source: {src}\")\n",
        "    print(f\"Reference: {ref}\")\n",
        "    print(f\"MarianMT: {marian_translation}\")\n",
        "    print(f\"M2M100:  {m2m_translation}\")"
      ]
    },
    {
      "cell_type": "code",
      "execution_count": 63,
      "metadata": {
        "colab": {
          "base_uri": "https://localhost:8080/",
          "height": 859
        },
        "id": "yuKic12c2eBa",
        "outputId": "120e80fa-a3aa-4b7c-f3b1-9d30f839b4bc"
      },
      "outputs": [
        {
          "name": "stderr",
          "output_type": "stream",
          "text": [
            "<ipython-input-63-3a97248bd7e7>:6: FutureWarning: \n",
            "\n",
            "The `ci` parameter is deprecated. Use `errorbar=None` for the same effect.\n",
            "\n",
            "  sns.barplot(data=df, x=\"Metric\", y=\"Score\", hue=\"Model\", ci=None)\n"
          ]
        },
        {
          "data": {
            "image/png": "[encoded data removed]",
            "text/plain": [
              "<Figure size 1400x700 with 1 Axes>"
            ]
          },
          "metadata": {},
          "output_type": "display_data"
        },
        {
          "name": "stdout",
          "output_type": "stream",
          "text": [
            "\n",
            "   Average Scores Across Examples \n",
            "Model             M2M100  MarianMT\n",
            "Metric                            \n",
            "BERT F1         0.835908  0.851838\n",
            "BERT Precision  0.834135  0.850481\n",
            "BERT Recall     0.838128  0.853662\n",
            "BLEU            0.114845  0.156430\n",
            "METEOR          0.459908  0.517341\n",
            "Most accurate metric: BERT F1\n",
            "\n",
            "BERT F1 balances precision and recall, rewarding translations that are both accurate and complete.\n",
            "Precision alone may favor concise but incomplete outputs,\n",
            "while recall alone may favor verbose but less precise outputs.\n",
            "For example:\n",
            "- MarianMT’s “Gutach: Mehr Sicherheit für Fußgänger” is concise but might miss some details.\n",
            "- M2M100’s “Gutach: Sicherheit für Fußgänger erhöht” adds details but slightly alters phrasing.\n",
            "Since translations vary in wording and detail, F1 better captures overall quality.\n",
            "\n"
          ]
        }
      ],
      "source": [
        "# Build DataFrame\n",
        "df = pd.DataFrame(records)\n",
        "\n",
        "# Plotting\n",
        "plt.figure(figsize=(14, 7))\n",
        "sns.barplot(data=df, x=\"Metric\", y=\"Score\", hue=\"Model\", ci=None)\n",
        "plt.title(\"Metric Comparison: MarianMT vs M2M100 \")\n",
        "plt.ylim(0, 1)\n",
        "plt.tight_layout()\n",
        "plt.show()\n",
        "\n",
        "# Final Metric Analysis\n",
        "avg_scores = df.groupby([\"Metric\", \"Model\"])[\"Score\"].mean().unstack()\n",
        "print(\"\\n   Average Scores Across Examples \")\n",
        "print(avg_scores)\n",
        "\n",
        "\n",
        "# Determine the most accurate metric\n",
        "avg_scores[\"Average\"] = avg_scores.mean(axis=1)\n",
        "best_metric_combined = avg_scores[\"Average\"].idxmax()\n",
        "if best_metric_combined != \"BERT F1\":\n",
        "  # If BERT F1 is very close (within 0.005) to the top metric, pick BERT F1 anyway because it balances precision and recall\n",
        "    top_score_combined = avg_scores[\"Average\"].max()\n",
        "    bert_f1_score_combined = avg_scores.loc[\"BERT F1\", \"Average\"]\n",
        "    if abs(top_score_combined - bert_f1_score_combined) < 0.005:\n",
        "        best_metric_combined = \"BERT F1\"\n",
        "\n",
        "print(f\"Most accurate metric: {best_metric_combined}\")\n",
        "\n",
        "if best_metric_combined == \"BERT F1\":\n",
        "    print(\"\"\"\n",
        "BERT F1 balances precision and recall, rewarding translations that are both accurate and complete.\n",
        "Precision alone may favor concise but incomplete outputs,\n",
        "while recall alone may favor verbose but less precise outputs.\n",
        "For example:\n",
        "- MarianMT’s “Gutach: Mehr Sicherheit für Fußgänger” is concise but might miss some details.\n",
        "- M2M100’s “Gutach: Sicherheit für Fußgänger erhöht” adds details but slightly alters phrasing.\n",
        "Since translations vary in wording and detail, F1 better captures overall quality.\n",
        "\"\"\")\n",
        "\n",
        "\n"
      ]
    }
  ],
  "metadata": {
    "accelerator": "GPU",
    "colab": {
      "gpuType": "T4",
      "provenance": []
    },
    "kernelspec": {
      "display_name": "Python 3",
      "name": "python3"
    },
    "language_info": {
      "name": "python"
    },
    "widgets": {
      "application/vnd.jupyter.widget-state+json": {
        "01ae2565bbdf41cc9151223eba233bdf": {
          "model_module": "@jupyter-widgets/base",
          "model_module_version": "1.2.0",
          "model_name": "LayoutModel",
          "state": {
            "_model_module": "@jupyter-widgets/base",
            "_model_module_version": "1.2.0",
            "_model_name": "LayoutModel",
            "_view_count": null,
            "_view_module": "@jupyter-widgets/base",
            "_view_module_version": "1.2.0",
            "_view_name": "LayoutView",
            "align_content": null,
            "align_items": null,
            "align_self": null,
            "border": null,
            "bottom": null,
            "display": null,
            "flex": null,
            "flex_flow": null,
            "grid_area": null,
            "grid_auto_columns": null,
            "grid_auto_flow": null,
            "grid_auto_rows": null,
            "grid_column": null,
            "grid_gap": null,
            "grid_row": null,
            "grid_template_areas": null,
            "grid_template_columns": null,
            "grid_template_rows": null,
            "height": null,
            "justify_content": null,
            "justify_items": null,
            "left": null,
            "margin": null,
            "max_height": null,
            "max_width": null,
            "min_height": null,
            "min_width": null,
            "object_fit": null,
            "object_position": null,
            "order": null,
            "overflow": null,
            "overflow_x": null,
            "overflow_y": null,
            "padding": null,
            "right": null,
            "top": null,
            "visibility": null,
            "width": null
          }
        },
        "0529637040e14820ac85deca5f50a5e9": {
          "model_module": "@jupyter-widgets/controls",
          "model_module_version": "1.5.0",
          "model_name": "FloatProgressModel",
          "state": {
            "_dom_classes": [],
            "_model_module": "@jupyter-widgets/controls",
            "_model_module_version": "1.5.0",
            "_model_name": "FloatProgressModel",
            "_view_count": null,
            "_view_module": "@jupyter-widgets/controls",
            "_view_module_version": "1.5.0",
            "_view_name": "ProgressView",
            "bar_style": "success",
            "description": "",
            "description_tooltip": null,
            "layout": "IPY_MODEL_fc634a791522435b83fe8ebe950fa6e5",
            "max": 7021,
            "min": 0,
            "orientation": "horizontal",
            "style": "IPY_MODEL_4e0179a5610046f48b5673fe5d4fcfb7",
            "value": 7021
          }
        },
        "0667b2df192342a7a119c811e9d78952": {
          "model_module": "@jupyter-widgets/controls",
          "model_module_version": "1.5.0",
          "model_name": "DescriptionStyleModel",
          "state": {
            "_model_module": "@jupyter-widgets/controls",
            "_model_module_version": "1.5.0",
            "_model_name": "DescriptionStyleModel",
            "_view_count": null,
            "_view_module": "@jupyter-widgets/base",
            "_view_module_version": "1.2.0",
            "_view_name": "StyleView",
            "description_width": ""
          }
        },
        "07948fb24fb4444f9d974928f0c4b0e8": {
          "model_module": "@jupyter-widgets/base",
          "model_module_version": "1.2.0",
          "model_name": "LayoutModel",
          "state": {
            "_model_module": "@jupyter-widgets/base",
            "_model_module_version": "1.2.0",
            "_model_name": "LayoutModel",
            "_view_count": null,
            "_view_module": "@jupyter-widgets/base",
            "_view_module_version": "1.2.0",
            "_view_name": "LayoutView",
            "align_content": null,
            "align_items": null,
            "align_self": null,
            "border": null,
            "bottom": null,
            "display": null,
            "flex": null,
            "flex_flow": null,
            "grid_area": null,
            "grid_auto_columns": null,
            "grid_auto_flow": null,
            "grid_auto_rows": null,
            "grid_column": null,
            "grid_gap": null,
            "grid_row": null,
            "grid_template_areas": null,
            "grid_template_columns": null,
            "grid_template_rows": null,
            "height": null,
            "justify_content": null,
            "justify_items": null,
            "left": null,
            "margin": null,
            "max_height": null,
            "max_width": null,
            "min_height": null,
            "min_width": null,
            "object_fit": null,
            "object_position": null,
            "order": null,
            "overflow": null,
            "overflow_x": null,
            "overflow_y": null,
            "padding": null,
            "right": null,
            "top": null,
            "visibility": null,
            "width": null
          }
        },
        "12180f264221481691db329cc7e975b0": {
          "model_module": "@jupyter-widgets/base",
          "model_module_version": "1.2.0",
          "model_name": "LayoutModel",
          "state": {
            "_model_module": "@jupyter-widgets/base",
            "_model_module_version": "1.2.0",
            "_model_name": "LayoutModel",
            "_view_count": null,
            "_view_module": "@jupyter-widgets/base",
            "_view_module_version": "1.2.0",
            "_view_name": "LayoutView",
            "align_content": null,
            "align_items": null,
            "align_self": null,
            "border": null,
            "bottom": null,
            "display": null,
            "flex": null,
            "flex_flow": null,
            "grid_area": null,
            "grid_auto_columns": null,
            "grid_auto_flow": null,
            "grid_auto_rows": null,
            "grid_column": null,
            "grid_gap": null,
            "grid_row": null,
            "grid_template_areas": null,
            "grid_template_columns": null,
            "grid_template_rows": null,
            "height": null,
            "justify_content": null,
            "justify_items": null,
            "left": null,
            "margin": null,
            "max_height": null,
            "max_width": null,
            "min_height": null,
            "min_width": null,
            "object_fit": null,
            "object_position": null,
            "order": null,
            "overflow": null,
            "overflow_x": null,
            "overflow_y": null,
            "padding": null,
            "right": null,
            "top": null,
            "visibility": null,
            "width": null
          }
        },
        "130c958729ce4c0db1631319aef64034": {
          "model_module": "@jupyter-widgets/controls",
          "model_module_version": "1.5.0",
          "model_name": "HTMLModel",
          "state": {
            "_dom_classes": [],
            "_model_module": "@jupyter-widgets/controls",
            "_model_module_version": "1.5.0",
            "_model_name": "HTMLModel",
            "_view_count": null,
            "_view_module": "@jupyter-widgets/controls",
            "_view_module_version": "1.5.0",
            "_view_name": "HTMLView",
            "description": "",
            "description_tooltip": null,
            "layout": "IPY_MODEL_a2abda0900d146acaa5134e3e1da821c",
            "placeholder": "​",
            "style": "IPY_MODEL_e1424ea4b68346469806d3ceca25d16a",
            "value": " 7.95k/7.95k [00:00&lt;00:00, 786kB/s]"
          }
        },
        "2ad836bc58c44bd5868ee77073de1bc1": {
          "model_module": "@jupyter-widgets/controls",
          "model_module_version": "1.5.0",
          "model_name": "ProgressStyleModel",
          "state": {
            "_model_module": "@jupyter-widgets/controls",
            "_model_module_version": "1.5.0",
            "_model_name": "ProgressStyleModel",
            "_view_count": null,
            "_view_module": "@jupyter-widgets/base",
            "_view_module_version": "1.2.0",
            "_view_name": "StyleView",
            "bar_color": null,
            "description_width": ""
          }
        },
        "2c50343239ad4adaa3c78c6bafc9a842": {
          "model_module": "@jupyter-widgets/controls",
          "model_module_version": "1.5.0",
          "model_name": "DescriptionStyleModel",
          "state": {
            "_model_module": "@jupyter-widgets/controls",
            "_model_module_version": "1.5.0",
            "_model_name": "DescriptionStyleModel",
            "_view_count": null,
            "_view_module": "@jupyter-widgets/base",
            "_view_module_version": "1.2.0",
            "_view_name": "StyleView",
            "description_width": ""
          }
        },
        "2d07607c868b47cfa2e3d41b5b8d24ba": {
          "model_module": "@jupyter-widgets/controls",
          "model_module_version": "1.5.0",
          "model_name": "DescriptionStyleModel",
          "state": {
            "_model_module": "@jupyter-widgets/controls",
            "_model_module_version": "1.5.0",
            "_model_name": "DescriptionStyleModel",
            "_view_count": null,
            "_view_module": "@jupyter-widgets/base",
            "_view_module_version": "1.2.0",
            "_view_name": "StyleView",
            "description_width": ""
          }
        },
        "2d8fdc3a1cf841f18490ec20bb160f8c": {
          "model_module": "@jupyter-widgets/controls",
          "model_module_version": "1.5.0",
          "model_name": "HTMLModel",
          "state": {
            "_dom_classes": [],
            "_model_module": "@jupyter-widgets/controls",
            "_model_module_version": "1.5.0",
            "_model_name": "HTMLModel",
            "_view_count": null,
            "_view_module": "@jupyter-widgets/controls",
            "_view_module_version": "1.5.0",
            "_view_name": "HTMLView",
            "description": "",
            "description_tooltip": null,
            "layout": "IPY_MODEL_7a4848957bb544abb6aaf62e5cd274df",
            "placeholder": "​",
            "style": "IPY_MODEL_c6009c0921f8441bbdd545cfb5ecacfe",
            "value": " 4.07k/? [00:00&lt;00:00, 343kB/s]"
          }
        },
        "3be5d4731e2b47ad91af08bf531ecbca": {
          "model_module": "@jupyter-widgets/base",
          "model_module_version": "1.2.0",
          "model_name": "LayoutModel",
          "state": {
            "_model_module": "@jupyter-widgets/base",
            "_model_module_version": "1.2.0",
            "_model_name": "LayoutModel",
            "_view_count": null,
            "_view_module": "@jupyter-widgets/base",
            "_view_module_version": "1.2.0",
            "_view_name": "LayoutView",
            "align_content": null,
            "align_items": null,
            "align_self": null,
            "border": null,
            "bottom": null,
            "display": null,
            "flex": null,
            "flex_flow": null,
            "grid_area": null,
            "grid_auto_columns": null,
            "grid_auto_flow": null,
            "grid_auto_rows": null,
            "grid_column": null,
            "grid_gap": null,
            "grid_row": null,
            "grid_template_areas": null,
            "grid_template_columns": null,
            "grid_template_rows": null,
            "height": null,
            "justify_content": null,
            "justify_items": null,
            "left": null,
            "margin": null,
            "max_height": null,
            "max_width": null,
            "min_height": null,
            "min_width": null,
            "object_fit": null,
            "object_position": null,
            "order": null,
            "overflow": null,
            "overflow_x": null,
            "overflow_y": null,
            "padding": null,
            "right": null,
            "top": null,
            "visibility": null,
            "width": null
          }
        },
        "4819713e74254c53b0b9f6b944a3c529": {
          "model_module": "@jupyter-widgets/controls",
          "model_module_version": "1.5.0",
          "model_name": "HTMLModel",
          "state": {
            "_dom_classes": [],
            "_model_module": "@jupyter-widgets/controls",
            "_model_module_version": "1.5.0",
            "_model_name": "HTMLModel",
            "_view_count": null,
            "_view_module": "@jupyter-widgets/controls",
            "_view_module_version": "1.5.0",
            "_view_name": "HTMLView",
            "description": "",
            "description_tooltip": null,
            "layout": "IPY_MODEL_b5a7008ba8964002a0975030147aaaab",
            "placeholder": "​",
            "style": "IPY_MODEL_8646c5d60743448989b467f7ab6bb686",
            "value": "Downloading extra modules: 100%"
          }
        },
        "4a2032096e0245a997961d785bb67f7a": {
          "model_module": "@jupyter-widgets/controls",
          "model_module_version": "1.5.0",
          "model_name": "FloatProgressModel",
          "state": {
            "_dom_classes": [],
            "_model_module": "@jupyter-widgets/controls",
            "_model_module_version": "1.5.0",
            "_model_name": "FloatProgressModel",
            "_view_count": null,
            "_view_module": "@jupyter-widgets/controls",
            "_view_module_version": "1.5.0",
            "_view_name": "ProgressView",
            "bar_style": "success",
            "description": "",
            "description_tooltip": null,
            "layout": "IPY_MODEL_63327248c6cd4447b8c47f8f51b022d1",
            "max": 3344,
            "min": 0,
            "orientation": "horizontal",
            "style": "IPY_MODEL_8f5e15b7d8194116b5b5fa470a8cf5a4",
            "value": 3344
          }
        },
        "4c50d091fc224f86a97b1409600a0a9d": {
          "model_module": "@jupyter-widgets/controls",
          "model_module_version": "1.5.0",
          "model_name": "FloatProgressModel",
          "state": {
            "_dom_classes": [],
            "_model_module": "@jupyter-widgets/controls",
            "_model_module_version": "1.5.0",
            "_model_name": "FloatProgressModel",
            "_view_count": null,
            "_view_module": "@jupyter-widgets/controls",
            "_view_module_version": "1.5.0",
            "_view_name": "ProgressView",
            "bar_style": "success",
            "description": "",
            "description_tooltip": null,
            "layout": "IPY_MODEL_91bf74e006e44608860d990e5719966f",
            "max": 5937,
            "min": 0,
            "orientation": "horizontal",
            "style": "IPY_MODEL_fe1b21d69877428a9019f44dd1545cfc",
            "value": 5937
          }
        },
        "4e0179a5610046f48b5673fe5d4fcfb7": {
          "model_module": "@jupyter-widgets/controls",
          "model_module_version": "1.5.0",
          "model_name": "ProgressStyleModel",
          "state": {
            "_model_module": "@jupyter-widgets/controls",
            "_model_module_version": "1.5.0",
            "_model_name": "ProgressStyleModel",
            "_view_count": null,
            "_view_module": "@jupyter-widgets/base",
            "_view_module_version": "1.2.0",
            "_view_name": "StyleView",
            "bar_color": null,
            "description_width": ""
          }
        },
        "52f1d689f1d746f7b3d73bacf4af0155": {
          "model_module": "@jupyter-widgets/base",
          "model_module_version": "1.2.0",
          "model_name": "LayoutModel",
          "state": {
            "_model_module": "@jupyter-widgets/base",
            "_model_module_version": "1.2.0",
            "_model_name": "LayoutModel",
            "_view_count": null,
            "_view_module": "@jupyter-widgets/base",
            "_view_module_version": "1.2.0",
            "_view_name": "LayoutView",
            "align_content": null,
            "align_items": null,
            "align_self": null,
            "border": null,
            "bottom": null,
            "display": null,
            "flex": null,
            "flex_flow": null,
            "grid_area": null,
            "grid_auto_columns": null,
            "grid_auto_flow": null,
            "grid_auto_rows": null,
            "grid_column": null,
            "grid_gap": null,
            "grid_row": null,
            "grid_template_areas": null,
            "grid_template_columns": null,
            "grid_template_rows": null,
            "height": null,
            "justify_content": null,
            "justify_items": null,
            "left": null,
            "margin": null,
            "max_height": null,
            "max_width": null,
            "min_height": null,
            "min_width": null,
            "object_fit": null,
            "object_position": null,
            "order": null,
            "overflow": null,
            "overflow_x": null,
            "overflow_y": null,
            "padding": null,
            "right": null,
            "top": null,
            "visibility": null,
            "width": null
          }
        },
        "5333883e2e5c4959a11072538dd5e4d9": {
          "model_module": "@jupyter-widgets/base",
          "model_module_version": "1.2.0",
          "model_name": "LayoutModel",
          "state": {
            "_model_module": "@jupyter-widgets/base",
            "_model_module_version": "1.2.0",
            "_model_name": "LayoutModel",
            "_view_count": null,
            "_view_module": "@jupyter-widgets/base",
            "_view_module_version": "1.2.0",
            "_view_name": "LayoutView",
            "align_content": null,
            "align_items": null,
            "align_self": null,
            "border": null,
            "bottom": null,
            "display": null,
            "flex": null,
            "flex_flow": null,
            "grid_area": null,
            "grid_auto_columns": null,
            "grid_auto_flow": null,
            "grid_auto_rows": null,
            "grid_column": null,
            "grid_gap": null,
            "grid_row": null,
            "grid_template_areas": null,
            "grid_template_columns": null,
            "grid_template_rows": null,
            "height": null,
            "justify_content": null,
            "justify_items": null,
            "left": null,
            "margin": null,
            "max_height": null,
            "max_width": null,
            "min_height": null,
            "min_width": null,
            "object_fit": null,
            "object_position": null,
            "order": null,
            "overflow": null,
            "overflow_x": null,
            "overflow_y": null,
            "padding": null,
            "right": null,
            "top": null,
            "visibility": null,
            "width": null
          }
        },
        "53b49e0a63254be5b58030527455880c": {
          "model_module": "@jupyter-widgets/controls",
          "model_module_version": "1.5.0",
          "model_name": "HBoxModel",
          "state": {
            "_dom_classes": [],
            "_model_module": "@jupyter-widgets/controls",
            "_model_module_version": "1.5.0",
            "_model_name": "HBoxModel",
            "_view_count": null,
            "_view_module": "@jupyter-widgets/controls",
            "_view_module_version": "1.5.0",
            "_view_name": "HBoxView",
            "box_style": "",
            "children": [
              "IPY_MODEL_4819713e74254c53b0b9f6b944a3c529",
              "IPY_MODEL_4a2032096e0245a997961d785bb67f7a",
              "IPY_MODEL_ec49a8f067f14d5eb68cd9c99390a3c0"
            ],
            "layout": "IPY_MODEL_3be5d4731e2b47ad91af08bf531ecbca"
          }
        },
        "60e0f329bb4242eea11d744f89be395c": {
          "model_module": "@jupyter-widgets/base",
          "model_module_version": "1.2.0",
          "model_name": "LayoutModel",
          "state": {
            "_model_module": "@jupyter-widgets/base",
            "_model_module_version": "1.2.0",
            "_model_name": "LayoutModel",
            "_view_count": null,
            "_view_module": "@jupyter-widgets/base",
            "_view_module_version": "1.2.0",
            "_view_name": "LayoutView",
            "align_content": null,
            "align_items": null,
            "align_self": null,
            "border": null,
            "bottom": null,
            "display": null,
            "flex": null,
            "flex_flow": null,
            "grid_area": null,
            "grid_auto_columns": null,
            "grid_auto_flow": null,
            "grid_auto_rows": null,
            "grid_column": null,
            "grid_gap": null,
            "grid_row": null,
            "grid_template_areas": null,
            "grid_template_columns": null,
            "grid_template_rows": null,
            "height": null,
            "justify_content": null,
            "justify_items": null,
            "left": null,
            "margin": null,
            "max_height": null,
            "max_width": null,
            "min_height": null,
            "min_width": null,
            "object_fit": null,
            "object_position": null,
            "order": null,
            "overflow": null,
            "overflow_x": null,
            "overflow_y": null,
            "padding": null,
            "right": null,
            "top": null,
            "visibility": null,
            "width": null
          }
        },
        "63327248c6cd4447b8c47f8f51b022d1": {
          "model_module": "@jupyter-widgets/base",
          "model_module_version": "1.2.0",
          "model_name": "LayoutModel",
          "state": {
            "_model_module": "@jupyter-widgets/base",
            "_model_module_version": "1.2.0",
            "_model_name": "LayoutModel",
            "_view_count": null,
            "_view_module": "@jupyter-widgets/base",
            "_view_module_version": "1.2.0",
            "_view_name": "LayoutView",
            "align_content": null,
            "align_items": null,
            "align_self": null,
            "border": null,
            "bottom": null,
            "display": null,
            "flex": null,
            "flex_flow": null,
            "grid_area": null,
            "grid_auto_columns": null,
            "grid_auto_flow": null,
            "grid_auto_rows": null,
            "grid_column": null,
            "grid_gap": null,
            "grid_row": null,
            "grid_template_areas": null,
            "grid_template_columns": null,
            "grid_template_rows": null,
            "height": null,
            "justify_content": null,
            "justify_items": null,
            "left": null,
            "margin": null,
            "max_height": null,
            "max_width": null,
            "min_height": null,
            "min_width": null,
            "object_fit": null,
            "object_position": null,
            "order": null,
            "overflow": null,
            "overflow_x": null,
            "overflow_y": null,
            "padding": null,
            "right": null,
            "top": null,
            "visibility": null,
            "width": null
          }
        },
        "6b649916b33042eaa5f0160022a5cfc5": {
          "model_module": "@jupyter-widgets/controls",
          "model_module_version": "1.5.0",
          "model_name": "HTMLModel",
          "state": {
            "_dom_classes": [],
            "_model_module": "@jupyter-widgets/controls",
            "_model_module_version": "1.5.0",
            "_model_name": "HTMLModel",
            "_view_count": null,
            "_view_module": "@jupyter-widgets/controls",
            "_view_module_version": "1.5.0",
            "_view_name": "HTMLView",
            "description": "",
            "description_tooltip": null,
            "layout": "IPY_MODEL_12180f264221481691db329cc7e975b0",
            "placeholder": "​",
            "style": "IPY_MODEL_0667b2df192342a7a119c811e9d78952",
            "value": "Downloading builder script: 100%"
          }
        },
        "71f46eecf2b44379a9cb34e55bd95a77": {
          "model_module": "@jupyter-widgets/controls",
          "model_module_version": "1.5.0",
          "model_name": "HTMLModel",
          "state": {
            "_dom_classes": [],
            "_model_module": "@jupyter-widgets/controls",
            "_model_module_version": "1.5.0",
            "_model_name": "HTMLModel",
            "_view_count": null,
            "_view_module": "@jupyter-widgets/controls",
            "_view_module_version": "1.5.0",
            "_view_name": "HTMLView",
            "description": "",
            "description_tooltip": null,
            "layout": "IPY_MODEL_df6173c806194719a44c2c36dd2224f1",
            "placeholder": "​",
            "style": "IPY_MODEL_2c50343239ad4adaa3c78c6bafc9a842",
            "value": "Downloading builder script: 100%"
          }
        },
        "7a4848957bb544abb6aaf62e5cd274df": {
          "model_module": "@jupyter-widgets/base",
          "model_module_version": "1.2.0",
          "model_name": "LayoutModel",
          "state": {
            "_model_module": "@jupyter-widgets/base",
            "_model_module_version": "1.2.0",
            "_model_name": "LayoutModel",
            "_view_count": null,
            "_view_module": "@jupyter-widgets/base",
            "_view_module_version": "1.2.0",
            "_view_name": "LayoutView",
            "align_content": null,
            "align_items": null,
            "align_self": null,
            "border": null,
            "bottom": null,
            "display": null,
            "flex": null,
            "flex_flow": null,
            "grid_area": null,
            "grid_auto_columns": null,
            "grid_auto_flow": null,
            "grid_auto_rows": null,
            "grid_column": null,
            "grid_gap": null,
            "grid_row": null,
            "grid_template_areas": null,
            "grid_template_columns": null,
            "grid_template_rows": null,
            "height": null,
            "justify_content": null,
            "justify_items": null,
            "left": null,
            "margin": null,
            "max_height": null,
            "max_width": null,
            "min_height": null,
            "min_width": null,
            "object_fit": null,
            "object_position": null,
            "order": null,
            "overflow": null,
            "overflow_x": null,
            "overflow_y": null,
            "padding": null,
            "right": null,
            "top": null,
            "visibility": null,
            "width": null
          }
        },
        "7ff65afa619249b29e5965a6e474a966": {
          "model_module": "@jupyter-widgets/controls",
          "model_module_version": "1.5.0",
          "model_name": "DescriptionStyleModel",
          "state": {
            "_model_module": "@jupyter-widgets/controls",
            "_model_module_version": "1.5.0",
            "_model_name": "DescriptionStyleModel",
            "_view_count": null,
            "_view_module": "@jupyter-widgets/base",
            "_view_module_version": "1.2.0",
            "_view_name": "StyleView",
            "description_width": ""
          }
        },
        "8646c5d60743448989b467f7ab6bb686": {
          "model_module": "@jupyter-widgets/controls",
          "model_module_version": "1.5.0",
          "model_name": "DescriptionStyleModel",
          "state": {
            "_model_module": "@jupyter-widgets/controls",
            "_model_module_version": "1.5.0",
            "_model_name": "DescriptionStyleModel",
            "_view_count": null,
            "_view_module": "@jupyter-widgets/base",
            "_view_module_version": "1.2.0",
            "_view_name": "StyleView",
            "description_width": ""
          }
        },
        "86942d1fbb51455fb0105b42698facb9": {
          "model_module": "@jupyter-widgets/base",
          "model_module_version": "1.2.0",
          "model_name": "LayoutModel",
          "state": {
            "_model_module": "@jupyter-widgets/base",
            "_model_module_version": "1.2.0",
            "_model_name": "LayoutModel",
            "_view_count": null,
            "_view_module": "@jupyter-widgets/base",
            "_view_module_version": "1.2.0",
            "_view_name": "LayoutView",
            "align_content": null,
            "align_items": null,
            "align_self": null,
            "border": null,
            "bottom": null,
            "display": null,
            "flex": null,
            "flex_flow": null,
            "grid_area": null,
            "grid_auto_columns": null,
            "grid_auto_flow": null,
            "grid_auto_rows": null,
            "grid_column": null,
            "grid_gap": null,
            "grid_row": null,
            "grid_template_areas": null,
            "grid_template_columns": null,
            "grid_template_rows": null,
            "height": null,
            "justify_content": null,
            "justify_items": null,
            "left": null,
            "margin": null,
            "max_height": null,
            "max_width": null,
            "min_height": null,
            "min_width": null,
            "object_fit": null,
            "object_position": null,
            "order": null,
            "overflow": null,
            "overflow_x": null,
            "overflow_y": null,
            "padding": null,
            "right": null,
            "top": null,
            "visibility": null,
            "width": null
          }
        },
        "8ee3c7d7e6824e8f84881a587ebaf112": {
          "model_module": "@jupyter-widgets/controls",
          "model_module_version": "1.5.0",
          "model_name": "HTMLModel",
          "state": {
            "_dom_classes": [],
            "_model_module": "@jupyter-widgets/controls",
            "_model_module_version": "1.5.0",
            "_model_name": "HTMLModel",
            "_view_count": null,
            "_view_module": "@jupyter-widgets/controls",
            "_view_module_version": "1.5.0",
            "_view_name": "HTMLView",
            "description": "",
            "description_tooltip": null,
            "layout": "IPY_MODEL_86942d1fbb51455fb0105b42698facb9",
            "placeholder": "​",
            "style": "IPY_MODEL_b985a00a33654b8d83c1928a5026f4e9",
            "value": " 5.94k/5.94k [00:00&lt;00:00, 409kB/s]"
          }
        },
        "8f5e15b7d8194116b5b5fa470a8cf5a4": {
          "model_module": "@jupyter-widgets/controls",
          "model_module_version": "1.5.0",
          "model_name": "ProgressStyleModel",
          "state": {
            "_model_module": "@jupyter-widgets/controls",
            "_model_module_version": "1.5.0",
            "_model_name": "ProgressStyleModel",
            "_view_count": null,
            "_view_module": "@jupyter-widgets/base",
            "_view_module_version": "1.2.0",
            "_view_name": "StyleView",
            "bar_color": null,
            "description_width": ""
          }
        },
        "91bf74e006e44608860d990e5719966f": {
          "model_module": "@jupyter-widgets/base",
          "model_module_version": "1.2.0",
          "model_name": "LayoutModel",
          "state": {
            "_model_module": "@jupyter-widgets/base",
            "_model_module_version": "1.2.0",
            "_model_name": "LayoutModel",
            "_view_count": null,
            "_view_module": "@jupyter-widgets/base",
            "_view_module_version": "1.2.0",
            "_view_name": "LayoutView",
            "align_content": null,
            "align_items": null,
            "align_self": null,
            "border": null,
            "bottom": null,
            "display": null,
            "flex": null,
            "flex_flow": null,
            "grid_area": null,
            "grid_auto_columns": null,
            "grid_auto_flow": null,
            "grid_auto_rows": null,
            "grid_column": null,
            "grid_gap": null,
            "grid_row": null,
            "grid_template_areas": null,
            "grid_template_columns": null,
            "grid_template_rows": null,
            "height": null,
            "justify_content": null,
            "justify_items": null,
            "left": null,
            "margin": null,
            "max_height": null,
            "max_width": null,
            "min_height": null,
            "min_width": null,
            "object_fit": null,
            "object_position": null,
            "order": null,
            "overflow": null,
            "overflow_x": null,
            "overflow_y": null,
            "padding": null,
            "right": null,
            "top": null,
            "visibility": null,
            "width": null
          }
        },
        "98c71d32e77e49c283cdf6d577d95e6b": {
          "model_module": "@jupyter-widgets/controls",
          "model_module_version": "1.5.0",
          "model_name": "HTMLModel",
          "state": {
            "_dom_classes": [],
            "_model_module": "@jupyter-widgets/controls",
            "_model_module_version": "1.5.0",
            "_model_name": "HTMLModel",
            "_view_count": null,
            "_view_module": "@jupyter-widgets/controls",
            "_view_module_version": "1.5.0",
            "_view_name": "HTMLView",
            "description": "",
            "description_tooltip": null,
            "layout": "IPY_MODEL_5333883e2e5c4959a11072538dd5e4d9",
            "placeholder": "​",
            "style": "IPY_MODEL_2d07607c868b47cfa2e3d41b5b8d24ba",
            "value": "Downloading builder script: 100%"
          }
        },
        "9abf82c77e684fd9be3ffd916e7f5785": {
          "model_module": "@jupyter-widgets/controls",
          "model_module_version": "1.5.0",
          "model_name": "HBoxModel",
          "state": {
            "_dom_classes": [],
            "_model_module": "@jupyter-widgets/controls",
            "_model_module_version": "1.5.0",
            "_model_name": "HBoxModel",
            "_view_count": null,
            "_view_module": "@jupyter-widgets/controls",
            "_view_module_version": "1.5.0",
            "_view_name": "HBoxView",
            "box_style": "",
            "children": [
              "IPY_MODEL_6b649916b33042eaa5f0160022a5cfc5",
              "IPY_MODEL_4c50d091fc224f86a97b1409600a0a9d",
              "IPY_MODEL_8ee3c7d7e6824e8f84881a587ebaf112"
            ],
            "layout": "IPY_MODEL_b85943cc8b4846f3973f880c3b8c77c1"
          }
        },
        "a2abda0900d146acaa5134e3e1da821c": {
          "model_module": "@jupyter-widgets/base",
          "model_module_version": "1.2.0",
          "model_name": "LayoutModel",
          "state": {
            "_model_module": "@jupyter-widgets/base",
            "_model_module_version": "1.2.0",
            "_model_name": "LayoutModel",
            "_view_count": null,
            "_view_module": "@jupyter-widgets/base",
            "_view_module_version": "1.2.0",
            "_view_name": "LayoutView",
            "align_content": null,
            "align_items": null,
            "align_self": null,
            "border": null,
            "bottom": null,
            "display": null,
            "flex": null,
            "flex_flow": null,
            "grid_area": null,
            "grid_auto_columns": null,
            "grid_auto_flow": null,
            "grid_auto_rows": null,
            "grid_column": null,
            "grid_gap": null,
            "grid_row": null,
            "grid_template_areas": null,
            "grid_template_columns": null,
            "grid_template_rows": null,
            "height": null,
            "justify_content": null,
            "justify_items": null,
            "left": null,
            "margin": null,
            "max_height": null,
            "max_width": null,
            "min_height": null,
            "min_width": null,
            "object_fit": null,
            "object_position": null,
            "order": null,
            "overflow": null,
            "overflow_x": null,
            "overflow_y": null,
            "padding": null,
            "right": null,
            "top": null,
            "visibility": null,
            "width": null
          }
        },
        "b1f021adf5c44f499d7fafc5392d3d03": {
          "model_module": "@jupyter-widgets/controls",
          "model_module_version": "1.5.0",
          "model_name": "DescriptionStyleModel",
          "state": {
            "_model_module": "@jupyter-widgets/controls",
            "_model_module_version": "1.5.0",
            "_model_name": "DescriptionStyleModel",
            "_view_count": null,
            "_view_module": "@jupyter-widgets/base",
            "_view_module_version": "1.2.0",
            "_view_name": "StyleView",
            "description_width": ""
          }
        },
        "b4883236084047fab694f2ec7d0fdb3a": {
          "model_module": "@jupyter-widgets/controls",
          "model_module_version": "1.5.0",
          "model_name": "FloatProgressModel",
          "state": {
            "_dom_classes": [],
            "_model_module": "@jupyter-widgets/controls",
            "_model_module_version": "1.5.0",
            "_model_name": "FloatProgressModel",
            "_view_count": null,
            "_view_module": "@jupyter-widgets/controls",
            "_view_module_version": "1.5.0",
            "_view_name": "ProgressView",
            "bar_style": "success",
            "description": "",
            "description_tooltip": null,
            "layout": "IPY_MODEL_07948fb24fb4444f9d974928f0c4b0e8",
            "max": 1554,
            "min": 0,
            "orientation": "horizontal",
            "style": "IPY_MODEL_2ad836bc58c44bd5868ee77073de1bc1",
            "value": 1554
          }
        },
        "b571365c98334fbb9ec102aad26583d2": {
          "model_module": "@jupyter-widgets/controls",
          "model_module_version": "1.5.0",
          "model_name": "HBoxModel",
          "state": {
            "_dom_classes": [],
            "_model_module": "@jupyter-widgets/controls",
            "_model_module_version": "1.5.0",
            "_model_name": "HBoxModel",
            "_view_count": null,
            "_view_module": "@jupyter-widgets/controls",
            "_view_module_version": "1.5.0",
            "_view_name": "HBoxView",
            "box_style": "",
            "children": [
              "IPY_MODEL_c51b10f7abe045cab198e195308e25db",
              "IPY_MODEL_b4883236084047fab694f2ec7d0fdb3a",
              "IPY_MODEL_2d8fdc3a1cf841f18490ec20bb160f8c"
            ],
            "layout": "IPY_MODEL_52f1d689f1d746f7b3d73bacf4af0155"
          }
        },
        "b5a7008ba8964002a0975030147aaaab": {
          "model_module": "@jupyter-widgets/base",
          "model_module_version": "1.2.0",
          "model_name": "LayoutModel",
          "state": {
            "_model_module": "@jupyter-widgets/base",
            "_model_module_version": "1.2.0",
            "_model_name": "LayoutModel",
            "_view_count": null,
            "_view_module": "@jupyter-widgets/base",
            "_view_module_version": "1.2.0",
            "_view_name": "LayoutView",
            "align_content": null,
            "align_items": null,
            "align_self": null,
            "border": null,
            "bottom": null,
            "display": null,
            "flex": null,
            "flex_flow": null,
            "grid_area": null,
            "grid_auto_columns": null,
            "grid_auto_flow": null,
            "grid_auto_rows": null,
            "grid_column": null,
            "grid_gap": null,
            "grid_row": null,
            "grid_template_areas": null,
            "grid_template_columns": null,
            "grid_template_rows": null,
            "height": null,
            "justify_content": null,
            "justify_items": null,
            "left": null,
            "margin": null,
            "max_height": null,
            "max_width": null,
            "min_height": null,
            "min_width": null,
            "object_fit": null,
            "object_position": null,
            "order": null,
            "overflow": null,
            "overflow_x": null,
            "overflow_y": null,
            "padding": null,
            "right": null,
            "top": null,
            "visibility": null,
            "width": null
          }
        },
        "b7c7f0bdfdde47529f8b92e766b3157e": {
          "model_module": "@jupyter-widgets/controls",
          "model_module_version": "1.5.0",
          "model_name": "HBoxModel",
          "state": {
            "_dom_classes": [],
            "_model_module": "@jupyter-widgets/controls",
            "_model_module_version": "1.5.0",
            "_model_name": "HBoxModel",
            "_view_count": null,
            "_view_module": "@jupyter-widgets/controls",
            "_view_module_version": "1.5.0",
            "_view_name": "HBoxView",
            "box_style": "",
            "children": [
              "IPY_MODEL_71f46eecf2b44379a9cb34e55bd95a77",
              "IPY_MODEL_fab82787439a4e3a8c42a15b17891782",
              "IPY_MODEL_130c958729ce4c0db1631319aef64034"
            ],
            "layout": "IPY_MODEL_dc92779243664fcaa78b2e8616fce0a7"
          }
        },
        "b80b3f20066d4243aa162219b3d557c4": {
          "model_module": "@jupyter-widgets/base",
          "model_module_version": "1.2.0",
          "model_name": "LayoutModel",
          "state": {
            "_model_module": "@jupyter-widgets/base",
            "_model_module_version": "1.2.0",
            "_model_name": "LayoutModel",
            "_view_count": null,
            "_view_module": "@jupyter-widgets/base",
            "_view_module_version": "1.2.0",
            "_view_name": "LayoutView",
            "align_content": null,
            "align_items": null,
            "align_self": null,
            "border": null,
            "bottom": null,
            "display": null,
            "flex": null,
            "flex_flow": null,
            "grid_area": null,
            "grid_auto_columns": null,
            "grid_auto_flow": null,
            "grid_auto_rows": null,
            "grid_column": null,
            "grid_gap": null,
            "grid_row": null,
            "grid_template_areas": null,
            "grid_template_columns": null,
            "grid_template_rows": null,
            "height": null,
            "justify_content": null,
            "justify_items": null,
            "left": null,
            "margin": null,
            "max_height": null,
            "max_width": null,
            "min_height": null,
            "min_width": null,
            "object_fit": null,
            "object_position": null,
            "order": null,
            "overflow": null,
            "overflow_x": null,
            "overflow_y": null,
            "padding": null,
            "right": null,
            "top": null,
            "visibility": null,
            "width": null
          }
        },
        "b85943cc8b4846f3973f880c3b8c77c1": {
          "model_module": "@jupyter-widgets/base",
          "model_module_version": "1.2.0",
          "model_name": "LayoutModel",
          "state": {
            "_model_module": "@jupyter-widgets/base",
            "_model_module_version": "1.2.0",
            "_model_name": "LayoutModel",
            "_view_count": null,
            "_view_module": "@jupyter-widgets/base",
            "_view_module_version": "1.2.0",
            "_view_name": "LayoutView",
            "align_content": null,
            "align_items": null,
            "align_self": null,
            "border": null,
            "bottom": null,
            "display": null,
            "flex": null,
            "flex_flow": null,
            "grid_area": null,
            "grid_auto_columns": null,
            "grid_auto_flow": null,
            "grid_auto_rows": null,
            "grid_column": null,
            "grid_gap": null,
            "grid_row": null,
            "grid_template_areas": null,
            "grid_template_columns": null,
            "grid_template_rows": null,
            "height": null,
            "justify_content": null,
            "justify_items": null,
            "left": null,
            "margin": null,
            "max_height": null,
            "max_width": null,
            "min_height": null,
            "min_width": null,
            "object_fit": null,
            "object_position": null,
            "order": null,
            "overflow": null,
            "overflow_x": null,
            "overflow_y": null,
            "padding": null,
            "right": null,
            "top": null,
            "visibility": null,
            "width": null
          }
        },
        "b985a00a33654b8d83c1928a5026f4e9": {
          "model_module": "@jupyter-widgets/controls",
          "model_module_version": "1.5.0",
          "model_name": "DescriptionStyleModel",
          "state": {
            "_model_module": "@jupyter-widgets/controls",
            "_model_module_version": "1.5.0",
            "_model_name": "DescriptionStyleModel",
            "_view_count": null,
            "_view_module": "@jupyter-widgets/base",
            "_view_module_version": "1.2.0",
            "_view_name": "StyleView",
            "description_width": ""
          }
        },
        "c51b10f7abe045cab198e195308e25db": {
          "model_module": "@jupyter-widgets/controls",
          "model_module_version": "1.5.0",
          "model_name": "HTMLModel",
          "state": {
            "_dom_classes": [],
            "_model_module": "@jupyter-widgets/controls",
            "_model_module_version": "1.5.0",
            "_model_name": "HTMLModel",
            "_view_count": null,
            "_view_module": "@jupyter-widgets/controls",
            "_view_module_version": "1.5.0",
            "_view_name": "HTMLView",
            "description": "",
            "description_tooltip": null,
            "layout": "IPY_MODEL_01ae2565bbdf41cc9151223eba233bdf",
            "placeholder": "​",
            "style": "IPY_MODEL_7ff65afa619249b29e5965a6e474a966",
            "value": "Downloading extra modules: "
          }
        },
        "c6009c0921f8441bbdd545cfb5ecacfe": {
          "model_module": "@jupyter-widgets/controls",
          "model_module_version": "1.5.0",
          "model_name": "DescriptionStyleModel",
          "state": {
            "_model_module": "@jupyter-widgets/controls",
            "_model_module_version": "1.5.0",
            "_model_name": "DescriptionStyleModel",
            "_view_count": null,
            "_view_module": "@jupyter-widgets/base",
            "_view_module_version": "1.2.0",
            "_view_name": "StyleView",
            "description_width": ""
          }
        },
        "c610f8cf908e477b9e340e2db9119122": {
          "model_module": "@jupyter-widgets/controls",
          "model_module_version": "1.5.0",
          "model_name": "ProgressStyleModel",
          "state": {
            "_model_module": "@jupyter-widgets/controls",
            "_model_module_version": "1.5.0",
            "_model_name": "ProgressStyleModel",
            "_view_count": null,
            "_view_module": "@jupyter-widgets/base",
            "_view_module_version": "1.2.0",
            "_view_name": "StyleView",
            "bar_color": null,
            "description_width": ""
          }
        },
        "c6614b26a6c04e0395c76a745936643c": {
          "model_module": "@jupyter-widgets/base",
          "model_module_version": "1.2.0",
          "model_name": "LayoutModel",
          "state": {
            "_model_module": "@jupyter-widgets/base",
            "_model_module_version": "1.2.0",
            "_model_name": "LayoutModel",
            "_view_count": null,
            "_view_module": "@jupyter-widgets/base",
            "_view_module_version": "1.2.0",
            "_view_name": "LayoutView",
            "align_content": null,
            "align_items": null,
            "align_self": null,
            "border": null,
            "bottom": null,
            "display": null,
            "flex": null,
            "flex_flow": null,
            "grid_area": null,
            "grid_auto_columns": null,
            "grid_auto_flow": null,
            "grid_auto_rows": null,
            "grid_column": null,
            "grid_gap": null,
            "grid_row": null,
            "grid_template_areas": null,
            "grid_template_columns": null,
            "grid_template_rows": null,
            "height": null,
            "justify_content": null,
            "justify_items": null,
            "left": null,
            "margin": null,
            "max_height": null,
            "max_width": null,
            "min_height": null,
            "min_width": null,
            "object_fit": null,
            "object_position": null,
            "order": null,
            "overflow": null,
            "overflow_x": null,
            "overflow_y": null,
            "padding": null,
            "right": null,
            "top": null,
            "visibility": null,
            "width": null
          }
        },
        "c66e02b152e54b8e9e2b0f1b0d922e3b": {
          "model_module": "@jupyter-widgets/base",
          "model_module_version": "1.2.0",
          "model_name": "LayoutModel",
          "state": {
            "_model_module": "@jupyter-widgets/base",
            "_model_module_version": "1.2.0",
            "_model_name": "LayoutModel",
            "_view_count": null,
            "_view_module": "@jupyter-widgets/base",
            "_view_module_version": "1.2.0",
            "_view_name": "LayoutView",
            "align_content": null,
            "align_items": null,
            "align_self": null,
            "border": null,
            "bottom": null,
            "display": null,
            "flex": null,
            "flex_flow": null,
            "grid_area": null,
            "grid_auto_columns": null,
            "grid_auto_flow": null,
            "grid_auto_rows": null,
            "grid_column": null,
            "grid_gap": null,
            "grid_row": null,
            "grid_template_areas": null,
            "grid_template_columns": null,
            "grid_template_rows": null,
            "height": null,
            "justify_content": null,
            "justify_items": null,
            "left": null,
            "margin": null,
            "max_height": null,
            "max_width": null,
            "min_height": null,
            "min_width": null,
            "object_fit": null,
            "object_position": null,
            "order": null,
            "overflow": null,
            "overflow_x": null,
            "overflow_y": null,
            "padding": null,
            "right": null,
            "top": null,
            "visibility": null,
            "width": null
          }
        },
        "c68a2700f24d4e17a0dff0fbc59fb345": {
          "model_module": "@jupyter-widgets/controls",
          "model_module_version": "1.5.0",
          "model_name": "HBoxModel",
          "state": {
            "_dom_classes": [],
            "_model_module": "@jupyter-widgets/controls",
            "_model_module_version": "1.5.0",
            "_model_name": "HBoxModel",
            "_view_count": null,
            "_view_module": "@jupyter-widgets/controls",
            "_view_module_version": "1.5.0",
            "_view_name": "HBoxView",
            "box_style": "",
            "children": [
              "IPY_MODEL_98c71d32e77e49c283cdf6d577d95e6b",
              "IPY_MODEL_0529637040e14820ac85deca5f50a5e9",
              "IPY_MODEL_cd337af22008415994c838ea634621a0"
            ],
            "layout": "IPY_MODEL_60e0f329bb4242eea11d744f89be395c"
          }
        },
        "c8b57e96375f4d638237b7b2697db4cd": {
          "model_module": "@jupyter-widgets/controls",
          "model_module_version": "1.5.0",
          "model_name": "DescriptionStyleModel",
          "state": {
            "_model_module": "@jupyter-widgets/controls",
            "_model_module_version": "1.5.0",
            "_model_name": "DescriptionStyleModel",
            "_view_count": null,
            "_view_module": "@jupyter-widgets/base",
            "_view_module_version": "1.2.0",
            "_view_name": "StyleView",
            "description_width": ""
          }
        },
        "cd337af22008415994c838ea634621a0": {
          "model_module": "@jupyter-widgets/controls",
          "model_module_version": "1.5.0",
          "model_name": "HTMLModel",
          "state": {
            "_dom_classes": [],
            "_model_module": "@jupyter-widgets/controls",
            "_model_module_version": "1.5.0",
            "_model_name": "HTMLModel",
            "_view_count": null,
            "_view_module": "@jupyter-widgets/controls",
            "_view_module_version": "1.5.0",
            "_view_name": "HTMLView",
            "description": "",
            "description_tooltip": null,
            "layout": "IPY_MODEL_b80b3f20066d4243aa162219b3d557c4",
            "placeholder": "​",
            "style": "IPY_MODEL_b1f021adf5c44f499d7fafc5392d3d03",
            "value": " 7.02k/7.02k [00:00&lt;00:00, 472kB/s]"
          }
        },
        "dc92779243664fcaa78b2e8616fce0a7": {
          "model_module": "@jupyter-widgets/base",
          "model_module_version": "1.2.0",
          "model_name": "LayoutModel",
          "state": {
            "_model_module": "@jupyter-widgets/base",
            "_model_module_version": "1.2.0",
            "_model_name": "LayoutModel",
            "_view_count": null,
            "_view_module": "@jupyter-widgets/base",
            "_view_module_version": "1.2.0",
            "_view_name": "LayoutView",
            "align_content": null,
            "align_items": null,
            "align_self": null,
            "border": null,
            "bottom": null,
            "display": null,
            "flex": null,
            "flex_flow": null,
            "grid_area": null,
            "grid_auto_columns": null,
            "grid_auto_flow": null,
            "grid_auto_rows": null,
            "grid_column": null,
            "grid_gap": null,
            "grid_row": null,
            "grid_template_areas": null,
            "grid_template_columns": null,
            "grid_template_rows": null,
            "height": null,
            "justify_content": null,
            "justify_items": null,
            "left": null,
            "margin": null,
            "max_height": null,
            "max_width": null,
            "min_height": null,
            "min_width": null,
            "object_fit": null,
            "object_position": null,
            "order": null,
            "overflow": null,
            "overflow_x": null,
            "overflow_y": null,
            "padding": null,
            "right": null,
            "top": null,
            "visibility": null,
            "width": null
          }
        },
        "df6173c806194719a44c2c36dd2224f1": {
          "model_module": "@jupyter-widgets/base",
          "model_module_version": "1.2.0",
          "model_name": "LayoutModel",
          "state": {
            "_model_module": "@jupyter-widgets/base",
            "_model_module_version": "1.2.0",
            "_model_name": "LayoutModel",
            "_view_count": null,
            "_view_module": "@jupyter-widgets/base",
            "_view_module_version": "1.2.0",
            "_view_name": "LayoutView",
            "align_content": null,
            "align_items": null,
            "align_self": null,
            "border": null,
            "bottom": null,
            "display": null,
            "flex": null,
            "flex_flow": null,
            "grid_area": null,
            "grid_auto_columns": null,
            "grid_auto_flow": null,
            "grid_auto_rows": null,
            "grid_column": null,
            "grid_gap": null,
            "grid_row": null,
            "grid_template_areas": null,
            "grid_template_columns": null,
            "grid_template_rows": null,
            "height": null,
            "justify_content": null,
            "justify_items": null,
            "left": null,
            "margin": null,
            "max_height": null,
            "max_width": null,
            "min_height": null,
            "min_width": null,
            "object_fit": null,
            "object_position": null,
            "order": null,
            "overflow": null,
            "overflow_x": null,
            "overflow_y": null,
            "padding": null,
            "right": null,
            "top": null,
            "visibility": null,
            "width": null
          }
        },
        "e1424ea4b68346469806d3ceca25d16a": {
          "model_module": "@jupyter-widgets/controls",
          "model_module_version": "1.5.0",
          "model_name": "DescriptionStyleModel",
          "state": {
            "_model_module": "@jupyter-widgets/controls",
            "_model_module_version": "1.5.0",
            "_model_name": "DescriptionStyleModel",
            "_view_count": null,
            "_view_module": "@jupyter-widgets/base",
            "_view_module_version": "1.2.0",
            "_view_name": "StyleView",
            "description_width": ""
          }
        },
        "ec49a8f067f14d5eb68cd9c99390a3c0": {
          "model_module": "@jupyter-widgets/controls",
          "model_module_version": "1.5.0",
          "model_name": "HTMLModel",
          "state": {
            "_dom_classes": [],
            "_model_module": "@jupyter-widgets/controls",
            "_model_module_version": "1.5.0",
            "_model_name": "HTMLModel",
            "_view_count": null,
            "_view_module": "@jupyter-widgets/controls",
            "_view_module_version": "1.5.0",
            "_view_name": "HTMLView",
            "description": "",
            "description_tooltip": null,
            "layout": "IPY_MODEL_c6614b26a6c04e0395c76a745936643c",
            "placeholder": "​",
            "style": "IPY_MODEL_c8b57e96375f4d638237b7b2697db4cd",
            "value": " 3.34k/3.34k [00:00&lt;00:00, 212kB/s]"
          }
        },
        "fab82787439a4e3a8c42a15b17891782": {
          "model_module": "@jupyter-widgets/controls",
          "model_module_version": "1.5.0",
          "model_name": "FloatProgressModel",
          "state": {
            "_dom_classes": [],
            "_model_module": "@jupyter-widgets/controls",
            "_model_module_version": "1.5.0",
            "_model_name": "FloatProgressModel",
            "_view_count": null,
            "_view_module": "@jupyter-widgets/controls",
            "_view_module_version": "1.5.0",
            "_view_name": "ProgressView",
            "bar_style": "success",
            "description": "",
            "description_tooltip": null,
            "layout": "IPY_MODEL_c66e02b152e54b8e9e2b0f1b0d922e3b",
            "max": 7950,
            "min": 0,
            "orientation": "horizontal",
            "style": "IPY_MODEL_c610f8cf908e477b9e340e2db9119122",
            "value": 7950
          }
        },
        "fc634a791522435b83fe8ebe950fa6e5": {
          "model_module": "@jupyter-widgets/base",
          "model_module_version": "1.2.0",
          "model_name": "LayoutModel",
          "state": {
            "_model_module": "@jupyter-widgets/base",
            "_model_module_version": "1.2.0",
            "_model_name": "LayoutModel",
            "_view_count": null,
            "_view_module": "@jupyter-widgets/base",
            "_view_module_version": "1.2.0",
            "_view_name": "LayoutView",
            "align_content": null,
            "align_items": null,
            "align_self": null,
            "border": null,
            "bottom": null,
            "display": null,
            "flex": null,
            "flex_flow": null,
            "grid_area": null,
            "grid_auto_columns": null,
            "grid_auto_flow": null,
            "grid_auto_rows": null,
            "grid_column": null,
            "grid_gap": null,
            "grid_row": null,
            "grid_template_areas": null,
            "grid_template_columns": null,
            "grid_template_rows": null,
            "height": null,
            "justify_content": null,
            "justify_items": null,
            "left": null,
            "margin": null,
            "max_height": null,
            "max_width": null,
            "min_height": null,
            "min_width": null,
            "object_fit": null,
            "object_position": null,
            "order": null,
            "overflow": null,
            "overflow_x": null,
            "overflow_y": null,
            "padding": null,
            "right": null,
            "top": null,
            "visibility": null,
            "width": null
          }
        },
        "fe1b21d69877428a9019f44dd1545cfc": {
          "model_module": "@jupyter-widgets/controls",
          "model_module_version": "1.5.0",
          "model_name": "ProgressStyleModel",
          "state": {
            "_model_module": "@jupyter-widgets/controls",
            "_model_module_version": "1.5.0",
            "_model_name": "ProgressStyleModel",
            "_view_count": null,
            "_view_module": "@jupyter-widgets/base",
            "_view_module_version": "1.2.0",
            "_view_name": "StyleView",
            "bar_color": null,
            "description_width": ""
          }
        }
      }
    }
  },
  "nbformat": 4,
  "nbformat_minor": 0
}
