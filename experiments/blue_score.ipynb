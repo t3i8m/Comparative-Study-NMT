{
 "cells": [
  {
   "cell_type": "code",
   "execution_count": 4,
   "id": "c3849878",
   "metadata": {},
   "outputs": [],
   "source": [
    "from tqdm import tqdm\n",
    "import sys\n",
    "import os\n",
    "sys.path.append(os.path.abspath(os.path.join(os.path.dirname(\"blue_score.ipynb\"), \"..\")))\n",
    "from transformers_models.marian.marianMT import MarianMt"
   ]
  },
  {
   "cell_type": "code",
   "execution_count": null,
   "id": "242e5363",
   "metadata": {},
   "outputs": [],
   "source": [
    "def retrieve_data(filenames):\n",
    "\n",
    "    english_cleaned = []\n",
    "    german_cleaned = []\n",
    "    base_path = os.path.join(os.path.dirname(\"blue_score.ipynb\"), \"..\", \"data\")\n",
    "    en_path = os.path.join(base_path, filenames[0])\n",
    "    de_path = os.path.join(base_path, filenames[1])\n",
    "\n",
    "    with open(en_path, mode = \"r\", encoding = \"utf-8\") as f_en, \\\n",
    "        open(de_path, mode = \"r\", encoding = \"utf-8\") as f_de:\n",
    "        for en, de in tqdm(zip(f_en.readlines(), f_de.readlines())):\n",
    "            english_cleaned.append(en[:-1])\n",
    "            german_cleaned.append(de[:-1])\n",
    "\n",
    "    return (english_cleaned, german_cleaned)\n"
   ]
  },
  {
   "cell_type": "code",
   "execution_count": 9,
   "id": "6b0062dd",
   "metadata": {},
   "outputs": [],
   "source": [
    "def translated(n, model):\n",
    "    return model.translate_text(n)"
   ]
  },
  {
   "cell_type": "code",
   "execution_count": 10,
   "id": "3cf9abf6",
   "metadata": {},
   "outputs": [
    {
     "ename": "FileNotFoundError",
     "evalue": "[Errno 2] No such file or directory: '/data/test.en'",
     "output_type": "error",
     "traceback": [
      "\u001b[1;31m---------------------------------------------------------------------------\u001b[0m",
      "\u001b[1;31mFileNotFoundError\u001b[0m                         Traceback (most recent call last)",
      "Input \u001b[1;32mIn [10]\u001b[0m, in \u001b[0;36m<cell line: 1>\u001b[1;34m()\u001b[0m\n\u001b[1;32m----> 1\u001b[0m cleaned \u001b[38;5;241m=\u001b[39m \u001b[43mretrieve_data\u001b[49m\u001b[43m(\u001b[49m\u001b[43m[\u001b[49m\u001b[38;5;124;43m\"\u001b[39;49m\u001b[38;5;124;43mtest.en\u001b[39;49m\u001b[38;5;124;43m\"\u001b[39;49m\u001b[43m,\u001b[49m\u001b[43m \u001b[49m\u001b[38;5;124;43m\"\u001b[39;49m\u001b[38;5;124;43mtest.de\u001b[39;49m\u001b[38;5;124;43m\"\u001b[39;49m\u001b[43m]\u001b[49m\u001b[43m)\u001b[49m\n\u001b[0;32m      2\u001b[0m english_cleaned_to_translate \u001b[38;5;241m=\u001b[39m cleaned[\u001b[38;5;241m0\u001b[39m]\n\u001b[0;32m      3\u001b[0m german_cleaned_reference \u001b[38;5;241m=\u001b[39m cleaned[\u001b[38;5;241m1\u001b[39m]\n",
      "Input \u001b[1;32mIn [8]\u001b[0m, in \u001b[0;36mretrieve_data\u001b[1;34m(filenames)\u001b[0m\n\u001b[0;32m      3\u001b[0m english_cleaned \u001b[38;5;241m=\u001b[39m []\n\u001b[0;32m      4\u001b[0m german_cleaned \u001b[38;5;241m=\u001b[39m []\n\u001b[1;32m----> 6\u001b[0m \u001b[38;5;28;01mwith\u001b[39;00m \u001b[38;5;28;43mopen\u001b[39;49m\u001b[43m(\u001b[49m\u001b[38;5;124;43mf\u001b[39;49m\u001b[38;5;124;43m\"\u001b[39;49m\u001b[38;5;124;43m/data/\u001b[39;49m\u001b[38;5;132;43;01m{\u001b[39;49;00m\u001b[43mfilenames\u001b[49m\u001b[43m[\u001b[49m\u001b[38;5;241;43m0\u001b[39;49m\u001b[43m]\u001b[49m\u001b[38;5;132;43;01m}\u001b[39;49;00m\u001b[38;5;124;43m\"\u001b[39;49m\u001b[43m,\u001b[49m\u001b[43m \u001b[49m\u001b[43mmode\u001b[49m\u001b[43m \u001b[49m\u001b[38;5;241;43m=\u001b[39;49m\u001b[43m \u001b[49m\u001b[38;5;124;43m\"\u001b[39;49m\u001b[38;5;124;43mr\u001b[39;49m\u001b[38;5;124;43m\"\u001b[39;49m\u001b[43m,\u001b[49m\u001b[43m \u001b[49m\u001b[43mencoding\u001b[49m\u001b[43m \u001b[49m\u001b[38;5;241;43m=\u001b[39;49m\u001b[43m \u001b[49m\u001b[38;5;124;43m\"\u001b[39;49m\u001b[38;5;124;43mutf-8\u001b[39;49m\u001b[38;5;124;43m\"\u001b[39;49m\u001b[43m)\u001b[49m \u001b[38;5;28;01mas\u001b[39;00m f_en, \\\n\u001b[0;32m      7\u001b[0m     \u001b[38;5;28mopen\u001b[39m(\u001b[38;5;124mf\u001b[39m\u001b[38;5;124m\"\u001b[39m\u001b[38;5;124m/data/\u001b[39m\u001b[38;5;132;01m{\u001b[39;00mfilenames[\u001b[38;5;241m1\u001b[39m]\u001b[38;5;132;01m}\u001b[39;00m\u001b[38;5;124m\"\u001b[39m, mode \u001b[38;5;241m=\u001b[39m \u001b[38;5;124m\"\u001b[39m\u001b[38;5;124mr\u001b[39m\u001b[38;5;124m\"\u001b[39m, encoding \u001b[38;5;241m=\u001b[39m \u001b[38;5;124m\"\u001b[39m\u001b[38;5;124mutf-8\u001b[39m\u001b[38;5;124m\"\u001b[39m) \u001b[38;5;28;01mas\u001b[39;00m f_de:\n\u001b[0;32m      8\u001b[0m     \u001b[38;5;28;01mfor\u001b[39;00m en, de \u001b[38;5;129;01min\u001b[39;00m tqdm(\u001b[38;5;28mzip\u001b[39m(f_en\u001b[38;5;241m.\u001b[39mreadlines(), f_de\u001b[38;5;241m.\u001b[39mreadlines())):\n\u001b[0;32m      9\u001b[0m         english_cleaned\u001b[38;5;241m.\u001b[39mappend(en[:\u001b[38;5;241m-\u001b[39m\u001b[38;5;241m1\u001b[39m])\n",
      "\u001b[1;31mFileNotFoundError\u001b[0m: [Errno 2] No such file or directory: '/data/test.en'"
     ]
    }
   ],
   "source": [
    "cleaned = retrieve_data([\"test.en\", \"test.de\"])\n",
    "english_cleaned_to_translate = cleaned[0]\n",
    "german_cleaned_reference = cleaned[1]\n",
    "\n",
    "model = MarianMt(\"Helsinki-NLP/opus-mt-en-de\")\n",
    "translations = [translated(n, model) for n in english_cleaned_to_translate]\n",
    "\n",
    "print(translations)\n"
   ]
  }
 ],
 "metadata": {
  "kernelspec": {
   "display_name": "Python 3",
   "language": "python",
   "name": "python3"
  },
  "language_info": {
   "codemirror_mode": {
    "name": "ipython",
    "version": 3
   },
   "file_extension": ".py",
   "mimetype": "text/x-python",
   "name": "python",
   "nbconvert_exporter": "python",
   "pygments_lexer": "ipython3",
   "version": "3.9.7"
  }
 },
 "nbformat": 4,
 "nbformat_minor": 5
}
