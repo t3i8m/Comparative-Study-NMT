{
 "cells": [
  {
   "cell_type": "code",
   "execution_count": 7,
   "id": "c3849878",
   "metadata": {},
   "outputs": [],
   "source": [
    "from tqdm import tqdm\n",
    "import sys\n",
    "import os\n",
    "sys.path.append(os.path.abspath(os.path.join(os.path.dirname(\"blue_score.ipynb\"), \"..\")))\n",
    "\n",
    "from transformers_models.marian.marianMT import MarianMt"
   ]
  },
  {
   "cell_type": "code",
   "execution_count": 8,
   "id": "242e5363",
   "metadata": {},
   "outputs": [],
   "source": [
    "def retrieve_data(filenames):\n",
    "\n",
    "    english_cleaned = []\n",
    "    german_cleaned = []\n",
    "    base_path = os.path.join(os.path.dirname(\"blue_score.ipynb\"), \"..\", \"data\")\n",
    "    en_path = os.path.join(base_path, filenames[0])\n",
    "    de_path = os.path.join(base_path, filenames[1])\n",
    "\n",
    "    with open(en_path, mode = \"r\", encoding = \"utf-8\") as f_en, \\\n",
    "        open(de_path, mode = \"r\", encoding = \"utf-8\") as f_de:\n",
    "        for en, de in tqdm(zip(f_en.readlines(), f_de.readlines())):\n",
    "            english_cleaned.append(en[:-1])\n",
    "            german_cleaned.append(de[:-1])\n",
    "\n",
    "    return (english_cleaned, german_cleaned)\n"
   ]
  },
  {
   "cell_type": "code",
   "execution_count": 9,
   "id": "6b0062dd",
   "metadata": {},
   "outputs": [],
   "source": [
    "def translated(n, model):\n",
    "    return model.translate_text(n)"
   ]
  },
  {
   "cell_type": "code",
   "execution_count": 12,
   "id": "97ba5951",
   "metadata": {},
   "outputs": [
    {
     "name": "stderr",
     "output_type": "stream",
     "text": [
      "3002it [00:00, 1001933.68it/s]\n"
     ]
    }
   ],
   "source": [
    "cleaned = retrieve_data([\"test.en\", \"test.de\"])\n"
   ]
  },
  {
   "cell_type": "code",
   "execution_count": 14,
   "id": "7ab8c124",
   "metadata": {},
   "outputs": [],
   "source": [
    "english_cleaned_to_translate = cleaned[0]\n",
    "german_cleaned_reference = cleaned[1]\n",
    "\n",
    "model = MarianMt(\"Helsinki-NLP/opus-mt-en-de\")"
   ]
  },
  {
   "cell_type": "code",
   "execution_count": null,
   "id": "3cf9abf6",
   "metadata": {},
   "outputs": [],
   "source": [
    "\n",
    "translations = model.batch_translate(english_cleaned_to_translate)\n",
    "\n",
    "print(translations)\n"
   ]
  },
  {
   "cell_type": "code",
   "execution_count": null,
   "id": "17ae3bcf",
   "metadata": {},
   "outputs": [],
   "source": [
    "import nltk\n",
    "nltk.download('punkt')  \n",
    "from nltk.translate.bleu_score import corpus_bleu"
   ]
  },
  {
   "cell_type": "code",
   "execution_count": null,
   "id": "bcabd7ca",
   "metadata": {},
   "outputs": [],
   "source": [
    "list_of_references = []\n",
    "hypotheses = []\n",
    "\n",
    "for ref, trans in zip(german_cleaned_reference, translations):\n",
    "\n",
    "    ref_tokens = nltk.word_tokenize(ref.lower())\n",
    "    trans_tokens = nltk.word_tokenize(trans.lower())\n",
    "\n",
    "    list_of_references.append([ref_tokens])\n",
    "    \n",
    "    hypotheses.append(trans_tokens)\n"
   ]
  },
  {
   "cell_type": "code",
   "execution_count": null,
   "id": "27f0dfe3",
   "metadata": {},
   "outputs": [],
   "source": [
    "score = round(corpus_bleu(list_of_references, hypotheses), 3)\n",
    "print(\"Corpus BLEU:\", score)  \n",
    "print(\"Corpus BLEU (%):\", score * 100)\n"
   ]
  }
 ],
 "metadata": {
  "kernelspec": {
   "display_name": "Python 3",
   "language": "python",
   "name": "python3"
  },
  "language_info": {
   "codemirror_mode": {
    "name": "ipython",
    "version": 3
   },
   "file_extension": ".py",
   "mimetype": "text/x-python",
   "name": "python",
   "nbconvert_exporter": "python",
   "pygments_lexer": "ipython3",
   "version": "3.9.7"
  }
 },
 "nbformat": 4,
 "nbformat_minor": 5
}
