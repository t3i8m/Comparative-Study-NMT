{
  "cells": [
    {
      "cell_type": "code",
      "source": [
        "!pip install datasets transformers==4.51.3 nltk evaluate tqdm\n",
        "!pip install bert_score\n"
      ],
      "metadata": {
        "colab": {
          "base_uri": "https://localhost:8080/"
        },
        "id": "WboIZeWB2ecX",
        "outputId": "80e7ed3e-529d-4a76-d60a-deefee7d24ad"
      },
      "id": "WboIZeWB2ecX",
      "execution_count": 2,
      "outputs": [
        {
          "output_type": "stream",
          "name": "stdout",
          "text": [
            "Requirement already satisfied: datasets in /usr/local/lib/python3.11/dist-packages (3.5.1)\n",
            "Requirement already satisfied: transformers in /usr/local/lib/python3.11/dist-packages (4.51.3)\n",
            "Requirement already satisfied: nltk in /usr/local/lib/python3.11/dist-packages (3.9.1)\n",
            "Requirement already satisfied: evaluate in /usr/local/lib/python3.11/dist-packages (0.4.3)\n",
            "Requirement already satisfied: tqdm in /usr/local/lib/python3.11/dist-packages (4.67.1)\n",
            "Requirement already satisfied: filelock in /usr/local/lib/python3.11/dist-packages (from datasets) (3.18.0)\n",
            "Requirement already satisfied: numpy>=1.17 in /usr/local/lib/python3.11/dist-packages (from datasets) (2.0.2)\n",
            "Requirement already satisfied: pyarrow>=15.0.0 in /usr/local/lib/python3.11/dist-packages (from datasets) (18.1.0)\n",
            "Requirement already satisfied: dill<0.3.9,>=0.3.0 in /usr/local/lib/python3.11/dist-packages (from datasets) (0.3.8)\n",
            "Requirement already satisfied: pandas in /usr/local/lib/python3.11/dist-packages (from datasets) (2.2.2)\n",
            "Requirement already satisfied: requests>=2.32.2 in /usr/local/lib/python3.11/dist-packages (from datasets) (2.32.3)\n",
            "Requirement already satisfied: xxhash in /usr/local/lib/python3.11/dist-packages (from datasets) (3.5.0)\n",
            "Requirement already satisfied: multiprocess<0.70.17 in /usr/local/lib/python3.11/dist-packages (from datasets) (0.70.16)\n",
            "Requirement already satisfied: fsspec<=2025.3.0,>=2023.1.0 in /usr/local/lib/python3.11/dist-packages (from fsspec[http]<=2025.3.0,>=2023.1.0->datasets) (2025.3.0)\n",
            "Requirement already satisfied: aiohttp in /usr/local/lib/python3.11/dist-packages (from datasets) (3.11.15)\n",
            "Requirement already satisfied: huggingface-hub>=0.24.0 in /usr/local/lib/python3.11/dist-packages (from datasets) (0.30.2)\n",
            "Requirement already satisfied: packaging in /usr/local/lib/python3.11/dist-packages (from datasets) (24.2)\n",
            "Requirement already satisfied: pyyaml>=5.1 in /usr/local/lib/python3.11/dist-packages (from datasets) (6.0.2)\n",
            "Requirement already satisfied: regex!=2019.12.17 in /usr/local/lib/python3.11/dist-packages (from transformers) (2024.11.6)\n",
            "Requirement already satisfied: tokenizers<0.22,>=0.21 in /usr/local/lib/python3.11/dist-packages (from transformers) (0.21.1)\n",
            "Requirement already satisfied: safetensors>=0.4.3 in /usr/local/lib/python3.11/dist-packages (from transformers) (0.5.3)\n",
            "Requirement already satisfied: click in /usr/local/lib/python3.11/dist-packages (from nltk) (8.1.8)\n",
            "Requirement already satisfied: joblib in /usr/local/lib/python3.11/dist-packages (from nltk) (1.4.2)\n",
            "Requirement already satisfied: aiohappyeyeballs>=2.3.0 in /usr/local/lib/python3.11/dist-packages (from aiohttp->datasets) (2.6.1)\n",
            "Requirement already satisfied: aiosignal>=1.1.2 in /usr/local/lib/python3.11/dist-packages (from aiohttp->datasets) (1.3.2)\n",
            "Requirement already satisfied: attrs>=17.3.0 in /usr/local/lib/python3.11/dist-packages (from aiohttp->datasets) (25.3.0)\n",
            "Requirement already satisfied: frozenlist>=1.1.1 in /usr/local/lib/python3.11/dist-packages (from aiohttp->datasets) (1.6.0)\n",
            "Requirement already satisfied: multidict<7.0,>=4.5 in /usr/local/lib/python3.11/dist-packages (from aiohttp->datasets) (6.4.3)\n",
            "Requirement already satisfied: propcache>=0.2.0 in /usr/local/lib/python3.11/dist-packages (from aiohttp->datasets) (0.3.1)\n",
            "Requirement already satisfied: yarl<2.0,>=1.17.0 in /usr/local/lib/python3.11/dist-packages (from aiohttp->datasets) (1.20.0)\n",
            "Requirement already satisfied: typing-extensions>=3.7.4.3 in /usr/local/lib/python3.11/dist-packages (from huggingface-hub>=0.24.0->datasets) (4.13.2)\n",
            "Requirement already satisfied: charset-normalizer<4,>=2 in /usr/local/lib/python3.11/dist-packages (from requests>=2.32.2->datasets) (3.4.1)\n",
            "Requirement already satisfied: idna<4,>=2.5 in /usr/local/lib/python3.11/dist-packages (from requests>=2.32.2->datasets) (3.10)\n",
            "Requirement already satisfied: urllib3<3,>=1.21.1 in /usr/local/lib/python3.11/dist-packages (from requests>=2.32.2->datasets) (2.4.0)\n",
            "Requirement already satisfied: certifi>=2017.4.17 in /usr/local/lib/python3.11/dist-packages (from requests>=2.32.2->datasets) (2025.4.26)\n",
            "Requirement already satisfied: python-dateutil>=2.8.2 in /usr/local/lib/python3.11/dist-packages (from pandas->datasets) (2.9.0.post0)\n",
            "Requirement already satisfied: pytz>=2020.1 in /usr/local/lib/python3.11/dist-packages (from pandas->datasets) (2025.2)\n",
            "Requirement already satisfied: tzdata>=2022.7 in /usr/local/lib/python3.11/dist-packages (from pandas->datasets) (2025.2)\n",
            "Requirement already satisfied: six>=1.5 in /usr/local/lib/python3.11/dist-packages (from python-dateutil>=2.8.2->pandas->datasets) (1.17.0)\n",
            "Requirement already satisfied: bert_score in /usr/local/lib/python3.11/dist-packages (0.3.13)\n",
            "Requirement already satisfied: torch>=1.0.0 in /usr/local/lib/python3.11/dist-packages (from bert_score) (2.6.0+cu124)\n",
            "Requirement already satisfied: pandas>=1.0.1 in /usr/local/lib/python3.11/dist-packages (from bert_score) (2.2.2)\n",
            "Requirement already satisfied: transformers>=3.0.0 in /usr/local/lib/python3.11/dist-packages (from bert_score) (4.51.3)\n",
            "Requirement already satisfied: numpy in /usr/local/lib/python3.11/dist-packages (from bert_score) (2.0.2)\n",
            "Requirement already satisfied: requests in /usr/local/lib/python3.11/dist-packages (from bert_score) (2.32.3)\n",
            "Requirement already satisfied: tqdm>=4.31.1 in /usr/local/lib/python3.11/dist-packages (from bert_score) (4.67.1)\n",
            "Requirement already satisfied: matplotlib in /usr/local/lib/python3.11/dist-packages (from bert_score) (3.10.0)\n",
            "Requirement already satisfied: packaging>=20.9 in /usr/local/lib/python3.11/dist-packages (from bert_score) (24.2)\n",
            "Requirement already satisfied: python-dateutil>=2.8.2 in /usr/local/lib/python3.11/dist-packages (from pandas>=1.0.1->bert_score) (2.9.0.post0)\n",
            "Requirement already satisfied: pytz>=2020.1 in /usr/local/lib/python3.11/dist-packages (from pandas>=1.0.1->bert_score) (2025.2)\n",
            "Requirement already satisfied: tzdata>=2022.7 in /usr/local/lib/python3.11/dist-packages (from pandas>=1.0.1->bert_score) (2025.2)\n",
            "Requirement already satisfied: filelock in /usr/local/lib/python3.11/dist-packages (from torch>=1.0.0->bert_score) (3.18.0)\n",
            "Requirement already satisfied: typing-extensions>=4.10.0 in /usr/local/lib/python3.11/dist-packages (from torch>=1.0.0->bert_score) (4.13.2)\n",
            "Requirement already satisfied: networkx in /usr/local/lib/python3.11/dist-packages (from torch>=1.0.0->bert_score) (3.4.2)\n",
            "Requirement already satisfied: jinja2 in /usr/local/lib/python3.11/dist-packages (from torch>=1.0.0->bert_score) (3.1.6)\n",
            "Requirement already satisfied: fsspec in /usr/local/lib/python3.11/dist-packages (from torch>=1.0.0->bert_score) (2025.3.0)\n",
            "Requirement already satisfied: nvidia-cuda-nvrtc-cu12==12.4.127 in /usr/local/lib/python3.11/dist-packages (from torch>=1.0.0->bert_score) (12.4.127)\n",
            "Requirement already satisfied: nvidia-cuda-runtime-cu12==12.4.127 in /usr/local/lib/python3.11/dist-packages (from torch>=1.0.0->bert_score) (12.4.127)\n",
            "Requirement already satisfied: nvidia-cuda-cupti-cu12==12.4.127 in /usr/local/lib/python3.11/dist-packages (from torch>=1.0.0->bert_score) (12.4.127)\n",
            "Requirement already satisfied: nvidia-cudnn-cu12==9.1.0.70 in /usr/local/lib/python3.11/dist-packages (from torch>=1.0.0->bert_score) (9.1.0.70)\n",
            "Requirement already satisfied: nvidia-cublas-cu12==12.4.5.8 in /usr/local/lib/python3.11/dist-packages (from torch>=1.0.0->bert_score) (12.4.5.8)\n",
            "Requirement already satisfied: nvidia-cufft-cu12==11.2.1.3 in /usr/local/lib/python3.11/dist-packages (from torch>=1.0.0->bert_score) (11.2.1.3)\n",
            "Requirement already satisfied: nvidia-curand-cu12==10.3.5.147 in /usr/local/lib/python3.11/dist-packages (from torch>=1.0.0->bert_score) (10.3.5.147)\n",
            "Requirement already satisfied: nvidia-cusolver-cu12==11.6.1.9 in /usr/local/lib/python3.11/dist-packages (from torch>=1.0.0->bert_score) (11.6.1.9)\n",
            "Requirement already satisfied: nvidia-cusparse-cu12==12.3.1.170 in /usr/local/lib/python3.11/dist-packages (from torch>=1.0.0->bert_score) (12.3.1.170)\n",
            "Requirement already satisfied: nvidia-cusparselt-cu12==0.6.2 in /usr/local/lib/python3.11/dist-packages (from torch>=1.0.0->bert_score) (0.6.2)\n",
            "Requirement already satisfied: nvidia-nccl-cu12==2.21.5 in /usr/local/lib/python3.11/dist-packages (from torch>=1.0.0->bert_score) (2.21.5)\n",
            "Requirement already satisfied: nvidia-nvtx-cu12==12.4.127 in /usr/local/lib/python3.11/dist-packages (from torch>=1.0.0->bert_score) (12.4.127)\n",
            "Requirement already satisfied: nvidia-nvjitlink-cu12==12.4.127 in /usr/local/lib/python3.11/dist-packages (from torch>=1.0.0->bert_score) (12.4.127)\n",
            "Requirement already satisfied: triton==3.2.0 in /usr/local/lib/python3.11/dist-packages (from torch>=1.0.0->bert_score) (3.2.0)\n",
            "Requirement already satisfied: sympy==1.13.1 in /usr/local/lib/python3.11/dist-packages (from torch>=1.0.0->bert_score) (1.13.1)\n",
            "Requirement already satisfied: mpmath<1.4,>=1.1.0 in /usr/local/lib/python3.11/dist-packages (from sympy==1.13.1->torch>=1.0.0->bert_score) (1.3.0)\n",
            "Requirement already satisfied: huggingface-hub<1.0,>=0.30.0 in /usr/local/lib/python3.11/dist-packages (from transformers>=3.0.0->bert_score) (0.30.2)\n",
            "Requirement already satisfied: pyyaml>=5.1 in /usr/local/lib/python3.11/dist-packages (from transformers>=3.0.0->bert_score) (6.0.2)\n",
            "Requirement already satisfied: regex!=2019.12.17 in /usr/local/lib/python3.11/dist-packages (from transformers>=3.0.0->bert_score) (2024.11.6)\n",
            "Requirement already satisfied: tokenizers<0.22,>=0.21 in /usr/local/lib/python3.11/dist-packages (from transformers>=3.0.0->bert_score) (0.21.1)\n",
            "Requirement already satisfied: safetensors>=0.4.3 in /usr/local/lib/python3.11/dist-packages (from transformers>=3.0.0->bert_score) (0.5.3)\n",
            "Requirement already satisfied: contourpy>=1.0.1 in /usr/local/lib/python3.11/dist-packages (from matplotlib->bert_score) (1.3.2)\n",
            "Requirement already satisfied: cycler>=0.10 in /usr/local/lib/python3.11/dist-packages (from matplotlib->bert_score) (0.12.1)\n",
            "Requirement already satisfied: fonttools>=4.22.0 in /usr/local/lib/python3.11/dist-packages (from matplotlib->bert_score) (4.57.0)\n",
            "Requirement already satisfied: kiwisolver>=1.3.1 in /usr/local/lib/python3.11/dist-packages (from matplotlib->bert_score) (1.4.8)\n",
            "Requirement already satisfied: pillow>=8 in /usr/local/lib/python3.11/dist-packages (from matplotlib->bert_score) (11.2.1)\n",
            "Requirement already satisfied: pyparsing>=2.3.1 in /usr/local/lib/python3.11/dist-packages (from matplotlib->bert_score) (3.2.3)\n",
            "Requirement already satisfied: charset-normalizer<4,>=2 in /usr/local/lib/python3.11/dist-packages (from requests->bert_score) (3.4.1)\n",
            "Requirement already satisfied: idna<4,>=2.5 in /usr/local/lib/python3.11/dist-packages (from requests->bert_score) (3.10)\n",
            "Requirement already satisfied: urllib3<3,>=1.21.1 in /usr/local/lib/python3.11/dist-packages (from requests->bert_score) (2.4.0)\n",
            "Requirement already satisfied: certifi>=2017.4.17 in /usr/local/lib/python3.11/dist-packages (from requests->bert_score) (2025.4.26)\n",
            "Requirement already satisfied: six>=1.5 in /usr/local/lib/python3.11/dist-packages (from python-dateutil>=2.8.2->pandas>=1.0.1->bert_score) (1.17.0)\n",
            "Requirement already satisfied: MarkupSafe>=2.0 in /usr/local/lib/python3.11/dist-packages (from jinja2->torch>=1.0.0->bert_score) (3.0.2)\n"
          ]
        }
      ]
    },
    {
      "cell_type": "code",
      "source": [
        "!pip install wandb"
      ],
      "metadata": {
        "colab": {
          "base_uri": "https://localhost:8080/"
        },
        "id": "TEhHIe-oKEc3",
        "outputId": "60a3816e-1054-4e7e-f9b5-5d84bceca958"
      },
      "id": "TEhHIe-oKEc3",
      "execution_count": 60,
      "outputs": [
        {
          "output_type": "stream",
          "name": "stdout",
          "text": [
            "Requirement already satisfied: wandb in /usr/local/lib/python3.11/dist-packages (0.19.10)\n",
            "Requirement already satisfied: click!=8.0.0,>=7.1 in /usr/local/lib/python3.11/dist-packages (from wandb) (8.1.8)\n",
            "Requirement already satisfied: docker-pycreds>=0.4.0 in /usr/local/lib/python3.11/dist-packages (from wandb) (0.4.0)\n",
            "Requirement already satisfied: gitpython!=3.1.29,>=1.0.0 in /usr/local/lib/python3.11/dist-packages (from wandb) (3.1.44)\n",
            "Requirement already satisfied: platformdirs in /usr/local/lib/python3.11/dist-packages (from wandb) (4.3.7)\n",
            "Requirement already satisfied: protobuf!=4.21.0,!=5.28.0,<7,>=3.19.0 in /usr/local/lib/python3.11/dist-packages (from wandb) (5.29.4)\n",
            "Requirement already satisfied: psutil>=5.0.0 in /usr/local/lib/python3.11/dist-packages (from wandb) (5.9.5)\n",
            "Requirement already satisfied: pydantic<3 in /usr/local/lib/python3.11/dist-packages (from wandb) (2.11.4)\n",
            "Requirement already satisfied: pyyaml in /usr/local/lib/python3.11/dist-packages (from wandb) (6.0.2)\n",
            "Requirement already satisfied: requests<3,>=2.0.0 in /usr/local/lib/python3.11/dist-packages (from wandb) (2.32.3)\n",
            "Requirement already satisfied: sentry-sdk>=2.0.0 in /usr/local/lib/python3.11/dist-packages (from wandb) (2.27.0)\n",
            "Requirement already satisfied: setproctitle in /usr/local/lib/python3.11/dist-packages (from wandb) (1.3.6)\n",
            "Requirement already satisfied: setuptools in /usr/local/lib/python3.11/dist-packages (from wandb) (75.2.0)\n",
            "Requirement already satisfied: typing-extensions<5,>=4.4 in /usr/local/lib/python3.11/dist-packages (from wandb) (4.13.2)\n",
            "Requirement already satisfied: six>=1.4.0 in /usr/local/lib/python3.11/dist-packages (from docker-pycreds>=0.4.0->wandb) (1.17.0)\n",
            "Requirement already satisfied: gitdb<5,>=4.0.1 in /usr/local/lib/python3.11/dist-packages (from gitpython!=3.1.29,>=1.0.0->wandb) (4.0.12)\n",
            "Requirement already satisfied: annotated-types>=0.6.0 in /usr/local/lib/python3.11/dist-packages (from pydantic<3->wandb) (0.7.0)\n",
            "Requirement already satisfied: pydantic-core==2.33.2 in /usr/local/lib/python3.11/dist-packages (from pydantic<3->wandb) (2.33.2)\n",
            "Requirement already satisfied: typing-inspection>=0.4.0 in /usr/local/lib/python3.11/dist-packages (from pydantic<3->wandb) (0.4.0)\n",
            "Requirement already satisfied: charset-normalizer<4,>=2 in /usr/local/lib/python3.11/dist-packages (from requests<3,>=2.0.0->wandb) (3.4.1)\n",
            "Requirement already satisfied: idna<4,>=2.5 in /usr/local/lib/python3.11/dist-packages (from requests<3,>=2.0.0->wandb) (3.10)\n",
            "Requirement already satisfied: urllib3<3,>=1.21.1 in /usr/local/lib/python3.11/dist-packages (from requests<3,>=2.0.0->wandb) (2.4.0)\n",
            "Requirement already satisfied: certifi>=2017.4.17 in /usr/local/lib/python3.11/dist-packages (from requests<3,>=2.0.0->wandb) (2025.4.26)\n",
            "Requirement already satisfied: smmap<6,>=3.0.1 in /usr/local/lib/python3.11/dist-packages (from gitdb<5,>=4.0.1->gitpython!=3.1.29,>=1.0.0->wandb) (5.0.2)\n"
          ]
        }
      ]
    },
    {
      "cell_type": "code",
      "execution_count": 3,
      "id": "c3849878",
      "metadata": {
        "colab": {
          "base_uri": "https://localhost:8080/"
        },
        "id": "c3849878",
        "outputId": "2da31f7f-4b1b-4322-9101-6758dc4030ba"
      },
      "outputs": [
        {
          "output_type": "stream",
          "name": "stderr",
          "text": [
            "[nltk_data] Downloading package punkt to /root/nltk_data...\n",
            "[nltk_data]   Package punkt is already up-to-date!\n"
          ]
        }
      ],
      "source": [
        "from tqdm import tqdm\n",
        "import sys\n",
        "import os\n",
        "import nltk\n",
        "nltk.download('punkt')\n",
        "from nltk.translate.bleu_score import corpus_bleu\n",
        "sys.path.append(os.path.abspath(os.path.join(os.path.dirname(\"blue_score.ipynb\"), \"..\")))\n",
        "from datasets import load_dataset\n",
        "\n",
        "# from transformers_models.marian.marianMT import\n"
      ]
    },
    {
      "cell_type": "code",
      "source": [
        "import random\n",
        "import numpy as np"
      ],
      "metadata": {
        "id": "vxQj3pT5_O9S"
      },
      "id": "vxQj3pT5_O9S",
      "execution_count": 4,
      "outputs": []
    },
    {
      "cell_type": "code",
      "source": [
        "SEED_VALUE = 42\n",
        "\n",
        "\n",
        "random.seed(SEED_VALUE)\n",
        "np.random.seed(SEED_VALUE)"
      ],
      "metadata": {
        "id": "Ogp2_jDE_KHY"
      },
      "id": "Ogp2_jDE_KHY",
      "execution_count": 5,
      "outputs": []
    },
    {
      "cell_type": "code",
      "execution_count": 5,
      "id": "242e5363",
      "metadata": {
        "id": "242e5363"
      },
      "outputs": [],
      "source": [
        "\n",
        "#def retrieve_data():\n",
        "#    dataset = load_dataset(\"wmt14\", \"de-en\")\n",
        "#\n",
        "#    subset = dataset[\"train\"].select(range(120000))\n",
        "#\n",
        "#    # train_data = subset.select(range(100000))\n",
        "#    # val_data = subset.select(range(100000, 110000))\n",
        "#    # test_data = subset.select(range(110000, 120000))\n",
        "#\n",
        "#\n",
        "#\n",
        "#    train_data = subset.select(range(15000))\n",
        "#    val_data = subset.select(range(15000, 16000))\n",
        "#    test_data = subset.select(range(16000, 17000))\n",
        "#    return {\n",
        "#        \"train\": train_data,\n",
        "#        \"validation\": val_data,\n",
        "#        \"test\": test_data\n",
        "#    }\n"
      ]
    },
    {
      "cell_type": "code",
      "source": [
        "def retrieve_data(max_length=30):\n",
        "    dataset = load_dataset(\"wmt14\", \"de-en\")\n",
        "\n",
        "    raw_subset = dataset[\"train\"].select(range(200000))\n",
        "\n",
        "    def is_short(example):\n",
        "        return len(example[\"translation\"][\"de\"].split()) <= max_length and \\\n",
        "               len(example[\"translation\"][\"en\"].split()) <= max_length\n",
        "\n",
        "    filtered = raw_subset.filter(is_short)\n",
        "\n",
        "    train_data = filtered.select(range(15000))\n",
        "    val_data = filtered.select(range(15000, 16000))\n",
        "    test_data = filtered.select(range(16000, 17000))\n",
        "\n",
        "    return {\n",
        "        \"train\": train_data,\n",
        "        \"validation\": val_data,\n",
        "        \"test\": test_data\n",
        "    }"
      ],
      "metadata": {
        "id": "eLbXcHwiAXMT"
      },
      "id": "eLbXcHwiAXMT",
      "execution_count": 6,
      "outputs": []
    },
    {
      "cell_type": "code",
      "execution_count": 7,
      "id": "6b0062dd",
      "metadata": {
        "id": "6b0062dd"
      },
      "outputs": [],
      "source": [
        "def translated(n, model):\n",
        "    return model.translate_text(n)"
      ]
    },
    {
      "cell_type": "code",
      "execution_count": 8,
      "id": "97ba5951",
      "metadata": {
        "id": "97ba5951",
        "colab": {
          "base_uri": "https://localhost:8080/"
        },
        "outputId": "9eb3d399-9fbe-4268-c77a-110f2892babe"
      },
      "outputs": [
        {
          "output_type": "stream",
          "name": "stderr",
          "text": [
            "/usr/local/lib/python3.11/dist-packages/huggingface_hub/utils/_auth.py:94: UserWarning: \n",
            "The secret `HF_TOKEN` does not exist in your Colab secrets.\n",
            "To authenticate with the Hugging Face Hub, create a token in your settings tab (https://huggingface.co/settings/tokens), set it as secret in your Google Colab and restart your session.\n",
            "You will be able to reuse this secret in all of your notebooks.\n",
            "Please note that authentication is recommended but still optional to access public models or datasets.\n",
            "  warnings.warn(\n"
          ]
        }
      ],
      "source": [
        "\n",
        "data = retrieve_data()\n"
      ]
    },
    {
      "cell_type": "code",
      "source": [
        "print(data[\"train\"].shape)\n",
        "print(data[\"test\"].shape)\n",
        "print(data[\"validation\"].shape)"
      ],
      "metadata": {
        "colab": {
          "base_uri": "https://localhost:8080/"
        },
        "id": "bGXS8tyE_dft",
        "outputId": "609afcd7-6d5c-43b3-8072-f6580f279579"
      },
      "id": "bGXS8tyE_dft",
      "execution_count": 9,
      "outputs": [
        {
          "output_type": "stream",
          "name": "stdout",
          "text": [
            "(15000, 1)\n",
            "(1000, 1)\n",
            "(1000, 1)\n"
          ]
        }
      ]
    },
    {
      "cell_type": "code",
      "execution_count": 10,
      "id": "15662f64",
      "metadata": {
        "colab": {
          "base_uri": "https://localhost:8080/"
        },
        "id": "15662f64",
        "outputId": "e86ed15c-1895-436c-d2d4-b14819fe9269"
      },
      "outputs": [
        {
          "output_type": "execute_result",
          "data": {
            "text/plain": [
              "[{'de': 'Ihre Ablehnung wäre ein deutliches Zeichen für die Bürger, wäre eine verantwortliche Haltung des Parlaments.',\n",
              "  'en': 'Rejecting it would represent a strong message to our citizens and a responsible attitude adopted by Parliament.'},\n",
              " {'de': 'Das ist Sinn und Zweck unseres Änderungsantrags, denn sonst muß man sich fragen, wann kommt der Wein ohne Trauben und die Butter ohne Sahne?',\n",
              "  'en': 'This is the thrust of our amendment. If not, when will we see wine made without grapes and butter without cream?'},\n",
              " {'de': 'Trifft das denn auch so zu?', 'en': 'But is this actually true?'},\n",
              " {'de': 'Ich beginne mit der Verbraucherinformation.',\n",
              "  'en': 'I will start with the information for the consumer.'},\n",
              " {'de': 'Die Kommission hat selbst zugegeben, daß es kein überzeugendes Nachweisverfahren gibt.',\n",
              "  'en': 'The Commission has freely admitted that there is no foolproof detection method.'},\n",
              " {'de': 'Die Fehlerquote liegt bei 2 %.', 'en': 'The margin of error is 2%.'},\n",
              " {'de': 'Auf 5 % sind das sogar 50 % mehr.',\n",
              "  'en': 'At 5%, this is even 50% more.'},\n",
              " {'de': 'Das halte ich für inakzeptabel.',\n",
              "  'en': 'This seems to be unacceptable to me.'},\n",
              " {'de': 'Darüber hinaus ist die Kontrolle abhängig von der Schokoladeart und den Informationen, die der Produzent zu geben bereit ist.',\n",
              "  'en': 'Furthermore, inspection depends on the type of chocolate and the information which the producer wishes to provide.'},\n",
              " {'de': 'Wir nehmen uns selbst, und vor allem den Verbraucher, nicht ernst, wenn wir eine Richtlinie einführen, die wir nicht hinreichend kontrollieren können.',\n",
              "  'en': 'We are not taking ourselves and the consumer, in particular, seriously if we introduce a directive which we cannot monitor adequately.'}]"
            ]
          },
          "metadata": {},
          "execution_count": 10
        }
      ],
      "source": [
        "data[\"validation\"][\"translation\"][:10]"
      ]
    },
    {
      "cell_type": "code",
      "execution_count": 11,
      "id": "2da2205f",
      "metadata": {
        "colab": {
          "base_uri": "https://localhost:8080/"
        },
        "id": "2da2205f",
        "outputId": "ecbc4600-f8ec-4480-ee5b-c9ab5702e72f"
      },
      "outputs": [
        {
          "output_type": "execute_result",
          "data": {
            "text/plain": [
              "[{'de': 'Uns stimmt auch zufrieden, daß der Vorschlag den Dienstleistungsbereich einbezieht.',\n",
              "  'en': 'We are also pleased that the proposal is to cover the service sector, too.'},\n",
              " {'de': 'Herr Präsident, als ich neulich bei meiner Schwägerin war, stellte ich fest, daß sie eine Flasche mit \"umweltfreundlichem \" Spülmittel hatte.',\n",
              "  'en': 'Mr President, whilst recently at my sister-in-law\\'s house, I noticed that she had a container of \"eco-friendly\" washing-up liquid.'},\n",
              " {'de': 'Die Moral der Geschichte besteht natürlich darin, daß umweltfreundliche Produkte möglichst ebenso leistungsfähig sein müssen wie Alternativerzeugnisse, wenn sie sich auf dem regulären Markt behaupten sollen.',\n",
              "  'en': 'The moral of this story is, of course, that to compete in the mainstream market, eco-products must give a performance close to their alternatives.'},\n",
              " {'de': 'Nur dann werden diese Produkte in der Lage sein, den Sprung vom Nischenmarkt zum regulären Markt zu schaffen.',\n",
              "  'en': 'Only then can these products move out of the niche market they already have and into the mainstream.'},\n",
              " {'de': 'Dem Umweltzeichen darf keine Mittelmäßigkeit anhaften.',\n",
              "  'en': 'The eco-label should not be associated with mediocrity.'},\n",
              " {'de': 'Der blaue Engel in Deutschland und der Schwan in Skandinavien waren Wegbereiter auf diesem Gebiet.',\n",
              "  'en': 'The German Blue Angel and the Nordic Swan have led the way in eco-labelling.'},\n",
              " {'de': 'Wir würden das Kind mit dem Bade ausschütten, wenn wir diese erfolgreichen Programme jetzt abschaffen würden.',\n",
              "  'en': 'To scrap these successful schemes now would be to throw away the baby with the bath water.'},\n",
              " {'de': 'Langfristig ist ein einziges europäisches Umweltzeichen meiner Ansicht nach von Vorteil, es sollte jedoch niemandem aufgezwungen werden, der bereits über ein entsprechendes System verfügt.',\n",
              "  'en': 'In the long term, I can see the merits of the single European eco-label, but this must not be imposed on those with existing schemes.'},\n",
              " {'de': 'Das Umweltzeichen wird längst nicht mehr nur für Walderzeugnisse und Waschmittel, sondern verstärkt auch für Haushaltsgeräte und Computer vergeben, doch das muß noch nicht alles sein.',\n",
              "  'en': 'Eco-labelling is moving on from forest products and detergents to computers and household appliances, but why stop there?'},\n",
              " {'de': 'So könnten sich auch Dienstleister wie Fremdenverkehrsbetriebe anmelden, und umweltfreundlich betriebene Taxis ebenso.',\n",
              "  'en': 'Services such as tourism and clean taxes could register.'}]"
            ]
          },
          "metadata": {},
          "execution_count": 11
        }
      ],
      "source": [
        "data[\"test\"][\"translation\"][:10]"
      ]
    },
    {
      "cell_type": "code",
      "execution_count": 12,
      "id": "0030a374",
      "metadata": {
        "colab": {
          "base_uri": "https://localhost:8080/"
        },
        "id": "0030a374",
        "outputId": "9916e5c0-a9dd-4036-a352-e2fdabdcae15"
      },
      "outputs": [
        {
          "output_type": "execute_result",
          "data": {
            "text/plain": [
              "[{'de': 'Wiederaufnahme der Sitzungsperiode',\n",
              "  'en': 'Resumption of the session'},\n",
              " {'de': 'Im Parlament besteht der Wunsch nach einer Aussprache im Verlauf dieser Sitzungsperiode in den nächsten Tagen.',\n",
              "  'en': 'You have requested a debate on this subject in the course of the next few days, during this part-session.'},\n",
              " {'de': 'Ich bitte Sie, sich zu einer Schweigeminute zu erheben.',\n",
              "  'en': \"Please rise, then, for this minute' s silence.\"},\n",
              " {'de': '(Das Parlament erhebt sich zu einer Schweigeminute.)',\n",
              "  'en': \"(The House rose and observed a minute' s silence)\"},\n",
              " {'de': 'Frau Präsidentin, zur Geschäftsordnung.',\n",
              "  'en': 'Madam President, on a point of order.'},\n",
              " {'de': 'Wie Sie sicher aus der Presse und dem Fernsehen wissen, gab es in Sri Lanka mehrere Bombenexplosionen mit zahlreichen Toten.',\n",
              "  'en': 'You will be aware from the press and television that there have been a number of bomb explosions and killings in Sri Lanka.'},\n",
              " {'de': 'Ja, Herr Evans, ich denke, daß eine derartige Initiative durchaus angebracht ist.',\n",
              "  'en': 'Yes, Mr Evans, I feel an initiative of the type you have just suggested would be entirely appropriate.'},\n",
              " {'de': 'Wenn das Haus damit einverstanden ist, werde ich dem Vorschlag von Herrn Evans folgen.',\n",
              "  'en': 'If the House agrees, I shall do as Mr Evans has suggested.'},\n",
              " {'de': 'Frau Präsidentin, zur Geschäftsordnung.',\n",
              "  'en': 'Madam President, on a point of order.'},\n",
              " {'de': 'Könnten Sie mir eine Auskunft zu Artikel 143 im Zusammenhang mit der Unzulässigkeit geben?',\n",
              "  'en': 'I would like your advice about Rule 143 concerning inadmissibility.'}]"
            ]
          },
          "metadata": {},
          "execution_count": 12
        }
      ],
      "source": [
        "data[\"train\"][\"translation\"][:10]"
      ]
    },
    {
      "cell_type": "code",
      "execution_count": 13,
      "id": "7ab8c124",
      "metadata": {
        "colab": {
          "base_uri": "https://localhost:8080/"
        },
        "id": "7ab8c124",
        "outputId": "8fc44a90-07a4-4320-c04b-95a74dafee08"
      },
      "outputs": [
        {
          "output_type": "stream",
          "name": "stderr",
          "text": [
            "/usr/local/lib/python3.11/dist-packages/transformers/models/marian/tokenization_marian.py:175: UserWarning: Recommended: pip install sacremoses.\n",
            "  warnings.warn(\"Recommended: pip install sacremoses.\")\n"
          ]
        }
      ],
      "source": [
        "from transformers import MarianMTModel, MarianTokenizer\n",
        "from torch.utils.data import Dataset, DataLoader\n",
        "import torch\n",
        "\n",
        "model_name = \"Helsinki-NLP/opus-mt-en-de\"\n",
        "tokenizer = MarianTokenizer.from_pretrained(model_name)\n",
        "model = MarianMTModel.from_pretrained(model_name)"
      ]
    },
    {
      "cell_type": "code",
      "execution_count": 14,
      "id": "be817daf",
      "metadata": {
        "id": "be817daf"
      },
      "outputs": [],
      "source": [
        "english = [n[\"en\"] for n in data[\"train\"][\"translation\"]]\n",
        "german = [n[\"de\"] for n in data[\"train\"][\"translation\"]]"
      ]
    },
    {
      "cell_type": "code",
      "execution_count": 98,
      "id": "dad41e94",
      "metadata": {
        "colab": {
          "base_uri": "https://localhost:8080/",
          "height": 206
        },
        "id": "dad41e94",
        "outputId": "66603a53-a47f-4af4-e5ae-2092ae01772f"
      },
      "outputs": [
        {
          "output_type": "execute_result",
          "data": {
            "text/plain": [
              "            Metric     Score\n",
              "0             BLEU  0.244409\n",
              "1           METEOR  0.515060\n",
              "2  Precision(BERT)  0.858005\n",
              "3     Recall(BERT)  0.855683\n",
              "4         F1(BERT)  0.856573"
            ],
            "text/html": [
              "\n",
              "  <div id=\"df-50ed7d2d-a2c9-4d36-ab6a-a440dad97b98\" class=\"colab-df-container\">\n",
              "    <div>\n",
              "<style scoped>\n",
              "    .dataframe tbody tr th:only-of-type {\n",
              "        vertical-align: middle;\n",
              "    }\n",
              "\n",
              "    .dataframe tbody tr th {\n",
              "        vertical-align: top;\n",
              "    }\n",
              "\n",
              "    .dataframe thead th {\n",
              "        text-align: right;\n",
              "    }\n",
              "</style>\n",
              "<table border=\"1\" class=\"dataframe\">\n",
              "  <thead>\n",
              "    <tr style=\"text-align: right;\">\n",
              "      <th></th>\n",
              "      <th>Metric</th>\n",
              "      <th>Score</th>\n",
              "    </tr>\n",
              "  </thead>\n",
              "  <tbody>\n",
              "    <tr>\n",
              "      <th>0</th>\n",
              "      <td>BLEU</td>\n",
              "      <td>0.244409</td>\n",
              "    </tr>\n",
              "    <tr>\n",
              "      <th>1</th>\n",
              "      <td>METEOR</td>\n",
              "      <td>0.515060</td>\n",
              "    </tr>\n",
              "    <tr>\n",
              "      <th>2</th>\n",
              "      <td>Precision(BERT)</td>\n",
              "      <td>0.858005</td>\n",
              "    </tr>\n",
              "    <tr>\n",
              "      <th>3</th>\n",
              "      <td>Recall(BERT)</td>\n",
              "      <td>0.855683</td>\n",
              "    </tr>\n",
              "    <tr>\n",
              "      <th>4</th>\n",
              "      <td>F1(BERT)</td>\n",
              "      <td>0.856573</td>\n",
              "    </tr>\n",
              "  </tbody>\n",
              "</table>\n",
              "</div>\n",
              "    <div class=\"colab-df-buttons\">\n",
              "\n",
              "  <div class=\"colab-df-container\">\n",
              "    <button class=\"colab-df-convert\" onclick=\"convertToInteractive('df-50ed7d2d-a2c9-4d36-ab6a-a440dad97b98')\"\n",
              "            title=\"Convert this dataframe to an interactive table.\"\n",
              "            style=\"display:none;\">\n",
              "\n",
              "  <svg xmlns=\"http://www.w3.org/2000/svg\" height=\"24px\" viewBox=\"0 -960 960 960\">\n",
              "    <path d=\"M120-120v-720h720v720H120Zm60-500h600v-160H180v160Zm220 220h160v-160H400v160Zm0 220h160v-160H400v160ZM180-400h160v-160H180v160Zm440 0h160v-160H620v160ZM180-180h160v-160H180v160Zm440 0h160v-160H620v160Z\"/>\n",
              "  </svg>\n",
              "    </button>\n",
              "\n",
              "  <style>\n",
              "    .colab-df-container {\n",
              "      display:flex;\n",
              "      gap: 12px;\n",
              "    }\n",
              "\n",
              "    .colab-df-convert {\n",
              "      background-color: #E8F0FE;\n",
              "      border: none;\n",
              "      border-radius: 50%;\n",
              "      cursor: pointer;\n",
              "      display: none;\n",
              "      fill: #1967D2;\n",
              "      height: 32px;\n",
              "      padding: 0 0 0 0;\n",
              "      width: 32px;\n",
              "    }\n",
              "\n",
              "    .colab-df-convert:hover {\n",
              "      background-color: #E2EBFA;\n",
              "      box-shadow: 0px 1px 2px rgba(60, 64, 67, 0.3), 0px 1px 3px 1px rgba(60, 64, 67, 0.15);\n",
              "      fill: #174EA6;\n",
              "    }\n",
              "\n",
              "    .colab-df-buttons div {\n",
              "      margin-bottom: 4px;\n",
              "    }\n",
              "\n",
              "    [theme=dark] .colab-df-convert {\n",
              "      background-color: #3B4455;\n",
              "      fill: #D2E3FC;\n",
              "    }\n",
              "\n",
              "    [theme=dark] .colab-df-convert:hover {\n",
              "      background-color: #434B5C;\n",
              "      box-shadow: 0px 1px 3px 1px rgba(0, 0, 0, 0.15);\n",
              "      filter: drop-shadow(0px 1px 2px rgba(0, 0, 0, 0.3));\n",
              "      fill: #FFFFFF;\n",
              "    }\n",
              "  </style>\n",
              "\n",
              "    <script>\n",
              "      const buttonEl =\n",
              "        document.querySelector('#df-50ed7d2d-a2c9-4d36-ab6a-a440dad97b98 button.colab-df-convert');\n",
              "      buttonEl.style.display =\n",
              "        google.colab.kernel.accessAllowed ? 'block' : 'none';\n",
              "\n",
              "      async function convertToInteractive(key) {\n",
              "        const element = document.querySelector('#df-50ed7d2d-a2c9-4d36-ab6a-a440dad97b98');\n",
              "        const dataTable =\n",
              "          await google.colab.kernel.invokeFunction('convertToInteractive',\n",
              "                                                    [key], {});\n",
              "        if (!dataTable) return;\n",
              "\n",
              "        const docLinkHtml = 'Like what you see? Visit the ' +\n",
              "          '<a target=\"_blank\" href=https://colab.research.google.com/notebooks/data_table.ipynb>data table notebook</a>'\n",
              "          + ' to learn more about interactive tables.';\n",
              "        element.innerHTML = '';\n",
              "        dataTable['output_type'] = 'display_data';\n",
              "        await google.colab.output.renderOutput(dataTable, element);\n",
              "        const docLink = document.createElement('div');\n",
              "        docLink.innerHTML = docLinkHtml;\n",
              "        element.appendChild(docLink);\n",
              "      }\n",
              "    </script>\n",
              "  </div>\n",
              "\n",
              "\n",
              "    <div id=\"df-98f1ac75-9046-404c-bcc3-2c5767cd991b\">\n",
              "      <button class=\"colab-df-quickchart\" onclick=\"quickchart('df-98f1ac75-9046-404c-bcc3-2c5767cd991b')\"\n",
              "                title=\"Suggest charts\"\n",
              "                style=\"display:none;\">\n",
              "\n",
              "<svg xmlns=\"http://www.w3.org/2000/svg\" height=\"24px\"viewBox=\"0 0 24 24\"\n",
              "     width=\"24px\">\n",
              "    <g>\n",
              "        <path d=\"M19 3H5c-1.1 0-2 .9-2 2v14c0 1.1.9 2 2 2h14c1.1 0 2-.9 2-2V5c0-1.1-.9-2-2-2zM9 17H7v-7h2v7zm4 0h-2V7h2v10zm4 0h-2v-4h2v4z\"/>\n",
              "    </g>\n",
              "</svg>\n",
              "      </button>\n",
              "\n",
              "<style>\n",
              "  .colab-df-quickchart {\n",
              "      --bg-color: #E8F0FE;\n",
              "      --fill-color: #1967D2;\n",
              "      --hover-bg-color: #E2EBFA;\n",
              "      --hover-fill-color: #174EA6;\n",
              "      --disabled-fill-color: #AAA;\n",
              "      --disabled-bg-color: #DDD;\n",
              "  }\n",
              "\n",
              "  [theme=dark] .colab-df-quickchart {\n",
              "      --bg-color: #3B4455;\n",
              "      --fill-color: #D2E3FC;\n",
              "      --hover-bg-color: #434B5C;\n",
              "      --hover-fill-color: #FFFFFF;\n",
              "      --disabled-bg-color: #3B4455;\n",
              "      --disabled-fill-color: #666;\n",
              "  }\n",
              "\n",
              "  .colab-df-quickchart {\n",
              "    background-color: var(--bg-color);\n",
              "    border: none;\n",
              "    border-radius: 50%;\n",
              "    cursor: pointer;\n",
              "    display: none;\n",
              "    fill: var(--fill-color);\n",
              "    height: 32px;\n",
              "    padding: 0;\n",
              "    width: 32px;\n",
              "  }\n",
              "\n",
              "  .colab-df-quickchart:hover {\n",
              "    background-color: var(--hover-bg-color);\n",
              "    box-shadow: 0 1px 2px rgba(60, 64, 67, 0.3), 0 1px 3px 1px rgba(60, 64, 67, 0.15);\n",
              "    fill: var(--button-hover-fill-color);\n",
              "  }\n",
              "\n",
              "  .colab-df-quickchart-complete:disabled,\n",
              "  .colab-df-quickchart-complete:disabled:hover {\n",
              "    background-color: var(--disabled-bg-color);\n",
              "    fill: var(--disabled-fill-color);\n",
              "    box-shadow: none;\n",
              "  }\n",
              "\n",
              "  .colab-df-spinner {\n",
              "    border: 2px solid var(--fill-color);\n",
              "    border-color: transparent;\n",
              "    border-bottom-color: var(--fill-color);\n",
              "    animation:\n",
              "      spin 1s steps(1) infinite;\n",
              "  }\n",
              "\n",
              "  @keyframes spin {\n",
              "    0% {\n",
              "      border-color: transparent;\n",
              "      border-bottom-color: var(--fill-color);\n",
              "      border-left-color: var(--fill-color);\n",
              "    }\n",
              "    20% {\n",
              "      border-color: transparent;\n",
              "      border-left-color: var(--fill-color);\n",
              "      border-top-color: var(--fill-color);\n",
              "    }\n",
              "    30% {\n",
              "      border-color: transparent;\n",
              "      border-left-color: var(--fill-color);\n",
              "      border-top-color: var(--fill-color);\n",
              "      border-right-color: var(--fill-color);\n",
              "    }\n",
              "    40% {\n",
              "      border-color: transparent;\n",
              "      border-right-color: var(--fill-color);\n",
              "      border-top-color: var(--fill-color);\n",
              "    }\n",
              "    60% {\n",
              "      border-color: transparent;\n",
              "      border-right-color: var(--fill-color);\n",
              "    }\n",
              "    80% {\n",
              "      border-color: transparent;\n",
              "      border-right-color: var(--fill-color);\n",
              "      border-bottom-color: var(--fill-color);\n",
              "    }\n",
              "    90% {\n",
              "      border-color: transparent;\n",
              "      border-bottom-color: var(--fill-color);\n",
              "    }\n",
              "  }\n",
              "</style>\n",
              "\n",
              "      <script>\n",
              "        async function quickchart(key) {\n",
              "          const quickchartButtonEl =\n",
              "            document.querySelector('#' + key + ' button');\n",
              "          quickchartButtonEl.disabled = true;  // To prevent multiple clicks.\n",
              "          quickchartButtonEl.classList.add('colab-df-spinner');\n",
              "          try {\n",
              "            const charts = await google.colab.kernel.invokeFunction(\n",
              "                'suggestCharts', [key], {});\n",
              "          } catch (error) {\n",
              "            console.error('Error during call to suggestCharts:', error);\n",
              "          }\n",
              "          quickchartButtonEl.classList.remove('colab-df-spinner');\n",
              "          quickchartButtonEl.classList.add('colab-df-quickchart-complete');\n",
              "        }\n",
              "        (() => {\n",
              "          let quickchartButtonEl =\n",
              "            document.querySelector('#df-98f1ac75-9046-404c-bcc3-2c5767cd991b button');\n",
              "          quickchartButtonEl.style.display =\n",
              "            google.colab.kernel.accessAllowed ? 'block' : 'none';\n",
              "        })();\n",
              "      </script>\n",
              "    </div>\n",
              "\n",
              "  <div id=\"id_8aa7d407-b181-4dfa-a5de-9f8ac343b240\">\n",
              "    <style>\n",
              "      .colab-df-generate {\n",
              "        background-color: #E8F0FE;\n",
              "        border: none;\n",
              "        border-radius: 50%;\n",
              "        cursor: pointer;\n",
              "        display: none;\n",
              "        fill: #1967D2;\n",
              "        height: 32px;\n",
              "        padding: 0 0 0 0;\n",
              "        width: 32px;\n",
              "      }\n",
              "\n",
              "      .colab-df-generate:hover {\n",
              "        background-color: #E2EBFA;\n",
              "        box-shadow: 0px 1px 2px rgba(60, 64, 67, 0.3), 0px 1px 3px 1px rgba(60, 64, 67, 0.15);\n",
              "        fill: #174EA6;\n",
              "      }\n",
              "\n",
              "      [theme=dark] .colab-df-generate {\n",
              "        background-color: #3B4455;\n",
              "        fill: #D2E3FC;\n",
              "      }\n",
              "\n",
              "      [theme=dark] .colab-df-generate:hover {\n",
              "        background-color: #434B5C;\n",
              "        box-shadow: 0px 1px 3px 1px rgba(0, 0, 0, 0.15);\n",
              "        filter: drop-shadow(0px 1px 2px rgba(0, 0, 0, 0.3));\n",
              "        fill: #FFFFFF;\n",
              "      }\n",
              "    </style>\n",
              "    <button class=\"colab-df-generate\" onclick=\"generateWithVariable('data')\"\n",
              "            title=\"Generate code using this dataframe.\"\n",
              "            style=\"display:none;\">\n",
              "\n",
              "  <svg xmlns=\"http://www.w3.org/2000/svg\" height=\"24px\"viewBox=\"0 0 24 24\"\n",
              "       width=\"24px\">\n",
              "    <path d=\"M7,19H8.4L18.45,9,17,7.55,7,17.6ZM5,21V16.75L18.45,3.32a2,2,0,0,1,2.83,0l1.4,1.43a1.91,1.91,0,0,1,.58,1.4,1.91,1.91,0,0,1-.58,1.4L9.25,21ZM18.45,9,17,7.55Zm-12,3A5.31,5.31,0,0,0,4.9,8.1,5.31,5.31,0,0,0,1,6.5,5.31,5.31,0,0,0,4.9,4.9,5.31,5.31,0,0,0,6.5,1,5.31,5.31,0,0,0,8.1,4.9,5.31,5.31,0,0,0,12,6.5,5.46,5.46,0,0,0,6.5,12Z\"/>\n",
              "  </svg>\n",
              "    </button>\n",
              "    <script>\n",
              "      (() => {\n",
              "      const buttonEl =\n",
              "        document.querySelector('#id_8aa7d407-b181-4dfa-a5de-9f8ac343b240 button.colab-df-generate');\n",
              "      buttonEl.style.display =\n",
              "        google.colab.kernel.accessAllowed ? 'block' : 'none';\n",
              "\n",
              "      buttonEl.onclick = () => {\n",
              "        google.colab.notebook.generateWithVariable('data');\n",
              "      }\n",
              "      })();\n",
              "    </script>\n",
              "  </div>\n",
              "\n",
              "    </div>\n",
              "  </div>\n"
            ],
            "application/vnd.google.colaboratory.intrinsic+json": {
              "type": "dataframe",
              "variable_name": "data",
              "summary": "{\n  \"name\": \"data\",\n  \"rows\": 5,\n  \"fields\": [\n    {\n      \"column\": \"Metric\",\n      \"properties\": {\n        \"dtype\": \"string\",\n        \"num_unique_values\": 5,\n        \"samples\": [\n          \"METEOR\",\n          \"F1(BERT)\",\n          \"Precision(BERT)\"\n        ],\n        \"semantic_type\": \"\",\n        \"description\": \"\"\n      }\n    },\n    {\n      \"column\": \"Score\",\n      \"properties\": {\n        \"dtype\": \"number\",\n        \"std\": 0.27824709981013795,\n        \"min\": 0.2444085372468631,\n        \"max\": 0.8580051066875458,\n        \"num_unique_values\": 5,\n        \"samples\": [\n          0.5150600963865313,\n          0.8565732243061066,\n          0.8580051066875458\n        ],\n        \"semantic_type\": \"\",\n        \"description\": \"\"\n      }\n    }\n  ]\n}"
            }
          },
          "metadata": {},
          "execution_count": 98
        }
      ],
      "source": [
        "data"
      ]
    },
    {
      "cell_type": "code",
      "execution_count": 18,
      "id": "3cf9abf6",
      "metadata": {
        "id": "3cf9abf6"
      },
      "outputs": [],
      "source": [
        "def preprocess(batch):\n",
        "    src_texts = [ex[\"en\"] for ex in batch[\"translation\"]]\n",
        "    tgt_texts = [ex[\"de\"] for ex in batch[\"translation\"]]\n",
        "\n",
        "    model_inputs = tokenizer(\n",
        "        src_texts,\n",
        "        truncation=True,\n",
        "        padding=\"max_length\",\n",
        "        max_length=40\n",
        "    )\n",
        "\n",
        "    with tokenizer.as_target_tokenizer():\n",
        "        labels = tokenizer(\n",
        "            tgt_texts,\n",
        "            truncation=True,\n",
        "            padding=\"max_length\",\n",
        "            max_length=40\n",
        "        )[\"input_ids\"]\n",
        "\n",
        "    labels = [\n",
        "        [(token if token != tokenizer.pad_token_id else -100) for token in seq]\n",
        "        for seq in labels\n",
        "    ]\n",
        "\n",
        "    model_inputs[\"labels\"] = labels\n",
        "    return model_inputs\n"
      ]
    },
    {
      "cell_type": "code",
      "execution_count": 19,
      "id": "7bda10e4",
      "metadata": {
        "colab": {
          "base_uri": "https://localhost:8080/",
          "height": 136,
          "referenced_widgets": [
            "4bba7778b3c94a629464ac649c76185b",
            "53597a9d2f4a47df89052b99b7baf504",
            "eae4f772bd3944808145f6b667ab678c",
            "202680057e0e4a1781674dac82d31a47",
            "a90eb39b99a2471b99a805339b1d316d",
            "7fa433e0d1bc4810a73937fc3a1fe6f0",
            "d3940e658309459795442136f0aa4afc",
            "f0b80122c13d45219e6e10df2707ed30",
            "f8aeda0740244a6d9468da294db6ea5d",
            "8e49d961dc204efc85ed8797ad2d5011",
            "035d86c46316428bb817b4f419942990",
            "8f52ca078d1446069b867aeed7472c95",
            "265eb17c2fab4521a7041a347cbb3184",
            "b0a72202f3634e0ea0c2cf96da749761",
            "6fe41ef746eb403eb7af99d9b45a7b2e",
            "098287ac1dcb4fc79eba615277a79fed",
            "9cb57d4233c74be6bad5f172cdf8ff16",
            "e701c0e6f72046bd93c4d44e7badfbb3",
            "f1b341346bf24b44b3aa9ab511d93408",
            "67037749439a4860989cc49f62b47ecf",
            "ec6d922a0fde43c9a99bdc2109be05b2",
            "a163b71cf3204a8b91c027b05e6b0652"
          ]
        },
        "id": "7bda10e4",
        "outputId": "367b277d-8689-492e-d04b-348c10df0cdd"
      },
      "outputs": [
        {
          "output_type": "display_data",
          "data": {
            "text/plain": [
              "Map:   0%|          | 0/15000 [00:00<?, ? examples/s]"
            ],
            "application/vnd.jupyter.widget-view+json": {
              "version_major": 2,
              "version_minor": 0,
              "model_id": "4bba7778b3c94a629464ac649c76185b"
            }
          },
          "metadata": {}
        },
        {
          "output_type": "stream",
          "name": "stderr",
          "text": [
            "/usr/local/lib/python3.11/dist-packages/transformers/tokenization_utils_base.py:3980: UserWarning: `as_target_tokenizer` is deprecated and will be removed in v5 of Transformers. You can tokenize your labels by using the argument `text_target` of the regular `__call__` method (either in the same call as your input texts if you use the same keyword arguments, or in a separate call.\n",
            "  warnings.warn(\n"
          ]
        },
        {
          "output_type": "display_data",
          "data": {
            "text/plain": [
              "Map:   0%|          | 0/1000 [00:00<?, ? examples/s]"
            ],
            "application/vnd.jupyter.widget-view+json": {
              "version_major": 2,
              "version_minor": 0,
              "model_id": "8f52ca078d1446069b867aeed7472c95"
            }
          },
          "metadata": {}
        }
      ],
      "source": [
        "tokenized_data = {\n",
        "    \"train\": data[\"train\"].map(preprocess, batched = True),\n",
        "    \"validation\": data[\"validation\"].map(preprocess, batched=True)\n",
        "}\n"
      ]
    },
    {
      "cell_type": "code",
      "execution_count": 21,
      "id": "bcabd7ca",
      "metadata": {
        "colab": {
          "base_uri": "https://localhost:8080/"
        },
        "id": "bcabd7ca",
        "outputId": "8e943e84-3e3b-4ae8-bd36-98272515442e"
      },
      "outputs": [
        {
          "output_type": "stream",
          "name": "stderr",
          "text": [
            "Translating: 100%|██████████| 63/63 [00:33<00:00,  1.90it/s]\n"
          ]
        }
      ],
      "source": [
        "from tqdm import tqdm\n",
        "import evaluate\n",
        "\n",
        "bleu = evaluate.load(\"bleu\")\n",
        "test_subset = data[\"test\"].select(range(1000))\n",
        "\n",
        "src_texts = [ex[\"translation\"][\"en\"] for ex in test_subset]\n",
        "references = [[ex[\"translation\"][\"de\"]] for ex in test_subset]\n",
        "device = torch.device(\"cuda\" if torch.cuda.is_available() else \"cpu\")\n",
        "model.to(device)\n",
        "batch_size = 16\n",
        "predictions = []\n",
        "\n",
        "for i in tqdm(range(0, len(src_texts), batch_size), desc=\"Translating\"):\n",
        "    batch = src_texts[i:i + batch_size]\n",
        "    inputs = tokenizer(batch, return_tensors=\"pt\", padding=True, truncation=True, max_length=60)\n",
        "    inputs = {k: v.to(model.device) for k, v in inputs.items()}\n",
        "\n",
        "    with torch.no_grad():\n",
        "        outputs = model.generate(**inputs, num_beams=4, max_length=60, early_stopping=True)\n",
        "    preds = tokenizer.batch_decode(outputs, skip_special_tokens=True, clean_up_tokenization_spaces=False)\n",
        "    predictions.extend(preds)\n"
      ]
    },
    {
      "cell_type": "code",
      "source": [
        "references[:10]"
      ],
      "metadata": {
        "colab": {
          "base_uri": "https://localhost:8080/"
        },
        "id": "g8s2Z9YgCm10",
        "outputId": "e1967bf4-e4fc-4f82-b29a-5982e6ee8043"
      },
      "id": "g8s2Z9YgCm10",
      "execution_count": 22,
      "outputs": [
        {
          "output_type": "execute_result",
          "data": {
            "text/plain": [
              "[['Uns stimmt auch zufrieden, daß der Vorschlag den Dienstleistungsbereich einbezieht.'],\n",
              " ['Herr Präsident, als ich neulich bei meiner Schwägerin war, stellte ich fest, daß sie eine Flasche mit \"umweltfreundlichem \" Spülmittel hatte.'],\n",
              " ['Die Moral der Geschichte besteht natürlich darin, daß umweltfreundliche Produkte möglichst ebenso leistungsfähig sein müssen wie Alternativerzeugnisse, wenn sie sich auf dem regulären Markt behaupten sollen.'],\n",
              " ['Nur dann werden diese Produkte in der Lage sein, den Sprung vom Nischenmarkt zum regulären Markt zu schaffen.'],\n",
              " ['Dem Umweltzeichen darf keine Mittelmäßigkeit anhaften.'],\n",
              " ['Der blaue Engel in Deutschland und der Schwan in Skandinavien waren Wegbereiter auf diesem Gebiet.'],\n",
              " ['Wir würden das Kind mit dem Bade ausschütten, wenn wir diese erfolgreichen Programme jetzt abschaffen würden.'],\n",
              " ['Langfristig ist ein einziges europäisches Umweltzeichen meiner Ansicht nach von Vorteil, es sollte jedoch niemandem aufgezwungen werden, der bereits über ein entsprechendes System verfügt.'],\n",
              " ['Das Umweltzeichen wird längst nicht mehr nur für Walderzeugnisse und Waschmittel, sondern verstärkt auch für Haushaltsgeräte und Computer vergeben, doch das muß noch nicht alles sein.'],\n",
              " ['So könnten sich auch Dienstleister wie Fremdenverkehrsbetriebe anmelden, und umweltfreundlich betriebene Taxis ebenso.']]"
            ]
          },
          "metadata": {},
          "execution_count": 22
        }
      ]
    },
    {
      "cell_type": "code",
      "source": [
        "predictions[:10]"
      ],
      "metadata": {
        "id": "ndGIvUp6cgj8",
        "outputId": "542ee042-5067-44fe-f6df-0157ecc3fb92",
        "colab": {
          "base_uri": "https://localhost:8080/"
        }
      },
      "id": "ndGIvUp6cgj8",
      "execution_count": 23,
      "outputs": [
        {
          "output_type": "execute_result",
          "data": {
            "text/plain": [
              "['Wir freuen uns auch, dass der Vorschlag auch für den Dienstleistungssektor gilt.',\n",
              " 'Herr Präsident, während ich kürzlich im Haus meiner Schwägerin war, bemerkte ich, dass sie einen Behälter mit \"umweltfreundlicher\" Spülflüssigkeit hatte.',\n",
              " 'Die Moral dieser Geschichte ist natürlich, dass Öko-Produkte, um auf dem Mainstream-Markt zu konkurrieren, eine Leistung in der Nähe ihrer Alternativen liefern müssen.',\n",
              " 'Erst dann können diese Produkte aus dem Nischenmarkt, den sie bereits haben, in den Mainstream übergehen.',\n",
              " 'Das Umweltzeichen sollte nicht mit Mittelmäßigkeit in Verbindung gebracht werden.',\n",
              " 'Der deutsche Blaue Engel und der nordische Schwan haben den Weg in das Umweltzeichen geebnet.',\n",
              " 'Um diese erfolgreichen Pläne jetzt zu beseitigen, wäre es, das Baby mit dem Badewasser wegzuwerfen.',\n",
              " 'Langfristig sehe ich die Vorzüge des einheitlichen europäischen Umweltzeichens, aber das darf nicht denjenigen auferlegt werden, die bereits bestehende Systeme haben.',\n",
              " 'Die Öko-Kennzeichnung geht von Forstprodukten und Reinigungsmitteln zu Computern und Haushaltsgeräten über, aber warum dort aufhören?',\n",
              " 'Dienstleistungen wie Tourismus und saubere Steuern könnten sich registrieren lassen.']"
            ]
          },
          "metadata": {},
          "execution_count": 23
        }
      ]
    },
    {
      "cell_type": "code",
      "source": [
        "meteor = evaluate.load(\"meteor\")\n",
        "bertscore = evaluate.load(\"bertscore\")\n"
      ],
      "metadata": {
        "colab": {
          "base_uri": "https://localhost:8080/"
        },
        "id": "-sJseus2E8MZ",
        "outputId": "9b20511e-cb58-4c47-f38f-4794da7b17c8"
      },
      "id": "-sJseus2E8MZ",
      "execution_count": 27,
      "outputs": [
        {
          "output_type": "stream",
          "name": "stderr",
          "text": [
            "[nltk_data] Downloading package wordnet to /root/nltk_data...\n",
            "[nltk_data]   Package wordnet is already up-to-date!\n",
            "[nltk_data] Downloading package punkt_tab to /root/nltk_data...\n",
            "[nltk_data]   Package punkt_tab is already up-to-date!\n",
            "[nltk_data] Downloading package omw-1.4 to /root/nltk_data...\n",
            "[nltk_data]   Package omw-1.4 is already up-to-date!\n"
          ]
        }
      ]
    },
    {
      "cell_type": "code",
      "source": [
        "bleu_score = bleu.compute(predictions=predictions, references=references)\n",
        "meteor_score = meteor.compute(predictions=predictions, references=[r[0] for r in references])\n",
        "bert_score = bertscore.compute(predictions=predictions, references=[r[0] for r in references], lang=\"de\")\n"
      ],
      "metadata": {
        "id": "ayliFVHdGQPj"
      },
      "id": "ayliFVHdGQPj",
      "execution_count": 136,
      "outputs": []
    },
    {
      "cell_type": "code",
      "source": [
        "bleu_score_BEFORE = bleu_score\n",
        "meteor_score_BEFORE = meteor_score\n",
        "bert_score_BEFORE = bert_score"
      ],
      "metadata": {
        "id": "WB_INXJok3C8"
      },
      "id": "WB_INXJok3C8",
      "execution_count": 137,
      "outputs": []
    },
    {
      "cell_type": "code",
      "execution_count": 138,
      "id": "27f0dfe3",
      "metadata": {
        "colab": {
          "base_uri": "https://localhost:8080/"
        },
        "id": "27f0dfe3",
        "outputId": "aec06c61-1f3f-49c9-ef5e-77fbb060c389"
      },
      "outputs": [
        {
          "output_type": "stream",
          "name": "stdout",
          "text": [
            "BLEU before fine-tunning score: 0.1956\n",
            "METEOR: 0.4509383611707493\n",
            "BERTScore:\n",
            "  Precision: 0.8324\n",
            "  Recall:    0.8287\n",
            "  F1:        0.8302\n"
          ]
        }
      ],
      "source": [
        "\n",
        "\n",
        "print(f\"BLEU before fine-tunning score: {bleu_score['bleu']:.4f}\")\n",
        "\n",
        "print(\"METEOR:\", meteor_score[\"meteor\"])\n",
        "print(\"BERTScore:\")\n",
        "bert_precision = sum(bert_score['precision']) / len(bert_score['precision']) # TP/(TP+FP)\n",
        "bert_recall = sum(bert_score['recall']) / len(bert_score['recall']) # TP/(TP+FN)\n",
        "bert_f1 = sum(bert_score['f1']) / len(bert_score['f1'])\n",
        "print(f\"  Precision: {bert_precision:.4f}\")\n",
        "print(f\"  Recall:    {bert_recall:.4f}\")\n",
        "print(f\"  F1:        {bert_f1:.4f}\")\n"
      ]
    },
    {
      "cell_type": "code",
      "source": [
        "import matplotlib.pyplot as plt\n",
        "import seaborn as sns\n",
        "import pandas as pd\n",
        "\n",
        "\n",
        "\n",
        "data = pd.DataFrame({\n",
        "    'Metric': ['BLEU', 'METEOR', 'Precision(BERT)', 'Recall(BERT)', 'F1(BERT)'],\n",
        "    'Score': [bleu_score['bleu'], meteor_score[\"meteor\"], bert_precision, bert_recall, bert_f1]\n",
        "})\n",
        "\n",
        "sns.set(style=\"white\", context=\"talk\")\n",
        "palette = sns.color_palette(\"viridis\", len(data))\n",
        "\n",
        "plt.figure(figsize=(10, 6))\n",
        "ax = sns.barplot(x='Metric', y='Score', data=data, palette=palette)\n",
        "\n",
        "for i, row in data.iterrows():\n",
        "    ax.text(i, row['Score'] + 0.025, f\"{row['Score']:.4f}\",\n",
        "            ha='center', va='bottom',  fontsize=12)\n",
        "\n",
        "plt.title(\"Evaluation Metrics Before Fine-Tuning\", fontsize=18, pad=20)\n",
        "plt.ylim(0, 1.1)\n",
        "plt.ylabel(\"Score\", fontsize=14)\n",
        "plt.xlabel(\"\")\n",
        "plt.xticks(fontsize=12)\n",
        "plt.yticks(fontsize=12)\n",
        "sns.despine()\n",
        "ax.yaxis.grid(True, linestyle='--', alpha=0.7)\n",
        "ax.set_axisbelow(True)\n",
        "plt.tight_layout()\n",
        "plt.show()\n"
      ],
      "metadata": {
        "colab": {
          "base_uri": "https://localhost:8080/",
          "height": 669
        },
        "id": "D1jzV0OcG0gb",
        "outputId": "94691e5c-12d3-4eb0-9695-10adf2f60bf4"
      },
      "id": "D1jzV0OcG0gb",
      "execution_count": 48,
      "outputs": [
        {
          "output_type": "stream",
          "name": "stderr",
          "text": [
            "<ipython-input-48-fdf9445f8f9e>:16: FutureWarning: \n",
            "\n",
            "Passing `palette` without assigning `hue` is deprecated and will be removed in v0.14.0. Assign the `x` variable to `hue` and set `legend=False` for the same effect.\n",
            "\n",
            "  ax = sns.barplot(x='Metric', y='Score', data=data, palette=palette)\n"
          ]
        },
        {
          "output_type": "display_data",
          "data": {
            "text/plain": [
              "<Figure size 1000x600 with 1 Axes>"
            ],
            "image/png": "[encoded data removed]"
          },
          "metadata": {}
        }
      ]
    },
    {
      "cell_type": "code",
      "source": [
        "device = torch.device(\"cuda\" if torch.cuda.is_available() else \"cpu\")\n",
        "model.to(device)"
      ],
      "metadata": {
        "colab": {
          "base_uri": "https://localhost:8080/"
        },
        "id": "FLxQQHuG641c",
        "outputId": "95455dd4-1363-4843-93c2-c832a11ccd5f"
      },
      "id": "FLxQQHuG641c",
      "execution_count": 49,
      "outputs": [
        {
          "output_type": "execute_result",
          "data": {
            "text/plain": [
              "MarianMTModel(\n",
              "  (model): MarianModel(\n",
              "    (shared): Embedding(58101, 512, padding_idx=58100)\n",
              "    (encoder): MarianEncoder(\n",
              "      (embed_tokens): Embedding(58101, 512, padding_idx=58100)\n",
              "      (embed_positions): MarianSinusoidalPositionalEmbedding(512, 512)\n",
              "      (layers): ModuleList(\n",
              "        (0-5): 6 x MarianEncoderLayer(\n",
              "          (self_attn): MarianAttention(\n",
              "            (k_proj): Linear(in_features=512, out_features=512, bias=True)\n",
              "            (v_proj): Linear(in_features=512, out_features=512, bias=True)\n",
              "            (q_proj): Linear(in_features=512, out_features=512, bias=True)\n",
              "            (out_proj): Linear(in_features=512, out_features=512, bias=True)\n",
              "          )\n",
              "          (self_attn_layer_norm): LayerNorm((512,), eps=1e-05, elementwise_affine=True)\n",
              "          (activation_fn): SiLU()\n",
              "          (fc1): Linear(in_features=512, out_features=2048, bias=True)\n",
              "          (fc2): Linear(in_features=2048, out_features=512, bias=True)\n",
              "          (final_layer_norm): LayerNorm((512,), eps=1e-05, elementwise_affine=True)\n",
              "        )\n",
              "      )\n",
              "    )\n",
              "    (decoder): MarianDecoder(\n",
              "      (embed_tokens): Embedding(58101, 512, padding_idx=58100)\n",
              "      (embed_positions): MarianSinusoidalPositionalEmbedding(512, 512)\n",
              "      (layers): ModuleList(\n",
              "        (0-5): 6 x MarianDecoderLayer(\n",
              "          (self_attn): MarianAttention(\n",
              "            (k_proj): Linear(in_features=512, out_features=512, bias=True)\n",
              "            (v_proj): Linear(in_features=512, out_features=512, bias=True)\n",
              "            (q_proj): Linear(in_features=512, out_features=512, bias=True)\n",
              "            (out_proj): Linear(in_features=512, out_features=512, bias=True)\n",
              "          )\n",
              "          (activation_fn): SiLU()\n",
              "          (self_attn_layer_norm): LayerNorm((512,), eps=1e-05, elementwise_affine=True)\n",
              "          (encoder_attn): MarianAttention(\n",
              "            (k_proj): Linear(in_features=512, out_features=512, bias=True)\n",
              "            (v_proj): Linear(in_features=512, out_features=512, bias=True)\n",
              "            (q_proj): Linear(in_features=512, out_features=512, bias=True)\n",
              "            (out_proj): Linear(in_features=512, out_features=512, bias=True)\n",
              "          )\n",
              "          (encoder_attn_layer_norm): LayerNorm((512,), eps=1e-05, elementwise_affine=True)\n",
              "          (fc1): Linear(in_features=512, out_features=2048, bias=True)\n",
              "          (fc2): Linear(in_features=2048, out_features=512, bias=True)\n",
              "          (final_layer_norm): LayerNorm((512,), eps=1e-05, elementwise_affine=True)\n",
              "        )\n",
              "      )\n",
              "    )\n",
              "  )\n",
              "  (lm_head): Linear(in_features=512, out_features=58101, bias=False)\n",
              ")"
            ]
          },
          "metadata": {},
          "execution_count": 49
        }
      ]
    },
    {
      "cell_type": "code",
      "source": [
        "from evaluate import load\n",
        "\n",
        "bleu_metric = load(\"bleu\")\n",
        "\n",
        "def compute_metrics(eval_preds):\n",
        "    preds, labels = eval_preds\n",
        "\n",
        "    decoded_preds = tokenizer.batch_decode(preds, skip_special_tokens=True)\n",
        "\n",
        "    labels = np.where(labels != -100, labels, tokenizer.pad_token_id)\n",
        "    decoded_labels = tokenizer.batch_decode(labels, skip_special_tokens=True)\n",
        "    list_of_lists = [[lbl] for lbl in decoded_labels]\n",
        "    flat_list= decoded_labels\n",
        "\n",
        "\n",
        "\n",
        "    bleu = bleu_metric.compute(predictions=decoded_preds, references=list_of_lists)\n",
        "\n",
        "    meteor_score = meteor.compute(predictions=decoded_preds, references=list_of_lists)\n",
        "\n",
        "    bert_score = bertscore.compute(predictions=decoded_preds, references=flat_list, lang=\"de\")\n",
        "    bert_precision = sum(bert_score['precision']) / len(bert_score['precision']) # TP/(TP+FP)\n",
        "    bert_recall = sum(bert_score['recall']) / len(bert_score['recall']) # TP/(TP+FN)\n",
        "    bert_f1 = sum(bert_score['f1']) / len(bert_score['f1'])\n",
        "\n",
        "    return {\n",
        "        \"bleu\": bleu[\"bleu\"],\n",
        "        \"meteor\": meteor_score[\"meteor\"],\n",
        "        \"bertscore_precision\": bert_precision,\n",
        "        \"bertscore_recall\": bert_recall,\n",
        "        \"bertscore_f1\": bert_f1\n",
        "    }\n"
      ],
      "metadata": {
        "id": "98EY51_gN1bL"
      },
      "id": "98EY51_gN1bL",
      "execution_count": 91,
      "outputs": []
    },
    {
      "cell_type": "code",
      "source": [
        "!pip install --upgrade transformers\n"
      ],
      "metadata": {
        "colab": {
          "base_uri": "https://localhost:8080/"
        },
        "id": "_S5MyX5ZOjrf",
        "outputId": "ae0b1af0-492c-46f2-c4a7-bbbdb2211c94"
      },
      "id": "_S5MyX5ZOjrf",
      "execution_count": 66,
      "outputs": [
        {
          "output_type": "stream",
          "name": "stdout",
          "text": [
            "Requirement already satisfied: transformers in /usr/local/lib/python3.11/dist-packages (4.51.3)\n",
            "Requirement already satisfied: filelock in /usr/local/lib/python3.11/dist-packages (from transformers) (3.18.0)\n",
            "Requirement already satisfied: huggingface-hub<1.0,>=0.30.0 in /usr/local/lib/python3.11/dist-packages (from transformers) (0.30.2)\n",
            "Requirement already satisfied: numpy>=1.17 in /usr/local/lib/python3.11/dist-packages (from transformers) (2.0.2)\n",
            "Requirement already satisfied: packaging>=20.0 in /usr/local/lib/python3.11/dist-packages (from transformers) (24.2)\n",
            "Requirement already satisfied: pyyaml>=5.1 in /usr/local/lib/python3.11/dist-packages (from transformers) (6.0.2)\n",
            "Requirement already satisfied: regex!=2019.12.17 in /usr/local/lib/python3.11/dist-packages (from transformers) (2024.11.6)\n",
            "Requirement already satisfied: requests in /usr/local/lib/python3.11/dist-packages (from transformers) (2.32.3)\n",
            "Requirement already satisfied: tokenizers<0.22,>=0.21 in /usr/local/lib/python3.11/dist-packages (from transformers) (0.21.1)\n",
            "Requirement already satisfied: safetensors>=0.4.3 in /usr/local/lib/python3.11/dist-packages (from transformers) (0.5.3)\n",
            "Requirement already satisfied: tqdm>=4.27 in /usr/local/lib/python3.11/dist-packages (from transformers) (4.67.1)\n",
            "Requirement already satisfied: fsspec>=2023.5.0 in /usr/local/lib/python3.11/dist-packages (from huggingface-hub<1.0,>=0.30.0->transformers) (2025.3.0)\n",
            "Requirement already satisfied: typing-extensions>=3.7.4.3 in /usr/local/lib/python3.11/dist-packages (from huggingface-hub<1.0,>=0.30.0->transformers) (4.13.2)\n",
            "Requirement already satisfied: charset-normalizer<4,>=2 in /usr/local/lib/python3.11/dist-packages (from requests->transformers) (3.4.1)\n",
            "Requirement already satisfied: idna<4,>=2.5 in /usr/local/lib/python3.11/dist-packages (from requests->transformers) (3.10)\n",
            "Requirement already satisfied: urllib3<3,>=1.21.1 in /usr/local/lib/python3.11/dist-packages (from requests->transformers) (2.4.0)\n",
            "Requirement already satisfied: certifi>=2017.4.17 in /usr/local/lib/python3.11/dist-packages (from requests->transformers) (2025.4.26)\n"
          ]
        }
      ]
    },
    {
      "cell_type": "code",
      "source": [
        "import transformers\n",
        "print(transformers.__version__)"
      ],
      "metadata": {
        "colab": {
          "base_uri": "https://localhost:8080/"
        },
        "id": "KelW6EvsOuvO",
        "outputId": "e026dff8-6d1d-4b40-e70f-af68a98b0021"
      },
      "id": "KelW6EvsOuvO",
      "execution_count": 68,
      "outputs": [
        {
          "output_type": "stream",
          "name": "stdout",
          "text": [
            "4.51.3\n"
          ]
        }
      ]
    },
    {
      "cell_type": "code",
      "source": [
        "import transformers\n",
        "print(transformers.Seq2SeqTrainingArguments.__init__.__code__.co_varnames)\n",
        "\n"
      ],
      "metadata": {
        "colab": {
          "base_uri": "https://localhost:8080/"
        },
        "id": "lp1w9yVOO7vO",
        "outputId": "04ff774c-b85a-4f20-b30b-1ec57b5abdb5"
      },
      "id": "lp1w9yVOO7vO",
      "execution_count": 71,
      "outputs": [
        {
          "output_type": "stream",
          "name": "stdout",
          "text": [
            "('self', 'output_dir', 'overwrite_output_dir', 'do_train', 'do_eval', 'do_predict', 'eval_strategy', 'prediction_loss_only', 'per_device_train_batch_size', 'per_device_eval_batch_size', 'per_gpu_train_batch_size', 'per_gpu_eval_batch_size', 'gradient_accumulation_steps', 'eval_accumulation_steps', 'eval_delay', 'torch_empty_cache_steps', 'learning_rate', 'weight_decay', 'adam_beta1', 'adam_beta2', 'adam_epsilon', 'max_grad_norm', 'num_train_epochs', 'max_steps', 'lr_scheduler_type', 'lr_scheduler_kwargs', 'warmup_ratio', 'warmup_steps', 'log_level', 'log_level_replica', 'log_on_each_node', 'logging_dir', 'logging_strategy', 'logging_first_step', 'logging_steps', 'logging_nan_inf_filter', 'save_strategy', 'save_steps', 'save_total_limit', 'save_safetensors', 'save_on_each_node', 'save_only_model', 'restore_callback_states_from_checkpoint', 'no_cuda', 'use_cpu', 'use_mps_device', 'seed', 'data_seed', 'jit_mode_eval', 'use_ipex', 'bf16', 'fp16', 'fp16_opt_level', 'half_precision_backend', 'bf16_full_eval', 'fp16_full_eval', 'tf32', 'local_rank', 'ddp_backend', 'tpu_num_cores', 'tpu_metrics_debug', 'debug', 'dataloader_drop_last', 'eval_steps', 'dataloader_num_workers', 'dataloader_prefetch_factor', 'past_index', 'run_name', 'disable_tqdm', 'remove_unused_columns', 'label_names', 'load_best_model_at_end', 'metric_for_best_model', 'greater_is_better', 'ignore_data_skip', 'fsdp', 'fsdp_min_num_params', 'fsdp_config', 'tp_size', 'fsdp_transformer_layer_cls_to_wrap', 'accelerator_config', 'deepspeed', 'label_smoothing_factor', 'optim', 'optim_args', 'adafactor', 'group_by_length', 'length_column_name', 'report_to', 'ddp_find_unused_parameters', 'ddp_bucket_cap_mb', 'ddp_broadcast_buffers', 'dataloader_pin_memory', 'dataloader_persistent_workers', 'skip_memory_metrics', 'use_legacy_prediction_loop', 'push_to_hub', 'resume_from_checkpoint', 'hub_model_id', 'hub_strategy', 'hub_token', 'hub_private_repo', 'hub_always_push', 'gradient_checkpointing', 'gradient_checkpointing_kwargs', 'include_inputs_for_metrics', 'include_for_metrics', 'eval_do_concat_batches', 'fp16_backend', 'push_to_hub_model_id', 'push_to_hub_organization', 'push_to_hub_token', 'mp_parameters', 'auto_find_batch_size', 'full_determinism', 'torchdynamo', 'ray_scope', 'ddp_timeout', 'torch_compile', 'torch_compile_backend', 'torch_compile_mode', 'include_tokens_per_second', 'include_num_input_tokens_seen', 'neftune_noise_alpha', 'optim_target_modules', 'batch_eval_metrics', 'eval_on_start', 'use_liger_kernel', 'eval_use_gather_object', 'average_tokens_across_devices', 'sortish_sampler', 'predict_with_generate', 'generation_max_length', 'generation_num_beams', 'generation_config')\n"
          ]
        }
      ]
    },
    {
      "cell_type": "code",
      "execution_count": 92,
      "id": "617ce55f",
      "metadata": {
        "colab": {
          "base_uri": "https://localhost:8080/"
        },
        "id": "617ce55f",
        "outputId": "00e2f0ae-96d0-438d-c950-7b0d30a89ff2"
      },
      "outputs": [
        {
          "output_type": "stream",
          "name": "stderr",
          "text": [
            "Using the `WANDB_DISABLED` environment variable is deprecated and will be removed in v5. Use the --report_to flag to control the integrations used for logging result (for instance --report_to none).\n"
          ]
        }
      ],
      "source": [
        "from transformers import Seq2SeqTrainingArguments\n",
        "\n",
        "training_args = Seq2SeqTrainingArguments(\n",
        "    output_dir=\"./marianmt-finetuned\",\n",
        "    per_device_train_batch_size=4,\n",
        "    per_device_eval_batch_size=4,\n",
        "    learning_rate=5e-5,\n",
        "    num_train_epochs=7,\n",
        "    eval_strategy=\"epoch\",\n",
        "    save_strategy=\"epoch\",\n",
        "    predict_with_generate=True,\n",
        "    logging_dir=\"./logs\",\n",
        "    save_total_limit=2,\n",
        "    fp16=torch.cuda.is_available(),\n",
        "    logging_steps=500,\n",
        "    load_best_model_at_end=True,\n",
        "    #metric_for_best_model=\"bleu\",\n",
        "    #greater_is_better=True\n",
        ")\n"
      ]
    },
    {
      "cell_type": "code",
      "source": [
        "import os\n",
        "os.environ[\"WANDB_DISABLED\"] = \"true\"\n"
      ],
      "metadata": {
        "id": "f4NSqI6W7UYh"
      },
      "id": "f4NSqI6W7UYh",
      "execution_count": 85,
      "outputs": []
    },
    {
      "cell_type": "code",
      "execution_count": 93,
      "id": "9d88f57d",
      "metadata": {
        "id": "9d88f57d",
        "colab": {
          "base_uri": "https://localhost:8080/",
          "height": 256
        },
        "outputId": "9599a4cb-232d-4da1-fc4d-21c399646a04"
      },
      "outputs": [
        {
          "output_type": "stream",
          "name": "stderr",
          "text": [
            "<ipython-input-93-19d01fd8c734>:4: FutureWarning: `tokenizer` is deprecated and will be removed in version 5.0.0 for `Seq2SeqTrainer.__init__`. Use `processing_class` instead.\n",
            "  trainer = Seq2SeqTrainer(\n"
          ]
        },
        {
          "output_type": "display_data",
          "data": {
            "text/plain": [
              "<IPython.core.display.HTML object>"
            ],
            "text/html": [
              "\n",
              "    <div>\n",
              "      \n",
              "      <progress value='11250' max='26250' style='width:300px; height:20px; vertical-align: middle;'></progress>\n",
              "      [11250/26250 24:17 < 32:23, 7.72 it/s, Epoch 3/7]\n",
              "    </div>\n",
              "    <table border=\"1\" class=\"dataframe\">\n",
              "  <thead>\n",
              " <tr style=\"text-align: left;\">\n",
              "      <th>Epoch</th>\n",
              "      <th>Training Loss</th>\n",
              "      <th>Validation Loss</th>\n",
              "      <th>Bleu</th>\n",
              "      <th>Meteor</th>\n",
              "      <th>Bertscore Precision</th>\n",
              "      <th>Bertscore Recall</th>\n",
              "      <th>Bertscore F1</th>\n",
              "    </tr>\n",
              "  </thead>\n",
              "  <tbody>\n",
              "    <tr>\n",
              "      <td>1</td>\n",
              "      <td>0.261100</td>\n",
              "      <td>2.833985</td>\n",
              "      <td>0.199907</td>\n",
              "      <td>0.468140</td>\n",
              "      <td>0.834203</td>\n",
              "      <td>0.830444</td>\n",
              "      <td>0.832019</td>\n",
              "    </tr>\n",
              "    <tr>\n",
              "      <td>2</td>\n",
              "      <td>0.443200</td>\n",
              "      <td>2.627028</td>\n",
              "      <td>0.193279</td>\n",
              "      <td>0.464987</td>\n",
              "      <td>0.832729</td>\n",
              "      <td>0.829945</td>\n",
              "      <td>0.831006</td>\n",
              "    </tr>\n",
              "    <tr>\n",
              "      <td>3</td>\n",
              "      <td>0.280300</td>\n",
              "      <td>2.698684</td>\n",
              "      <td>0.193420</td>\n",
              "      <td>0.460976</td>\n",
              "      <td>0.832422</td>\n",
              "      <td>0.829380</td>\n",
              "      <td>0.830563</td>\n",
              "    </tr>\n",
              "  </tbody>\n",
              "</table><p>"
            ]
          },
          "metadata": {}
        },
        {
          "output_type": "stream",
          "name": "stderr",
          "text": [
            "There were missing keys in the checkpoint model loaded: ['model.encoder.embed_tokens.weight', 'model.encoder.embed_positions.weight', 'model.decoder.embed_tokens.weight', 'model.decoder.embed_positions.weight', 'lm_head.weight'].\n"
          ]
        },
        {
          "output_type": "execute_result",
          "data": {
            "text/plain": [
              "TrainOutput(global_step=11250, training_loss=0.29335560709635417, metrics={'train_runtime': 1457.277, 'train_samples_per_second': 72.052, 'train_steps_per_second': 18.013, 'total_flos': 476695756800000.0, 'train_loss': 0.29335560709635417, 'epoch': 3.0})"
            ]
          },
          "metadata": {},
          "execution_count": 93
        }
      ],
      "source": [
        "from transformers import Seq2SeqTrainer, DataCollatorForSeq2Seq\n",
        "from transformers import EarlyStoppingCallback\n",
        "\n",
        "trainer = Seq2SeqTrainer(\n",
        "    model=model,\n",
        "    args=training_args,\n",
        "    train_dataset=tokenized_data[\"train\"],\n",
        "    eval_dataset=tokenized_data[\"validation\"],\n",
        "    tokenizer=tokenizer,\n",
        "    data_collator=DataCollatorForSeq2Seq(tokenizer, model=model),\n",
        "    compute_metrics=compute_metrics,\n",
        "    #callbacks=[EarlyStoppingCallback(early_stopping_patience=3)],\n",
        "\n",
        ")\n",
        "\n",
        "trainer.train()\n"
      ]
    },
    {
      "cell_type": "code",
      "source": [
        "import matplotlib.pyplot as plt\n",
        "import math\n",
        "\n",
        "log_history   = trainer.state.log_history\n",
        "epoch_entries = [e for e in log_history if \"epoch\" in e]\n",
        "\n",
        "metrics = [\n",
        "    \"loss\",\n",
        "    \"learning_rate\",\n",
        "    \"eval_loss\",\n",
        "    \"eval_bleu\",\n",
        "    \"eval_meteor\",\n",
        "    \"eval_bertscore_precision\",\n",
        "    \"eval_bertscore_recall\",\n",
        "    \"eval_bertscore_f1\"\n",
        "]\n",
        "names = {\n",
        "    \"loss\": \"Training Loss\",\n",
        "    \"learning_rate\": \"Learning Rate\",\n",
        "    \"eval_loss\": \"Validation Loss\",\n",
        "    \"eval_bleu\": \"BLEU\",\n",
        "    \"eval_meteor\": \"METEOR\",\n",
        "    \"eval_bertscore_precision\": \"BERTScore Precision\",\n",
        "    \"eval_bertscore_recall\": \"BERTScore Recall\",\n",
        "    \"eval_bertscore_f1\": \"BERTScore F1\"\n",
        "}\n",
        "\n",
        "n = len(metrics)\n",
        "cols = 4\n",
        "rows = math.ceil(n / cols)\n",
        "fig, axes = plt.subplots(rows, cols, figsize=(4*cols, 3*rows))\n",
        "axes = axes.flatten()\n",
        "\n",
        "cmap = plt.get_cmap('tab10')\n",
        "\n",
        "for i, metric in enumerate(metrics):\n",
        "    ax = axes[i]\n",
        "    currdata = [(e[\"epoch\"], e[metric]) for e in epoch_entries if metric in e]\n",
        "    if not currdata:\n",
        "        ax.set_visible(False)\n",
        "        continue\n",
        "    epochs, values = zip(*currdata)\n",
        "\n",
        "    ax.plot(epochs, values,\n",
        "            marker='o',\n",
        "            linestyle='-',\n",
        "            color=cmap(i % 10),\n",
        "            label=names.get(metric, metric))\n",
        "    ax.set_title(names.get(metric, metric), fontsize=12, fontweight='bold')\n",
        "    ax.set_xlabel(\"Epoch\")\n",
        "    ax.set_ylabel(names.get(metric, metric))\n",
        "    ax.grid(linestyle='--', alpha=0.5)\n",
        "\n",
        "for ax in axes[n:]:\n",
        "    ax.set_visible(False)\n",
        "\n",
        "plt.tight_layout()\n",
        "plt.show()\n"
      ],
      "metadata": {
        "id": "T5uJMLOc-d5n",
        "colab": {
          "base_uri": "https://localhost:8080/",
          "height": 605
        },
        "outputId": "450adce9-1976-4140-ac30-71a0b0577a66"
      },
      "id": "T5uJMLOc-d5n",
      "execution_count": 116,
      "outputs": [
        {
          "output_type": "display_data",
          "data": {
            "text/plain": [
              "<Figure size 1600x600 with 8 Axes>"
            ],
            "image/png": "[encoded data removed]"
          },
          "metadata": {}
        }
      ]
    },
    {
      "cell_type": "code",
      "source": [
        "data = retrieve_data()\n",
        "model = trainer.model\n",
        "tokenizer = trainer.tokenizer"
      ],
      "metadata": {
        "id": "8BGz5MBii4lf"
      },
      "id": "8BGz5MBii4lf",
      "execution_count": 117,
      "outputs": []
    },
    {
      "cell_type": "code",
      "source": [
        "bleu = evaluate.load(\"bleu\")\n",
        "test_subset = data[\"test\"].select(range(1000))\n",
        "\n",
        "src_texts = [ex[\"translation\"][\"en\"] for ex in test_subset]\n",
        "references = [[ex[\"translation\"][\"de\"]] for ex in test_subset]\n",
        "\n",
        "batch_size = 16\n",
        "device = torch.device(\"cuda\" if torch.cuda.is_available() else \"cpu\")\n",
        "model.to(device)\n",
        "predictions = []\n",
        "\n",
        "for i in tqdm(range(0, len(src_texts), batch_size), desc=\"Translating\"):\n",
        "    batch = src_texts[i:i + batch_size]\n",
        "    inputs = tokenizer(batch, return_tensors=\"pt\", padding=True, truncation=True, max_length=60)\n",
        "    inputs = {k: v.to(device) for k, v in inputs.items()}\n",
        "\n",
        "    with torch.no_grad():\n",
        "        outputs = model.generate(**inputs, max_length=60, num_beams=4, early_stopping=True)\n",
        "    preds = tokenizer.batch_decode(outputs, skip_special_tokens=True)\n",
        "    predictions.extend(preds)"
      ],
      "metadata": {
        "id": "o1qe9k399D3G",
        "colab": {
          "base_uri": "https://localhost:8080/"
        },
        "outputId": "87405ff6-3668-48aa-cae0-b6592fdea7d2"
      },
      "id": "o1qe9k399D3G",
      "execution_count": 118,
      "outputs": [
        {
          "output_type": "stream",
          "name": "stderr",
          "text": [
            "Translating: 100%|██████████| 63/63 [00:40<00:00,  1.55it/s]\n"
          ]
        }
      ]
    },
    {
      "cell_type": "code",
      "source": [
        "bleu_score = bleu.compute(predictions=predictions, references=references)\n",
        "meteor_score = meteor.compute(predictions=predictions, references=[r[0] for r in references])\n",
        "bert_score = bertscore.compute(predictions=predictions, references=[r[0] for r in references], lang=\"de\")"
      ],
      "metadata": {
        "id": "-MScX_7mLSqx"
      },
      "id": "-MScX_7mLSqx",
      "execution_count": 119,
      "outputs": []
    },
    {
      "cell_type": "code",
      "source": [
        "bleu_score_AFTER = bleu_score\n",
        "meteor_score_AFTER = meteor_score\n",
        "bert_score_AFTER = bert_score"
      ],
      "metadata": {
        "id": "YRKJT6-Fk_fJ"
      },
      "id": "YRKJT6-Fk_fJ",
      "execution_count": 130,
      "outputs": []
    },
    {
      "cell_type": "code",
      "source": [
        "bert_precision = sum(bert_score['precision']) / len(bert_score['precision']) # TP/(TP+FP)\n",
        "bert_recall = sum(bert_score['recall']) / len(bert_score['recall']) # TP/(TP+FN)\n",
        "bert_f1 = sum(bert_score['f1']) / len(bert_score['f1'])\n",
        "\n",
        "print(f\"BLEU:   {bleu_score['bleu']:.4f}\")\n",
        "print(f\"METEOR: {meteor_score['meteor']:.4f}\")\n",
        "print(\"BERTScore:\")\n",
        "print(f\"  Precision: {bert_precision:.4f}\")\n",
        "print(f\"  Recall:    {bert_recall:.4f}\")\n",
        "print(f\"  F1:        {bert_f1:.4f}\")"
      ],
      "metadata": {
        "id": "GndfEFNd9Xnh",
        "colab": {
          "base_uri": "https://localhost:8080/"
        },
        "outputId": "249c70ee-3757-4590-8224-f5b74bad2976"
      },
      "id": "GndfEFNd9Xnh",
      "execution_count": 124,
      "outputs": [
        {
          "output_type": "stream",
          "name": "stdout",
          "text": [
            "BLEU:   0.1956\n",
            "METEOR: 0.4509\n",
            "BERTScore:\n",
            "  Precision: 0.8324\n",
            "  Recall:    0.8287\n",
            "  F1:        0.8302\n"
          ]
        }
      ]
    },
    {
      "cell_type": "code",
      "source": [
        "import matplotlib.pyplot as plt\n",
        "import seaborn as sns\n",
        "import pandas as pd\n",
        "\n",
        "\n",
        "\n",
        "data = pd.DataFrame({\n",
        "    'Metric': ['BLEU', 'METEOR', 'Precision(BERT)', 'Recall(BERT)', 'F1(BERT)'],\n",
        "    'Score': [bleu_score['bleu'], meteor_score[\"meteor\"], bert_precision, bert_recall, bert_f1]\n",
        "})\n",
        "\n",
        "sns.set(style=\"white\", context=\"talk\")\n",
        "palette = sns.color_palette(\"viridis\", len(data))\n",
        "\n",
        "plt.figure(figsize=(10, 6))\n",
        "ax = sns.barplot(x='Metric', y='Score', data=data, palette=palette)\n",
        "\n",
        "for i, row in data.iterrows():\n",
        "    ax.text(i, row['Score'] + 0.025, f\"{row['Score']:.4f}\",\n",
        "            ha='center', va='bottom',  fontsize=12)\n",
        "\n",
        "plt.title(\"Evaluation Metrics After Fine-Tuning\", fontsize=18, pad=20)\n",
        "plt.ylim(0, 1.1)\n",
        "plt.ylabel(\"Score\", fontsize=14)\n",
        "plt.xlabel(\"\")\n",
        "plt.xticks(fontsize=12)\n",
        "plt.yticks(fontsize=12)\n",
        "sns.despine()\n",
        "ax.yaxis.grid(True, linestyle='--', alpha=0.7)\n",
        "ax.set_axisbelow(True)\n",
        "plt.tight_layout()\n",
        "plt.show()\n"
      ],
      "metadata": {
        "colab": {
          "base_uri": "https://localhost:8080/",
          "height": 669
        },
        "id": "RRn31EsjLPhf",
        "outputId": "5c9c379f-96f1-431f-ccec-d5226a1ea08e"
      },
      "id": "RRn31EsjLPhf",
      "execution_count": 125,
      "outputs": [
        {
          "output_type": "stream",
          "name": "stderr",
          "text": [
            "<ipython-input-125-838f7e701cb1>:16: FutureWarning: \n",
            "\n",
            "Passing `palette` without assigning `hue` is deprecated and will be removed in v0.14.0. Assign the `x` variable to `hue` and set `legend=False` for the same effect.\n",
            "\n",
            "  ax = sns.barplot(x='Metric', y='Score', data=data, palette=palette)\n"
          ]
        },
        {
          "output_type": "display_data",
          "data": {
            "text/plain": [
              "<Figure size 1000x600 with 1 Axes>"
            ],
            "image/png": "[encoded data removed]"
          },
          "metadata": {}
        }
      ]
    },
    {
      "cell_type": "code",
      "source": [
        "import numpy as np\n",
        "import matplotlib.pyplot as plt\n",
        "\n",
        "bleu_before= bleu_score_BEFORE[\"bleu\"]\n",
        "meteor_before= meteor_score_BEFORE[\"meteor\"]\n",
        "prec_before= np.mean(bert_score_BEFORE[\"precision\"])\n",
        "rec_before= np.mean(bert_score_BEFORE[\"recall\"])\n",
        "f1_before= np.mean(bert_score_BEFORE[\"f1\"])\n",
        "\n",
        "bleu_after     = bleu_score_AFTER[\"bleu\"]\n",
        "meteor_after   = meteor_score_AFTER[\"meteor\"]\n",
        "prec_after     = np.mean(bert_score_AFTER[\"precision\"])\n",
        "rec_after      = np.mean(bert_score_AFTER[\"recall\"])\n",
        "f1_after       = np.mean(bert_score_AFTER[\"f1\"])\n",
        "\n",
        "before = [bleu_before, meteor_before, prec_before, rec_before, f1_before]\n",
        "after  = [bleu_after,  meteor_after,  prec_after,  rec_after,  f1_after]\n",
        "metrics = [\n",
        "    \"BLEU\",\n",
        "    \"METEOR\",\n",
        "    \"BERTScore Precision\",\n",
        "    \"BERTScore Recall\",\n",
        "    \"BERTScore F1\"\n",
        "]\n",
        "\n",
        "rows, cols = 2, 3\n",
        "fig, axes = plt.subplots(\n",
        "    rows, cols,\n",
        "    figsize=(14, 8),\n",
        "    constrained_layout=True\n",
        ")\n",
        "axes = axes.flatten()\n",
        "\n",
        "for idx, ax in enumerate(axes):\n",
        "    if idx < len(metrics):\n",
        "        vals = [before[idx], after[idx]]\n",
        "        ax.bar(\n",
        "            [\"Before\", \"After\"],\n",
        "            vals,\n",
        "            color=[\"orange\", \"green\"],\n",
        "            width=0.7\n",
        "        )\n",
        "        ax.set_title(metrics[idx], fontsize=12, fontweight='bold')\n",
        "        ax.set_ylabel(\"Score\")\n",
        "        ax.grid(axis='y', linestyle='--', alpha=0.5)\n",
        "\n",
        "        top = max(vals) * 1.25\n",
        "        ax.set_ylim(0, top)\n",
        "\n",
        "        for i, v in enumerate(vals):\n",
        "            ax.text(\n",
        "                i, v + top * 0.02,\n",
        "                f\"{v:.3f}\",\n",
        "                ha='center',\n",
        "                va='bottom',\n",
        "                fontsize=10\n",
        "            )\n",
        "    else:\n",
        "        ax.axis(\"off\")\n",
        "\n",
        "\n",
        "\n",
        "plt.show()\n"
      ],
      "metadata": {
        "id": "6qgYT3flk9oj",
        "outputId": "6b40442a-d05d-4904-bf9a-b654c1029e5f",
        "colab": {
          "base_uri": "https://localhost:8080/",
          "height": 828
        }
      },
      "id": "6qgYT3flk9oj",
      "execution_count": 158,
      "outputs": [
        {
          "output_type": "display_data",
          "data": {
            "text/plain": [
              "<Figure size 1400x800 with 6 Axes>"
            ],
            "image/png": "[encoded data removed]"
          },
          "metadata": {}
        }
      ]
    },
    {
      "cell_type": "code",
      "execution_count": null,
      "id": "a1240251",
      "metadata": {
        "id": "a1240251"
      },
      "outputs": [],
      "source": [
        "model.save_pretrained(\"marianmt-finetuned\")\n",
        "tokenizer.save_pretrained(\"marianmt-finetuned\")\n"
      ]
    }
  ],
  "metadata": {
    "kernelspec": {
      "display_name": "Python 3",
      "name": "python3"
    },
    "language_info": {
      "codemirror_mode": {
        "name": "ipython",
        "version": 3
      },
      "file_extension": ".py",
      "mimetype": "text/x-python",
      "name": "python",
      "nbconvert_exporter": "python",
      "pygments_lexer": "ipython3",
      "version": "3.10.1"
    },
    "colab": {
      "provenance": [],
      "gpuType": "T4"
    },
    "accelerator": "GPU",
    "widgets": {
      "application/vnd.jupyter.widget-state+json": {
        "4bba7778b3c94a629464ac649c76185b": {
          "model_module": "@jupyter-widgets/controls",
          "model_name": "HBoxModel",
          "model_module_version": "1.5.0",
          "state": {
            "_dom_classes": [],
            "_model_module": "@jupyter-widgets/controls",
            "_model_module_version": "1.5.0",
            "_model_name": "HBoxModel",
            "_view_count": null,
            "_view_module": "@jupyter-widgets/controls",
            "_view_module_version": "1.5.0",
            "_view_name": "HBoxView",
            "box_style": "",
            "children": [
              "IPY_MODEL_53597a9d2f4a47df89052b99b7baf504",
              "IPY_MODEL_eae4f772bd3944808145f6b667ab678c",
              "IPY_MODEL_202680057e0e4a1781674dac82d31a47"
            ],
            "layout": "IPY_MODEL_a90eb39b99a2471b99a805339b1d316d"
          }
        },
        "53597a9d2f4a47df89052b99b7baf504": {
          "model_module": "@jupyter-widgets/controls",
          "model_name": "HTMLModel",
          "model_module_version": "1.5.0",
          "state": {
            "_dom_classes": [],
            "_model_module": "@jupyter-widgets/controls",
            "_model_module_version": "1.5.0",
            "_model_name": "HTMLModel",
            "_view_count": null,
            "_view_module": "@jupyter-widgets/controls",
            "_view_module_version": "1.5.0",
            "_view_name": "HTMLView",
            "description": "",
            "description_tooltip": null,
            "layout": "IPY_MODEL_7fa433e0d1bc4810a73937fc3a1fe6f0",
            "placeholder": "​",
            "style": "IPY_MODEL_d3940e658309459795442136f0aa4afc",
            "value": "Map: 100%"
          }
        },
        "eae4f772bd3944808145f6b667ab678c": {
          "model_module": "@jupyter-widgets/controls",
          "model_name": "FloatProgressModel",
          "model_module_version": "1.5.0",
          "state": {
            "_dom_classes": [],
            "_model_module": "@jupyter-widgets/controls",
            "_model_module_version": "1.5.0",
            "_model_name": "FloatProgressModel",
            "_view_count": null,
            "_view_module": "@jupyter-widgets/controls",
            "_view_module_version": "1.5.0",
            "_view_name": "ProgressView",
            "bar_style": "success",
            "description": "",
            "description_tooltip": null,
            "layout": "IPY_MODEL_f0b80122c13d45219e6e10df2707ed30",
            "max": 15000,
            "min": 0,
            "orientation": "horizontal",
            "style": "IPY_MODEL_f8aeda0740244a6d9468da294db6ea5d",
            "value": 15000
          }
        },
        "202680057e0e4a1781674dac82d31a47": {
          "model_module": "@jupyter-widgets/controls",
          "model_name": "HTMLModel",
          "model_module_version": "1.5.0",
          "state": {
            "_dom_classes": [],
            "_model_module": "@jupyter-widgets/controls",
            "_model_module_version": "1.5.0",
            "_model_name": "HTMLModel",
            "_view_count": null,
            "_view_module": "@jupyter-widgets/controls",
            "_view_module_version": "1.5.0",
            "_view_name": "HTMLView",
            "description": "",
            "description_tooltip": null,
            "layout": "IPY_MODEL_8e49d961dc204efc85ed8797ad2d5011",
            "placeholder": "​",
            "style": "IPY_MODEL_035d86c46316428bb817b4f419942990",
            "value": " 15000/15000 [00:08&lt;00:00, 1945.73 examples/s]"
          }
        },
        "a90eb39b99a2471b99a805339b1d316d": {
          "model_module": "@jupyter-widgets/base",
          "model_name": "LayoutModel",
          "model_module_version": "1.2.0",
          "state": {
            "_model_module": "@jupyter-widgets/base",
            "_model_module_version": "1.2.0",
            "_model_name": "LayoutModel",
            "_view_count": null,
            "_view_module": "@jupyter-widgets/base",
            "_view_module_version": "1.2.0",
            "_view_name": "LayoutView",
            "align_content": null,
            "align_items": null,
            "align_self": null,
            "border": null,
            "bottom": null,
            "display": null,
            "flex": null,
            "flex_flow": null,
            "grid_area": null,
            "grid_auto_columns": null,
            "grid_auto_flow": null,
            "grid_auto_rows": null,
            "grid_column": null,
            "grid_gap": null,
            "grid_row": null,
            "grid_template_areas": null,
            "grid_template_columns": null,
            "grid_template_rows": null,
            "height": null,
            "justify_content": null,
            "justify_items": null,
            "left": null,
            "margin": null,
            "max_height": null,
            "max_width": null,
            "min_height": null,
            "min_width": null,
            "object_fit": null,
            "object_position": null,
            "order": null,
            "overflow": null,
            "overflow_x": null,
            "overflow_y": null,
            "padding": null,
            "right": null,
            "top": null,
            "visibility": null,
            "width": null
          }
        },
        "7fa433e0d1bc4810a73937fc3a1fe6f0": {
          "model_module": "@jupyter-widgets/base",
          "model_name": "LayoutModel",
          "model_module_version": "1.2.0",
          "state": {
            "_model_module": "@jupyter-widgets/base",
            "_model_module_version": "1.2.0",
            "_model_name": "LayoutModel",
            "_view_count": null,
            "_view_module": "@jupyter-widgets/base",
            "_view_module_version": "1.2.0",
            "_view_name": "LayoutView",
            "align_content": null,
            "align_items": null,
            "align_self": null,
            "border": null,
            "bottom": null,
            "display": null,
            "flex": null,
            "flex_flow": null,
            "grid_area": null,
            "grid_auto_columns": null,
            "grid_auto_flow": null,
            "grid_auto_rows": null,
            "grid_column": null,
            "grid_gap": null,
            "grid_row": null,
            "grid_template_areas": null,
            "grid_template_columns": null,
            "grid_template_rows": null,
            "height": null,
            "justify_content": null,
            "justify_items": null,
            "left": null,
            "margin": null,
            "max_height": null,
            "max_width": null,
            "min_height": null,
            "min_width": null,
            "object_fit": null,
            "object_position": null,
            "order": null,
            "overflow": null,
            "overflow_x": null,
            "overflow_y": null,
            "padding": null,
            "right": null,
            "top": null,
            "visibility": null,
            "width": null
          }
        },
        "d3940e658309459795442136f0aa4afc": {
          "model_module": "@jupyter-widgets/controls",
          "model_name": "DescriptionStyleModel",
          "model_module_version": "1.5.0",
          "state": {
            "_model_module": "@jupyter-widgets/controls",
            "_model_module_version": "1.5.0",
            "_model_name": "DescriptionStyleModel",
            "_view_count": null,
            "_view_module": "@jupyter-widgets/base",
            "_view_module_version": "1.2.0",
            "_view_name": "StyleView",
            "description_width": ""
          }
        },
        "f0b80122c13d45219e6e10df2707ed30": {
          "model_module": "@jupyter-widgets/base",
          "model_name": "LayoutModel",
          "model_module_version": "1.2.0",
          "state": {
            "_model_module": "@jupyter-widgets/base",
            "_model_module_version": "1.2.0",
            "_model_name": "LayoutModel",
            "_view_count": null,
            "_view_module": "@jupyter-widgets/base",
            "_view_module_version": "1.2.0",
            "_view_name": "LayoutView",
            "align_content": null,
            "align_items": null,
            "align_self": null,
            "border": null,
            "bottom": null,
            "display": null,
            "flex": null,
            "flex_flow": null,
            "grid_area": null,
            "grid_auto_columns": null,
            "grid_auto_flow": null,
            "grid_auto_rows": null,
            "grid_column": null,
            "grid_gap": null,
            "grid_row": null,
            "grid_template_areas": null,
            "grid_template_columns": null,
            "grid_template_rows": null,
            "height": null,
            "justify_content": null,
            "justify_items": null,
            "left": null,
            "margin": null,
            "max_height": null,
            "max_width": null,
            "min_height": null,
            "min_width": null,
            "object_fit": null,
            "object_position": null,
            "order": null,
            "overflow": null,
            "overflow_x": null,
            "overflow_y": null,
            "padding": null,
            "right": null,
            "top": null,
            "visibility": null,
            "width": null
          }
        },
        "f8aeda0740244a6d9468da294db6ea5d": {
          "model_module": "@jupyter-widgets/controls",
          "model_name": "ProgressStyleModel",
          "model_module_version": "1.5.0",
          "state": {
            "_model_module": "@jupyter-widgets/controls",
            "_model_module_version": "1.5.0",
            "_model_name": "ProgressStyleModel",
            "_view_count": null,
            "_view_module": "@jupyter-widgets/base",
            "_view_module_version": "1.2.0",
            "_view_name": "StyleView",
            "bar_color": null,
            "description_width": ""
          }
        },
        "8e49d961dc204efc85ed8797ad2d5011": {
          "model_module": "@jupyter-widgets/base",
          "model_name": "LayoutModel",
          "model_module_version": "1.2.0",
          "state": {
            "_model_module": "@jupyter-widgets/base",
            "_model_module_version": "1.2.0",
            "_model_name": "LayoutModel",
            "_view_count": null,
            "_view_module": "@jupyter-widgets/base",
            "_view_module_version": "1.2.0",
            "_view_name": "LayoutView",
            "align_content": null,
            "align_items": null,
            "align_self": null,
            "border": null,
            "bottom": null,
            "display": null,
            "flex": null,
            "flex_flow": null,
            "grid_area": null,
            "grid_auto_columns": null,
            "grid_auto_flow": null,
            "grid_auto_rows": null,
            "grid_column": null,
            "grid_gap": null,
            "grid_row": null,
            "grid_template_areas": null,
            "grid_template_columns": null,
            "grid_template_rows": null,
            "height": null,
            "justify_content": null,
            "justify_items": null,
            "left": null,
            "margin": null,
            "max_height": null,
            "max_width": null,
            "min_height": null,
            "min_width": null,
            "object_fit": null,
            "object_position": null,
            "order": null,
            "overflow": null,
            "overflow_x": null,
            "overflow_y": null,
            "padding": null,
            "right": null,
            "top": null,
            "visibility": null,
            "width": null
          }
        },
        "035d86c46316428bb817b4f419942990": {
          "model_module": "@jupyter-widgets/controls",
          "model_name": "DescriptionStyleModel",
          "model_module_version": "1.5.0",
          "state": {
            "_model_module": "@jupyter-widgets/controls",
            "_model_module_version": "1.5.0",
            "_model_name": "DescriptionStyleModel",
            "_view_count": null,
            "_view_module": "@jupyter-widgets/base",
            "_view_module_version": "1.2.0",
            "_view_name": "StyleView",
            "description_width": ""
          }
        },
        "8f52ca078d1446069b867aeed7472c95": {
          "model_module": "@jupyter-widgets/controls",
          "model_name": "HBoxModel",
          "model_module_version": "1.5.0",
          "state": {
            "_dom_classes": [],
            "_model_module": "@jupyter-widgets/controls",
            "_model_module_version": "1.5.0",
            "_model_name": "HBoxModel",
            "_view_count": null,
            "_view_module": "@jupyter-widgets/controls",
            "_view_module_version": "1.5.0",
            "_view_name": "HBoxView",
            "box_style": "",
            "children": [
              "IPY_MODEL_265eb17c2fab4521a7041a347cbb3184",
              "IPY_MODEL_b0a72202f3634e0ea0c2cf96da749761",
              "IPY_MODEL_6fe41ef746eb403eb7af99d9b45a7b2e"
            ],
            "layout": "IPY_MODEL_098287ac1dcb4fc79eba615277a79fed"
          }
        },
        "265eb17c2fab4521a7041a347cbb3184": {
          "model_module": "@jupyter-widgets/controls",
          "model_name": "HTMLModel",
          "model_module_version": "1.5.0",
          "state": {
            "_dom_classes": [],
            "_model_module": "@jupyter-widgets/controls",
            "_model_module_version": "1.5.0",
            "_model_name": "HTMLModel",
            "_view_count": null,
            "_view_module": "@jupyter-widgets/controls",
            "_view_module_version": "1.5.0",
            "_view_name": "HTMLView",
            "description": "",
            "description_tooltip": null,
            "layout": "IPY_MODEL_9cb57d4233c74be6bad5f172cdf8ff16",
            "placeholder": "​",
            "style": "IPY_MODEL_e701c0e6f72046bd93c4d44e7badfbb3",
            "value": "Map: 100%"
          }
        },
        "b0a72202f3634e0ea0c2cf96da749761": {
          "model_module": "@jupyter-widgets/controls",
          "model_name": "FloatProgressModel",
          "model_module_version": "1.5.0",
          "state": {
            "_dom_classes": [],
            "_model_module": "@jupyter-widgets/controls",
            "_model_module_version": "1.5.0",
            "_model_name": "FloatProgressModel",
            "_view_count": null,
            "_view_module": "@jupyter-widgets/controls",
            "_view_module_version": "1.5.0",
            "_view_name": "ProgressView",
            "bar_style": "success",
            "description": "",
            "description_tooltip": null,
            "layout": "IPY_MODEL_f1b341346bf24b44b3aa9ab511d93408",
            "max": 1000,
            "min": 0,
            "orientation": "horizontal",
            "style": "IPY_MODEL_67037749439a4860989cc49f62b47ecf",
            "value": 1000
          }
        },
        "6fe41ef746eb403eb7af99d9b45a7b2e": {
          "model_module": "@jupyter-widgets/controls",
          "model_name": "HTMLModel",
          "model_module_version": "1.5.0",
          "state": {
            "_dom_classes": [],
            "_model_module": "@jupyter-widgets/controls",
            "_model_module_version": "1.5.0",
            "_model_name": "HTMLModel",
            "_view_count": null,
            "_view_module": "@jupyter-widgets/controls",
            "_view_module_version": "1.5.0",
            "_view_name": "HTMLView",
            "description": "",
            "description_tooltip": null,
            "layout": "IPY_MODEL_ec6d922a0fde43c9a99bdc2109be05b2",
            "placeholder": "​",
            "style": "IPY_MODEL_a163b71cf3204a8b91c027b05e6b0652",
            "value": " 1000/1000 [00:00&lt;00:00, 2112.74 examples/s]"
          }
        },
        "098287ac1dcb4fc79eba615277a79fed": {
          "model_module": "@jupyter-widgets/base",
          "model_name": "LayoutModel",
          "model_module_version": "1.2.0",
          "state": {
            "_model_module": "@jupyter-widgets/base",
            "_model_module_version": "1.2.0",
            "_model_name": "LayoutModel",
            "_view_count": null,
            "_view_module": "@jupyter-widgets/base",
            "_view_module_version": "1.2.0",
            "_view_name": "LayoutView",
            "align_content": null,
            "align_items": null,
            "align_self": null,
            "border": null,
            "bottom": null,
            "display": null,
            "flex": null,
            "flex_flow": null,
            "grid_area": null,
            "grid_auto_columns": null,
            "grid_auto_flow": null,
            "grid_auto_rows": null,
            "grid_column": null,
            "grid_gap": null,
            "grid_row": null,
            "grid_template_areas": null,
            "grid_template_columns": null,
            "grid_template_rows": null,
            "height": null,
            "justify_content": null,
            "justify_items": null,
            "left": null,
            "margin": null,
            "max_height": null,
            "max_width": null,
            "min_height": null,
            "min_width": null,
            "object_fit": null,
            "object_position": null,
            "order": null,
            "overflow": null,
            "overflow_x": null,
            "overflow_y": null,
            "padding": null,
            "right": null,
            "top": null,
            "visibility": null,
            "width": null
          }
        },
        "9cb57d4233c74be6bad5f172cdf8ff16": {
          "model_module": "@jupyter-widgets/base",
          "model_name": "LayoutModel",
          "model_module_version": "1.2.0",
          "state": {
            "_model_module": "@jupyter-widgets/base",
            "_model_module_version": "1.2.0",
            "_model_name": "LayoutModel",
            "_view_count": null,
            "_view_module": "@jupyter-widgets/base",
            "_view_module_version": "1.2.0",
            "_view_name": "LayoutView",
            "align_content": null,
            "align_items": null,
            "align_self": null,
            "border": null,
            "bottom": null,
            "display": null,
            "flex": null,
            "flex_flow": null,
            "grid_area": null,
            "grid_auto_columns": null,
            "grid_auto_flow": null,
            "grid_auto_rows": null,
            "grid_column": null,
            "grid_gap": null,
            "grid_row": null,
            "grid_template_areas": null,
            "grid_template_columns": null,
            "grid_template_rows": null,
            "height": null,
            "justify_content": null,
            "justify_items": null,
            "left": null,
            "margin": null,
            "max_height": null,
            "max_width": null,
            "min_height": null,
            "min_width": null,
            "object_fit": null,
            "object_position": null,
            "order": null,
            "overflow": null,
            "overflow_x": null,
            "overflow_y": null,
            "padding": null,
            "right": null,
            "top": null,
            "visibility": null,
            "width": null
          }
        },
        "e701c0e6f72046bd93c4d44e7badfbb3": {
          "model_module": "@jupyter-widgets/controls",
          "model_name": "DescriptionStyleModel",
          "model_module_version": "1.5.0",
          "state": {
            "_model_module": "@jupyter-widgets/controls",
            "_model_module_version": "1.5.0",
            "_model_name": "DescriptionStyleModel",
            "_view_count": null,
            "_view_module": "@jupyter-widgets/base",
            "_view_module_version": "1.2.0",
            "_view_name": "StyleView",
            "description_width": ""
          }
        },
        "f1b341346bf24b44b3aa9ab511d93408": {
          "model_module": "@jupyter-widgets/base",
          "model_name": "LayoutModel",
          "model_module_version": "1.2.0",
          "state": {
            "_model_module": "@jupyter-widgets/base",
            "_model_module_version": "1.2.0",
            "_model_name": "LayoutModel",
            "_view_count": null,
            "_view_module": "@jupyter-widgets/base",
            "_view_module_version": "1.2.0",
            "_view_name": "LayoutView",
            "align_content": null,
            "align_items": null,
            "align_self": null,
            "border": null,
            "bottom": null,
            "display": null,
            "flex": null,
            "flex_flow": null,
            "grid_area": null,
            "grid_auto_columns": null,
            "grid_auto_flow": null,
            "grid_auto_rows": null,
            "grid_column": null,
            "grid_gap": null,
            "grid_row": null,
            "grid_template_areas": null,
            "grid_template_columns": null,
            "grid_template_rows": null,
            "height": null,
            "justify_content": null,
            "justify_items": null,
            "left": null,
            "margin": null,
            "max_height": null,
            "max_width": null,
            "min_height": null,
            "min_width": null,
            "object_fit": null,
            "object_position": null,
            "order": null,
            "overflow": null,
            "overflow_x": null,
            "overflow_y": null,
            "padding": null,
            "right": null,
            "top": null,
            "visibility": null,
            "width": null
          }
        },
        "67037749439a4860989cc49f62b47ecf": {
          "model_module": "@jupyter-widgets/controls",
          "model_name": "ProgressStyleModel",
          "model_module_version": "1.5.0",
          "state": {
            "_model_module": "@jupyter-widgets/controls",
            "_model_module_version": "1.5.0",
            "_model_name": "ProgressStyleModel",
            "_view_count": null,
            "_view_module": "@jupyter-widgets/base",
            "_view_module_version": "1.2.0",
            "_view_name": "StyleView",
            "bar_color": null,
            "description_width": ""
          }
        },
        "ec6d922a0fde43c9a99bdc2109be05b2": {
          "model_module": "@jupyter-widgets/base",
          "model_name": "LayoutModel",
          "model_module_version": "1.2.0",
          "state": {
            "_model_module": "@jupyter-widgets/base",
            "_model_module_version": "1.2.0",
            "_model_name": "LayoutModel",
            "_view_count": null,
            "_view_module": "@jupyter-widgets/base",
            "_view_module_version": "1.2.0",
            "_view_name": "LayoutView",
            "align_content": null,
            "align_items": null,
            "align_self": null,
            "border": null,
            "bottom": null,
            "display": null,
            "flex": null,
            "flex_flow": null,
            "grid_area": null,
            "grid_auto_columns": null,
            "grid_auto_flow": null,
            "grid_auto_rows": null,
            "grid_column": null,
            "grid_gap": null,
            "grid_row": null,
            "grid_template_areas": null,
            "grid_template_columns": null,
            "grid_template_rows": null,
            "height": null,
            "justify_content": null,
            "justify_items": null,
            "left": null,
            "margin": null,
            "max_height": null,
            "max_width": null,
            "min_height": null,
            "min_width": null,
            "object_fit": null,
            "object_position": null,
            "order": null,
            "overflow": null,
            "overflow_x": null,
            "overflow_y": null,
            "padding": null,
            "right": null,
            "top": null,
            "visibility": null,
            "width": null
          }
        },
        "a163b71cf3204a8b91c027b05e6b0652": {
          "model_module": "@jupyter-widgets/controls",
          "model_name": "DescriptionStyleModel",
          "model_module_version": "1.5.0",
          "state": {
            "_model_module": "@jupyter-widgets/controls",
            "_model_module_version": "1.5.0",
            "_model_name": "DescriptionStyleModel",
            "_view_count": null,
            "_view_module": "@jupyter-widgets/base",
            "_view_module_version": "1.2.0",
            "_view_name": "StyleView",
            "description_width": ""
          }
        }
      }
    }
  },
  "nbformat": 4,
  "nbformat_minor": 5
}