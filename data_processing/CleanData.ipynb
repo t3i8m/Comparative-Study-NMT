{
 "cells": [
  {
   "cell_type": "code",
   "execution_count": 5,
   "id": "initial_id",
   "metadata": {
    "ExecuteTime": {
     "end_time": "2025-04-18T13:06:03.383610200Z",
     "start_time": "2025-04-18T13:06:03.350543300Z"
    },
    "collapsed": true
   },
   "outputs": [
    {
     "name": "stdout",
     "output_type": "stream",
     "text": [
      "Requirement already satisfied: datasets in c:\\users\\lwjay2003\\miniconda3\\lib\\site-packages (3.5.0)\n",
      "Requirement already satisfied: filelock in c:\\users\\lwjay2003\\miniconda3\\lib\\site-packages (from datasets) (3.18.0)\n",
      "Requirement already satisfied: numpy>=1.17 in c:\\users\\lwjay2003\\miniconda3\\lib\\site-packages (from datasets) (1.26.4)\n",
      "Requirement already satisfied: pyarrow>=15.0.0 in c:\\users\\lwjay2003\\miniconda3\\lib\\site-packages (from datasets) (19.0.1)\n",
      "Requirement already satisfied: dill<0.3.9,>=0.3.0 in c:\\users\\lwjay2003\\miniconda3\\lib\\site-packages (from datasets) (0.3.8)\n",
      "Requirement already satisfied: pandas in c:\\users\\lwjay2003\\miniconda3\\lib\\site-packages (from datasets) (2.2.3)\n",
      "Requirement already satisfied: requests>=2.32.2 in c:\\users\\lwjay2003\\miniconda3\\lib\\site-packages (from datasets) (2.32.3)\n",
      "Requirement already satisfied: tqdm>=4.66.3 in c:\\users\\lwjay2003\\miniconda3\\lib\\site-packages (from datasets) (4.66.5)\n",
      "Requirement already satisfied: xxhash in c:\\users\\lwjay2003\\miniconda3\\lib\\site-packages (from datasets) (3.5.0)\n",
      "Requirement already satisfied: multiprocess<0.70.17 in c:\\users\\lwjay2003\\miniconda3\\lib\\site-packages (from datasets) (0.70.16)\n",
      "Requirement already satisfied: fsspec<=2024.12.0,>=2023.1.0 in c:\\users\\lwjay2003\\miniconda3\\lib\\site-packages (from fsspec[http]<=2024.12.0,>=2023.1.0->datasets) (2024.12.0)\n",
      "Requirement already satisfied: aiohttp in c:\\users\\lwjay2003\\miniconda3\\lib\\site-packages (from datasets) (3.11.17)\n",
      "Requirement already satisfied: huggingface-hub>=0.24.0 in c:\\users\\lwjay2003\\miniconda3\\lib\\site-packages (from datasets) (0.30.2)\n",
      "Requirement already satisfied: packaging in c:\\users\\lwjay2003\\miniconda3\\lib\\site-packages (from datasets) (24.1)\n",
      "Requirement already satisfied: pyyaml>=5.1 in c:\\users\\lwjay2003\\miniconda3\\lib\\site-packages (from datasets) (6.0.2)\n",
      "Requirement already satisfied: aiohappyeyeballs>=2.3.0 in c:\\users\\lwjay2003\\miniconda3\\lib\\site-packages (from aiohttp->datasets) (2.6.1)\n",
      "Requirement already satisfied: aiosignal>=1.1.2 in c:\\users\\lwjay2003\\miniconda3\\lib\\site-packages (from aiohttp->datasets) (1.3.2)\n",
      "Requirement already satisfied: attrs>=17.3.0 in c:\\users\\lwjay2003\\miniconda3\\lib\\site-packages (from aiohttp->datasets) (25.3.0)\n",
      "Requirement already satisfied: frozenlist>=1.1.1 in c:\\users\\lwjay2003\\miniconda3\\lib\\site-packages (from aiohttp->datasets) (1.6.0)\n",
      "Requirement already satisfied: multidict<7.0,>=4.5 in c:\\users\\lwjay2003\\miniconda3\\lib\\site-packages (from aiohttp->datasets) (6.4.3)\n",
      "Requirement already satisfied: propcache>=0.2.0 in c:\\users\\lwjay2003\\miniconda3\\lib\\site-packages (from aiohttp->datasets) (0.3.1)\n",
      "Requirement already satisfied: yarl<2.0,>=1.17.0 in c:\\users\\lwjay2003\\miniconda3\\lib\\site-packages (from aiohttp->datasets) (1.20.0)\n",
      "Requirement already satisfied: typing-extensions>=3.7.4.3 in c:\\users\\lwjay2003\\miniconda3\\lib\\site-packages (from huggingface-hub>=0.24.0->datasets) (4.13.2)\n",
      "Requirement already satisfied: charset-normalizer<4,>=2 in c:\\users\\lwjay2003\\miniconda3\\lib\\site-packages (from requests>=2.32.2->datasets) (3.3.2)\n",
      "Requirement already satisfied: idna<4,>=2.5 in c:\\users\\lwjay2003\\miniconda3\\lib\\site-packages (from requests>=2.32.2->datasets) (3.7)\n",
      "Requirement already satisfied: urllib3<3,>=1.21.1 in c:\\users\\lwjay2003\\miniconda3\\lib\\site-packages (from requests>=2.32.2->datasets) (2.2.3)\n",
      "Requirement already satisfied: certifi>=2017.4.17 in c:\\users\\lwjay2003\\miniconda3\\lib\\site-packages (from requests>=2.32.2->datasets) (2025.1.31)\n",
      "Requirement already satisfied: colorama in c:\\users\\lwjay2003\\miniconda3\\lib\\site-packages (from tqdm>=4.66.3->datasets) (0.4.6)\n",
      "Requirement already satisfied: python-dateutil>=2.8.2 in c:\\users\\lwjay2003\\miniconda3\\lib\\site-packages (from pandas->datasets) (2.9.0.post0)\n",
      "Requirement already satisfied: pytz>=2020.1 in c:\\users\\lwjay2003\\miniconda3\\lib\\site-packages (from pandas->datasets) (2025.2)\n",
      "Requirement already satisfied: tzdata>=2022.7 in c:\\users\\lwjay2003\\miniconda3\\lib\\site-packages (from pandas->datasets) (2025.2)\n",
      "Requirement already satisfied: six>=1.5 in c:\\users\\lwjay2003\\miniconda3\\lib\\site-packages (from python-dateutil>=2.8.2->pandas->datasets) (1.17.0)\n",
      "Collecting sentencepiece\n",
      "  Downloading sentencepiece-0.2.0-cp312-cp312-win_amd64.whl.metadata (8.3 kB)\n",
      "Downloading sentencepiece-0.2.0-cp312-cp312-win_amd64.whl (991 kB)\n",
      "   ---------------------------------------- 0.0/992.0 kB ? eta -:--:--\n",
      "   ---------------------------------------- 992.0/992.0 kB 5.8 MB/s eta 0:00:00\n",
      "Installing collected packages: sentencepiece\n",
      "Successfully installed sentencepiece-0.2.0\n"
     ]
    }
   ],
   "source": [
    "! pip install -U datasets\n",
    "! pip install -U sentencepiece"
   ]
  },
  {
   "cell_type": "code",
   "execution_count": 6,
   "id": "2cc3a67ce2fcd308",
   "metadata": {
    "ExecuteTime": {
     "end_time": "2025-04-18T13:06:03.409619900Z",
     "start_time": "2025-04-18T13:06:03.392506900Z"
    },
    "collapsed": false
   },
   "outputs": [],
   "source": [
    "import sentencepiece as spm\n",
    "import re\n",
    "import unicodedata"
   ]
  },
  {
   "cell_type": "code",
   "execution_count": 7,
   "id": "b4c8bcc78150a21e",
   "metadata": {
    "ExecuteTime": {
     "end_time": "2025-04-18T13:06:19.364775800Z",
     "start_time": "2025-04-18T13:06:03.406422600Z"
    },
    "collapsed": false
   },
   "outputs": [
    {
     "name": "stderr",
     "output_type": "stream",
     "text": [
      "c:\\Users\\Lwjay2003\\miniconda3\\Lib\\site-packages\\tqdm\\auto.py:21: TqdmWarning: IProgress not found. Please update jupyter and ipywidgets. See https://ipywidgets.readthedocs.io/en/stable/user_install.html\n",
      "  from .autonotebook import tqdm as notebook_tqdm\n",
      "c:\\Users\\Lwjay2003\\miniconda3\\Lib\\site-packages\\huggingface_hub\\file_download.py:144: UserWarning: `huggingface_hub` cache-system uses symlinks by default to efficiently store duplicated files but your machine does not support them in C:\\Users\\Lwjay2003\\.cache\\huggingface\\hub\\datasets--wmt14. Caching files will still work but in a degraded version that might require more space on your disk. This warning can be disabled by setting the `HF_HUB_DISABLE_SYMLINKS_WARNING` environment variable. For more details, see https://huggingface.co/docs/huggingface_hub/how-to-cache#limitations.\n",
      "To support symlinks on Windows, you either need to activate Developer Mode or to run Python as an administrator. In order to activate developer mode, see this article: https://docs.microsoft.com/en-us/windows/apps/get-started/enable-your-device-for-development\n",
      "  warnings.warn(message)\n",
      "Generating train split: 100%|██████████| 4508785/4508785 [00:01<00:00, 2512399.10 examples/s]\n",
      "Generating validation split: 100%|██████████| 3000/3000 [00:00<00:00, 998881.64 examples/s]\n",
      "Generating test split: 100%|██████████| 3003/3003 [00:00<00:00, 1488125.58 examples/s]\n"
     ]
    }
   ],
   "source": [
    "from datasets import load_dataset\n",
    "dataset = load_dataset(\"wmt14\", \"de-en\")"
   ]
  },
  {
   "cell_type": "code",
   "execution_count": 8,
   "id": "f599e30b35222572",
   "metadata": {
    "ExecuteTime": {
     "end_time": "2025-04-18T13:06:19.384810900Z",
     "start_time": "2025-04-18T13:06:19.374590100Z"
    },
    "collapsed": false
   },
   "outputs": [
    {
     "name": "stdout",
     "output_type": "stream",
     "text": [
      "DatasetDict({\n",
      "    train: Dataset({\n",
      "        features: ['translation'],\n",
      "        num_rows: 4508785\n",
      "    })\n",
      "    validation: Dataset({\n",
      "        features: ['translation'],\n",
      "        num_rows: 3000\n",
      "    })\n",
      "    test: Dataset({\n",
      "        features: ['translation'],\n",
      "        num_rows: 3003\n",
      "    })\n",
      "})\n"
     ]
    }
   ],
   "source": [
    "print(dataset)"
   ]
  },
  {
   "cell_type": "code",
   "execution_count": 9,
   "id": "6f81698fc078a8b9",
   "metadata": {
    "ExecuteTime": {
     "end_time": "2025-04-18T13:24:38.987287200Z",
     "start_time": "2025-04-18T13:06:19.403938800Z"
    },
    "collapsed": false
   },
   "outputs": [
    {
     "name": "stderr",
     "output_type": "stream",
     "text": [
      "Filter: 100%|██████████| 4508785/4508785 [00:21<00:00, 207309.97 examples/s]\n",
      "Map: 100%|██████████| 4508785/4508785 [03:50<00:00, 19527.53 examples/s]\n",
      "Filter: 100%|██████████| 4508785/4508785 [00:21<00:00, 210595.08 examples/s]\n",
      "Filter: 100%|██████████| 3000/3000 [00:00<00:00, 114707.12 examples/s]\n",
      "Map: 100%|██████████| 3000/3000 [00:00<00:00, 18892.67 examples/s]\n",
      "Filter: 100%|██████████| 3000/3000 [00:00<00:00, 115701.75 examples/s]\n",
      "Filter: 100%|██████████| 3003/3003 [00:00<00:00, 111473.44 examples/s]\n",
      "Map: 100%|██████████| 3003/3003 [00:00<00:00, 17993.95 examples/s]\n",
      "Filter: 100%|██████████| 3003/3003 [00:00<00:00, 111264.67 examples/s]\n"
     ]
    }
   ],
   "source": [
    "# Check if examples are not empty\n",
    "def is_valid(example):\n",
    "    return example[\"translation\"][\"en\"].strip() != \"\" and example[\"translation\"][\"de\"].strip() != \"\"\n",
    "\n",
    "# Remove commas from inside numbers \n",
    "def remove_number_commas(text):\n",
    "    return re.sub(r'(?<=\\d),(?=\\d)', '', text)\n",
    "\n",
    "# Space out punctuation \n",
    "def space_out_punctuation(text):\n",
    "    return re.sub(r'([^\\w\\s])', r' \\1 ', text)\n",
    "\n",
    "# Remove control characters\n",
    "def remove_control_chars(text):\n",
    "    return re.sub(r'[\\x00-\\x1F\\x7F]', '', text)\n",
    "\n",
    "# Normalize unicode\n",
    "def normalize_unicode(text):\n",
    "    return unicodedata.normalize(\"NFKC\", text)\n",
    "\n",
    "#clean data\n",
    "def clean_text(example):\n",
    "    for lang in [\"en\", \"de\"]:\n",
    "        text = example[\"translation\"][lang]\n",
    "        text = normalize_unicode(text)\n",
    "        text = remove_control_chars(text)\n",
    "        text = remove_number_commas(text)\n",
    "        text = space_out_punctuation(text)\n",
    "        text = text.strip()\n",
    "        example[\"translation\"][lang] = text\n",
    "    return example\n",
    "\n",
    "# Remove duplicates\n",
    "def is_not_duplicate(example):\n",
    "    return example[\"translation\"][\"en\"] != example[\"translation\"][\"de\"]\n",
    "\n",
    "# Apply cleaning\n",
    "for split in [\"train\", \"validation\", \"test\"]:\n",
    "    dataset[split] = dataset[split].filter(is_valid)\n",
    "    dataset[split] = dataset[split].map(clean_text)\n",
    "    dataset[split] = dataset[split].filter(is_not_duplicate)"
   ]
  },
  {
   "cell_type": "code",
   "execution_count": 10,
   "id": "b92b1621160fcf8a",
   "metadata": {
    "ExecuteTime": {
     "end_time": "2025-04-18T13:33:05.691606500Z",
     "start_time": "2025-04-18T13:24:38.990508100Z"
    },
    "collapsed": false
   },
   "outputs": [
    {
     "ename": "FileNotFoundError",
     "evalue": "[Errno 2] No such file or directory: 'data/train.en'",
     "output_type": "error",
     "traceback": [
      "\u001b[31m---------------------------------------------------------------------------\u001b[39m",
      "\u001b[31mFileNotFoundError\u001b[39m                         Traceback (most recent call last)",
      "\u001b[36mCell\u001b[39m\u001b[36m \u001b[39m\u001b[32mIn[10]\u001b[39m\u001b[32m, line 9\u001b[39m\n\u001b[32m      6\u001b[39m             f_en.write(example[\u001b[33m\"\u001b[39m\u001b[33mtranslation\u001b[39m\u001b[33m\"\u001b[39m][\u001b[33m\"\u001b[39m\u001b[33men\u001b[39m\u001b[33m\"\u001b[39m] + \u001b[33m\"\u001b[39m\u001b[38;5;130;01m\\n\u001b[39;00m\u001b[33m\"\u001b[39m)\n\u001b[32m      7\u001b[39m             f_de.write(example[\u001b[33m\"\u001b[39m\u001b[33mtranslation\u001b[39m\u001b[33m\"\u001b[39m][\u001b[33m\"\u001b[39m\u001b[33mde\u001b[39m\u001b[33m\"\u001b[39m] + \u001b[33m\"\u001b[39m\u001b[38;5;130;01m\\n\u001b[39;00m\u001b[33m\"\u001b[39m)\n\u001b[32m----> \u001b[39m\u001b[32m9\u001b[39m \u001b[43msave_translation_files\u001b[49m\u001b[43m(\u001b[49m\u001b[43mdataset\u001b[49m\u001b[43m[\u001b[49m\u001b[33;43m\"\u001b[39;49m\u001b[33;43mtrain\u001b[39;49m\u001b[33;43m\"\u001b[39;49m\u001b[43m]\u001b[49m\u001b[43m,\u001b[49m\u001b[43m \u001b[49m\u001b[43msplit\u001b[49m\u001b[43m=\u001b[49m\u001b[33;43m\"\u001b[39;49m\u001b[33;43mtrain\u001b[39;49m\u001b[33;43m\"\u001b[39;49m\u001b[43m)\u001b[49m\n\u001b[32m     10\u001b[39m save_translation_files(dataset[\u001b[33m\"\u001b[39m\u001b[33mvalidation\u001b[39m\u001b[33m\"\u001b[39m], split=\u001b[33m\"\u001b[39m\u001b[33mvalidation\u001b[39m\u001b[33m\"\u001b[39m)\n\u001b[32m     11\u001b[39m save_translation_files(dataset[\u001b[33m\"\u001b[39m\u001b[33mtest\u001b[39m\u001b[33m\"\u001b[39m], split=\u001b[33m\"\u001b[39m\u001b[33mtest\u001b[39m\u001b[33m\"\u001b[39m)\n",
      "\u001b[36mCell\u001b[39m\u001b[36m \u001b[39m\u001b[32mIn[10]\u001b[39m\u001b[32m, line 3\u001b[39m, in \u001b[36msave_translation_files\u001b[39m\u001b[34m(dataset_split, split)\u001b[39m\n\u001b[32m      2\u001b[39m \u001b[38;5;28;01mdef\u001b[39;00m\u001b[38;5;250m \u001b[39m\u001b[34msave_translation_files\u001b[39m(dataset_split, split=\u001b[33m\"\u001b[39m\u001b[33mtrain\u001b[39m\u001b[33m\"\u001b[39m):\n\u001b[32m----> \u001b[39m\u001b[32m3\u001b[39m     \u001b[38;5;28;01mwith\u001b[39;00m \u001b[38;5;28;43mopen\u001b[39;49m\u001b[43m(\u001b[49m\u001b[33;43mf\u001b[39;49m\u001b[33;43m\"\u001b[39;49m\u001b[33;43mdata/\u001b[39;49m\u001b[38;5;132;43;01m{\u001b[39;49;00m\u001b[43msplit\u001b[49m\u001b[38;5;132;43;01m}\u001b[39;49;00m\u001b[33;43m.en\u001b[39;49m\u001b[33;43m\"\u001b[39;49m\u001b[43m,\u001b[49m\u001b[43m \u001b[49m\u001b[33;43m\"\u001b[39;49m\u001b[33;43mw\u001b[39;49m\u001b[33;43m\"\u001b[39;49m\u001b[43m,\u001b[49m\u001b[43m \u001b[49m\u001b[43mencoding\u001b[49m\u001b[43m=\u001b[49m\u001b[33;43m\"\u001b[39;49m\u001b[33;43mutf-8\u001b[39;49m\u001b[33;43m\"\u001b[39;49m\u001b[43m)\u001b[49m \u001b[38;5;28;01mas\u001b[39;00m f_en, \\\n\u001b[32m      4\u001b[39m             \u001b[38;5;28mopen\u001b[39m(\u001b[33mf\u001b[39m\u001b[33m\"\u001b[39m\u001b[33mdata/\u001b[39m\u001b[38;5;132;01m{\u001b[39;00msplit\u001b[38;5;132;01m}\u001b[39;00m\u001b[33m.de\u001b[39m\u001b[33m\"\u001b[39m, \u001b[33m\"\u001b[39m\u001b[33mw\u001b[39m\u001b[33m\"\u001b[39m, encoding=\u001b[33m\"\u001b[39m\u001b[33mutf-8\u001b[39m\u001b[33m\"\u001b[39m) \u001b[38;5;28;01mas\u001b[39;00m f_de:\n\u001b[32m      5\u001b[39m         \u001b[38;5;28;01mfor\u001b[39;00m example \u001b[38;5;129;01min\u001b[39;00m dataset_split:\n\u001b[32m      6\u001b[39m             f_en.write(example[\u001b[33m\"\u001b[39m\u001b[33mtranslation\u001b[39m\u001b[33m\"\u001b[39m][\u001b[33m\"\u001b[39m\u001b[33men\u001b[39m\u001b[33m\"\u001b[39m] + \u001b[33m\"\u001b[39m\u001b[38;5;130;01m\\n\u001b[39;00m\u001b[33m\"\u001b[39m)\n",
      "\u001b[36mFile \u001b[39m\u001b[32mc:\\Users\\Lwjay2003\\miniconda3\\Lib\\site-packages\\IPython\\core\\interactiveshell.py:326\u001b[39m, in \u001b[36m_modified_open\u001b[39m\u001b[34m(file, *args, **kwargs)\u001b[39m\n\u001b[32m    319\u001b[39m \u001b[38;5;28;01mif\u001b[39;00m file \u001b[38;5;129;01min\u001b[39;00m {\u001b[32m0\u001b[39m, \u001b[32m1\u001b[39m, \u001b[32m2\u001b[39m}:\n\u001b[32m    320\u001b[39m     \u001b[38;5;28;01mraise\u001b[39;00m \u001b[38;5;167;01mValueError\u001b[39;00m(\n\u001b[32m    321\u001b[39m         \u001b[33mf\u001b[39m\u001b[33m\"\u001b[39m\u001b[33mIPython won\u001b[39m\u001b[33m'\u001b[39m\u001b[33mt let you open fd=\u001b[39m\u001b[38;5;132;01m{\u001b[39;00mfile\u001b[38;5;132;01m}\u001b[39;00m\u001b[33m by default \u001b[39m\u001b[33m\"\u001b[39m\n\u001b[32m    322\u001b[39m         \u001b[33m\"\u001b[39m\u001b[33mas it is likely to crash IPython. If you know what you are doing, \u001b[39m\u001b[33m\"\u001b[39m\n\u001b[32m    323\u001b[39m         \u001b[33m\"\u001b[39m\u001b[33myou can use builtins\u001b[39m\u001b[33m'\u001b[39m\u001b[33m open.\u001b[39m\u001b[33m\"\u001b[39m\n\u001b[32m    324\u001b[39m     )\n\u001b[32m--> \u001b[39m\u001b[32m326\u001b[39m \u001b[38;5;28;01mreturn\u001b[39;00m \u001b[43mio_open\u001b[49m\u001b[43m(\u001b[49m\u001b[43mfile\u001b[49m\u001b[43m,\u001b[49m\u001b[43m \u001b[49m\u001b[43m*\u001b[49m\u001b[43margs\u001b[49m\u001b[43m,\u001b[49m\u001b[43m \u001b[49m\u001b[43m*\u001b[49m\u001b[43m*\u001b[49m\u001b[43mkwargs\u001b[49m\u001b[43m)\u001b[49m\n",
      "\u001b[31mFileNotFoundError\u001b[39m: [Errno 2] No such file or directory: 'data/train.en'"
     ]
    }
   ],
   "source": [
    "# Save English and German translations to separate files\n",
    "def save_translation_files(dataset_split, split=\"train\"):\n",
    "    with open(f\"data/{split}.en\", \"w\", encoding=\"utf-8\") as f_en, \\\n",
    "            open(f\"data/{split}.de\", \"w\", encoding=\"utf-8\") as f_de:\n",
    "        for example in dataset_split:\n",
    "            f_en.write(example[\"translation\"][\"en\"] + \"\\n\")\n",
    "            f_de.write(example[\"translation\"][\"de\"] + \"\\n\")\n",
    "\n",
    "save_translation_files(dataset[\"train\"], split=\"train\")\n",
    "save_translation_files(dataset[\"validation\"], split=\"validation\")\n",
    "save_translation_files(dataset[\"test\"], split=\"test\")"
   ]
  },
  {
   "cell_type": "code",
   "execution_count": null,
   "id": "23d255f9bdf4e914",
   "metadata": {
    "ExecuteTime": {
     "end_time": "2025-04-18T13:39:33.624325200Z",
     "start_time": "2025-04-18T13:33:05.700793800Z"
    },
    "collapsed": false
   },
   "outputs": [],
   "source": [
    "# Train a joint BPE tokenizer on both English and German data\n",
    "tokenizer = spm.SentencePieceTrainer.train(\n",
    "    input=\"train.en,train.de\",\n",
    "    model_prefix=\"bpe_joint\",\n",
    "    model_type=\"bpe\"\n",
    ")"
   ]
  },
  {
   "cell_type": "code",
   "execution_count": null,
   "id": "2bdbc37ce2805a7c",
   "metadata": {
    "ExecuteTime": {
     "end_time": "2025-04-18T14:07:38.145737300Z",
     "start_time": "2025-04-18T13:39:33.675317300Z"
    },
    "collapsed": false
   },
   "outputs": [],
   "source": [
    "def tokenize_and_save(dataset_split, split=\"train\", src_lang=\"en\", tgt_lang=\"de\", limit=None):\n",
    "    with open(f\"{split}.src\", \"w\", encoding=\"utf-8\") as f_src, \\\n",
    "            open(f\"{split}.tgt\", \"w\", encoding=\"utf-8\") as f_tgt:\n",
    "        for i, example in enumerate(dataset_split):\n",
    "            if limit is not None and i >= limit:\n",
    "                break\n",
    "            f_src.write(\" \".join(tokenizer.encode(example[\"translation\"][src_lang], out_type=str)) + \"\\n\")\n",
    "            f_tgt.write(\" \".join(tokenizer.encode(example[\"translation\"][tgt_lang], out_type=str)) + \"\\n\")\n",
    "\n",
    "tokenize_and_save(dataset[\"train\"], split=\"train\", limit=None)\n",
    "tokenize_and_save(dataset[\"validation\"], split=\"validation\", limit=None)\n",
    "tokenize_and_save(dataset[\"test\"], split=\"test\", limit=None)"
   ]
  }
 ],
 "metadata": {
  "kernelspec": {
   "display_name": "base",
   "language": "python",
   "name": "python3"
  },
  "language_info": {
   "codemirror_mode": {
    "name": "ipython",
    "version": 3
   },
   "file_extension": ".py",
   "mimetype": "text/x-python",
   "name": "python",
   "nbconvert_exporter": "python",
   "pygments_lexer": "ipython3",
   "version": "3.12.3"
  }
 },
 "nbformat": 4,
 "nbformat_minor": 5
}
