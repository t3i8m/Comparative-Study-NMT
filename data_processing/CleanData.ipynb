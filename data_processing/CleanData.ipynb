{
 "cells": [
  {
   "cell_type": "code",
   "execution_count": 4,
   "id": "initial_id",
   "metadata": {
    "ExecuteTime": {
     "end_time": "2025-04-18T13:06:03.383610200Z",
     "start_time": "2025-04-18T13:06:03.350543300Z"
    },
    "collapsed": true
   },
   "outputs": [],
   "source": [
    "#!pip install -U datasets\n",
    "#!pip install -U sentencepiece"
   ]
  },
  {
   "cell_type": "code",
   "execution_count": 5,
   "id": "2cc3a67ce2fcd308",
   "metadata": {
    "ExecuteTime": {
     "end_time": "2025-04-18T13:06:03.409619900Z",
     "start_time": "2025-04-18T13:06:03.392506900Z"
    },
    "collapsed": false
   },
   "outputs": [],
   "source": [
    "import sentencepiece as spm\n",
    "import re\n",
    "import unicodedata"
   ]
  },
  {
   "cell_type": "code",
   "execution_count": 6,
   "id": "b4c8bcc78150a21e",
   "metadata": {
    "ExecuteTime": {
     "end_time": "2025-04-18T13:06:19.364775800Z",
     "start_time": "2025-04-18T13:06:03.406422600Z"
    },
    "collapsed": false
   },
   "outputs": [
    {
     "data": {
      "application/vnd.jupyter.widget-view+json": {
       "model_id": "1fa2144f4e1943e9a206b30a232ed228",
       "version_major": 2,
       "version_minor": 0
      },
      "text/plain": [
       "README.md:   0%|          | 0.00/10.5k [00:00<?, ?B/s]"
      ]
     },
     "metadata": {},
     "output_type": "display_data"
    },
    {
     "name": "stderr",
     "output_type": "stream",
     "text": [
      "c:\\Users\\Timur\\AppData\\Local\\Programs\\Python\\Python39\\lib\\site-packages\\huggingface_hub\\file_download.py:140: UserWarning: `huggingface_hub` cache-system uses symlinks by default to efficiently store duplicated files but your machine does not support them in C:\\Users\\Timur\\.cache\\huggingface\\hub\\datasets--wmt14. Caching files will still work but in a degraded version that might require more space on your disk. This warning can be disabled by setting the `HF_HUB_DISABLE_SYMLINKS_WARNING` environment variable. For more details, see https://huggingface.co/docs/huggingface_hub/how-to-cache#limitations.\n",
      "To support symlinks on Windows, you either need to activate Developer Mode or to run Python as an administrator. In order to activate developer mode, see this article: https://docs.microsoft.com/en-us/windows/apps/get-started/enable-your-device-for-development\n",
      "  warnings.warn(message)\n"
     ]
    },
    {
     "data": {
      "application/vnd.jupyter.widget-view+json": {
       "model_id": "308cbdf37e784692b3119b602626ede1",
       "version_major": 2,
       "version_minor": 0
      },
      "text/plain": [
       "train-00000-of-00003.parquet:   0%|          | 0.00/280M [00:00<?, ?B/s]"
      ]
     },
     "metadata": {},
     "output_type": "display_data"
    },
    {
     "data": {
      "application/vnd.jupyter.widget-view+json": {
       "model_id": "a6cd4bf03b9c43d5b87d3362b652b8ec",
       "version_major": 2,
       "version_minor": 0
      },
      "text/plain": [
       "train-00001-of-00003.parquet:   0%|          | 0.00/265M [00:00<?, ?B/s]"
      ]
     },
     "metadata": {},
     "output_type": "display_data"
    },
    {
     "data": {
      "application/vnd.jupyter.widget-view+json": {
       "model_id": "57c89a9a9e5f40999b008fa2ffdce075",
       "version_major": 2,
       "version_minor": 0
      },
      "text/plain": [
       "train-00002-of-00003.parquet:   0%|          | 0.00/273M [00:00<?, ?B/s]"
      ]
     },
     "metadata": {},
     "output_type": "display_data"
    },
    {
     "data": {
      "application/vnd.jupyter.widget-view+json": {
       "model_id": "d0563aeca8694966a826c96c2f1167e1",
       "version_major": 2,
       "version_minor": 0
      },
      "text/plain": [
       "validation-00000-of-00001.parquet:   0%|          | 0.00/474k [00:00<?, ?B/s]"
      ]
     },
     "metadata": {},
     "output_type": "display_data"
    },
    {
     "data": {
      "application/vnd.jupyter.widget-view+json": {
       "model_id": "009b8b9545a248d990efc31d36540199",
       "version_major": 2,
       "version_minor": 0
      },
      "text/plain": [
       "test-00000-of-00001.parquet:   0%|          | 0.00/509k [00:00<?, ?B/s]"
      ]
     },
     "metadata": {},
     "output_type": "display_data"
    },
    {
     "data": {
      "application/vnd.jupyter.widget-view+json": {
       "model_id": "7b58ed283dc540e7ad09efd83577b40f",
       "version_major": 2,
       "version_minor": 0
      },
      "text/plain": [
       "Generating train split:   0%|          | 0/4508785 [00:00<?, ? examples/s]"
      ]
     },
     "metadata": {},
     "output_type": "display_data"
    },
    {
     "data": {
      "application/vnd.jupyter.widget-view+json": {
       "model_id": "373ddf4bd9a641499b3de04f5520e4b2",
       "version_major": 2,
       "version_minor": 0
      },
      "text/plain": [
       "Generating validation split:   0%|          | 0/3000 [00:00<?, ? examples/s]"
      ]
     },
     "metadata": {},
     "output_type": "display_data"
    },
    {
     "data": {
      "application/vnd.jupyter.widget-view+json": {
       "model_id": "ddcb76773f654a57983b143a723b1e79",
       "version_major": 2,
       "version_minor": 0
      },
      "text/plain": [
       "Generating test split:   0%|          | 0/3003 [00:00<?, ? examples/s]"
      ]
     },
     "metadata": {},
     "output_type": "display_data"
    }
   ],
   "source": [
    "from datasets import load_dataset\n",
    "dataset = load_dataset(\"wmt14\", \"de-en\")"
   ]
  },
  {
   "cell_type": "code",
   "execution_count": 7,
   "id": "f599e30b35222572",
   "metadata": {
    "ExecuteTime": {
     "end_time": "2025-04-18T13:06:19.384810900Z",
     "start_time": "2025-04-18T13:06:19.374590100Z"
    },
    "collapsed": false
   },
   "outputs": [
    {
     "name": "stdout",
     "output_type": "stream",
     "text": [
      "DatasetDict({\n",
      "    train: Dataset({\n",
      "        features: ['translation'],\n",
      "        num_rows: 4508785\n",
      "    })\n",
      "    validation: Dataset({\n",
      "        features: ['translation'],\n",
      "        num_rows: 3000\n",
      "    })\n",
      "    test: Dataset({\n",
      "        features: ['translation'],\n",
      "        num_rows: 3003\n",
      "    })\n",
      "})\n"
     ]
    }
   ],
   "source": [
    "print(dataset)"
   ]
  },
  {
   "cell_type": "code",
   "execution_count": 8,
   "id": "6f81698fc078a8b9",
   "metadata": {
    "ExecuteTime": {
     "end_time": "2025-04-18T13:24:38.987287200Z",
     "start_time": "2025-04-18T13:06:19.403938800Z"
    },
    "collapsed": false
   },
   "outputs": [
    {
     "data": {
      "application/vnd.jupyter.widget-view+json": {
       "model_id": "bf80cf4eb7914da9bbdeb7e966718586",
       "version_major": 2,
       "version_minor": 0
      },
      "text/plain": [
       "Filter:   0%|          | 0/4508785 [00:00<?, ? examples/s]"
      ]
     },
     "metadata": {},
     "output_type": "display_data"
    },
    {
     "data": {
      "application/vnd.jupyter.widget-view+json": {
       "model_id": "d216cca57d1e4de6ae7528d30d0c8176",
       "version_major": 2,
       "version_minor": 0
      },
      "text/plain": [
       "Map:   0%|          | 0/4508785 [00:00<?, ? examples/s]"
      ]
     },
     "metadata": {},
     "output_type": "display_data"
    },
    {
     "data": {
      "application/vnd.jupyter.widget-view+json": {
       "model_id": "4d516c0d1cfc4a1db694386234bd909e",
       "version_major": 2,
       "version_minor": 0
      },
      "text/plain": [
       "Filter:   0%|          | 0/4508785 [00:00<?, ? examples/s]"
      ]
     },
     "metadata": {},
     "output_type": "display_data"
    },
    {
     "data": {
      "application/vnd.jupyter.widget-view+json": {
       "model_id": "f96e2a23c24d45ada8433bdf7206f864",
       "version_major": 2,
       "version_minor": 0
      },
      "text/plain": [
       "Filter:   0%|          | 0/3000 [00:00<?, ? examples/s]"
      ]
     },
     "metadata": {},
     "output_type": "display_data"
    },
    {
     "data": {
      "application/vnd.jupyter.widget-view+json": {
       "model_id": "3441246afb594b7fa2854d0e0db97760",
       "version_major": 2,
       "version_minor": 0
      },
      "text/plain": [
       "Map:   0%|          | 0/3000 [00:00<?, ? examples/s]"
      ]
     },
     "metadata": {},
     "output_type": "display_data"
    },
    {
     "data": {
      "application/vnd.jupyter.widget-view+json": {
       "model_id": "8f793eb4074d44629b9a162e34a740cc",
       "version_major": 2,
       "version_minor": 0
      },
      "text/plain": [
       "Filter:   0%|          | 0/3000 [00:00<?, ? examples/s]"
      ]
     },
     "metadata": {},
     "output_type": "display_data"
    },
    {
     "data": {
      "application/vnd.jupyter.widget-view+json": {
       "model_id": "d67fcccfdadd4462a1cd1ab3164fa3e3",
       "version_major": 2,
       "version_minor": 0
      },
      "text/plain": [
       "Filter:   0%|          | 0/3003 [00:00<?, ? examples/s]"
      ]
     },
     "metadata": {},
     "output_type": "display_data"
    },
    {
     "data": {
      "application/vnd.jupyter.widget-view+json": {
       "model_id": "9e16856140d846b2a43e36cd7519ddf8",
       "version_major": 2,
       "version_minor": 0
      },
      "text/plain": [
       "Map:   0%|          | 0/3003 [00:00<?, ? examples/s]"
      ]
     },
     "metadata": {},
     "output_type": "display_data"
    },
    {
     "data": {
      "application/vnd.jupyter.widget-view+json": {
       "model_id": "74c0176e15b9480fb882cfd368460da6",
       "version_major": 2,
       "version_minor": 0
      },
      "text/plain": [
       "Filter:   0%|          | 0/3003 [00:00<?, ? examples/s]"
      ]
     },
     "metadata": {},
     "output_type": "display_data"
    }
   ],
   "source": [
    "# Check if examples are not empty\n",
    "def is_valid(example):\n",
    "    return example[\"translation\"][\"en\"].strip() != \"\" and example[\"translation\"][\"de\"].strip() != \"\"\n",
    "\n",
    "# Remove commas from inside numbers \n",
    "def remove_number_commas(text):\n",
    "    return re.sub(r'(?<=\\d),(?=\\d)', '', text)\n",
    "\n",
    "# Space out punctuation \n",
    "def space_out_punctuation(text):\n",
    "    return re.sub(r'([^\\w\\s])', r' \\1 ', text)\n",
    "\n",
    "# Remove control characters\n",
    "def remove_control_chars(text):\n",
    "    return re.sub(r'[\\x00-\\x1F\\x7F]', '', text)\n",
    "\n",
    "# Normalize unicode\n",
    "def normalize_unicode(text):\n",
    "    return unicodedata.normalize(\"NFKC\", text)\n",
    "\n",
    "#clean data\n",
    "def clean_text(example):\n",
    "    for lang in [\"en\", \"de\"]:\n",
    "        text = example[\"translation\"][lang]\n",
    "        text = normalize_unicode(text)\n",
    "        text = remove_control_chars(text)\n",
    "        text = remove_number_commas(text)\n",
    "        text = space_out_punctuation(text)\n",
    "        text = text.strip()\n",
    "        example[\"translation\"][lang] = text\n",
    "    return example\n",
    "\n",
    "# Remove duplicates\n",
    "def is_not_duplicate(example):\n",
    "    return example[\"translation\"][\"en\"] != example[\"translation\"][\"de\"]\n",
    "\n",
    "# Apply cleaning\n",
    "for split in [\"train\", \"validation\", \"test\"]:\n",
    "    dataset[split] = dataset[split].filter(is_valid)\n",
    "    dataset[split] = dataset[split].map(clean_text)\n",
    "    dataset[split] = dataset[split].filter(is_not_duplicate)"
   ]
  },
  {
   "cell_type": "code",
   "execution_count": 10,
   "id": "b92b1621160fcf8a",
   "metadata": {
    "ExecuteTime": {
     "end_time": "2025-04-18T13:33:05.691606500Z",
     "start_time": "2025-04-18T13:24:38.990508100Z"
    },
    "collapsed": false
   },
   "outputs": [
    {
     "ename": "FileNotFoundError",
     "evalue": "[Errno 2] No such file or directory: 'data/train.en'",
     "output_type": "error",
     "traceback": [
      "\u001b[1;31m---------------------------------------------------------------------------\u001b[0m",
      "\u001b[1;31mFileNotFoundError\u001b[0m                         Traceback (most recent call last)",
      "Input \u001b[1;32mIn [10]\u001b[0m, in \u001b[0;36m<cell line: 9>\u001b[1;34m()\u001b[0m\n\u001b[0;32m      6\u001b[0m             f_en\u001b[38;5;241m.\u001b[39mwrite(example[\u001b[38;5;124m\"\u001b[39m\u001b[38;5;124mtranslation\u001b[39m\u001b[38;5;124m\"\u001b[39m][\u001b[38;5;124m\"\u001b[39m\u001b[38;5;124men\u001b[39m\u001b[38;5;124m\"\u001b[39m] \u001b[38;5;241m+\u001b[39m \u001b[38;5;124m\"\u001b[39m\u001b[38;5;130;01m\\n\u001b[39;00m\u001b[38;5;124m\"\u001b[39m)\n\u001b[0;32m      7\u001b[0m             f_de\u001b[38;5;241m.\u001b[39mwrite(example[\u001b[38;5;124m\"\u001b[39m\u001b[38;5;124mtranslation\u001b[39m\u001b[38;5;124m\"\u001b[39m][\u001b[38;5;124m\"\u001b[39m\u001b[38;5;124mde\u001b[39m\u001b[38;5;124m\"\u001b[39m] \u001b[38;5;241m+\u001b[39m \u001b[38;5;124m\"\u001b[39m\u001b[38;5;130;01m\\n\u001b[39;00m\u001b[38;5;124m\"\u001b[39m)\n\u001b[1;32m----> 9\u001b[0m \u001b[43msave_translation_files\u001b[49m\u001b[43m(\u001b[49m\u001b[43mdataset\u001b[49m\u001b[43m[\u001b[49m\u001b[38;5;124;43m\"\u001b[39;49m\u001b[38;5;124;43mtrain\u001b[39;49m\u001b[38;5;124;43m\"\u001b[39;49m\u001b[43m]\u001b[49m\u001b[43m,\u001b[49m\u001b[43m \u001b[49m\u001b[43msplit\u001b[49m\u001b[38;5;241;43m=\u001b[39;49m\u001b[38;5;124;43m\"\u001b[39;49m\u001b[38;5;124;43mtrain\u001b[39;49m\u001b[38;5;124;43m\"\u001b[39;49m\u001b[43m)\u001b[49m\n\u001b[0;32m     10\u001b[0m save_translation_files(dataset[\u001b[38;5;124m\"\u001b[39m\u001b[38;5;124mvalidation\u001b[39m\u001b[38;5;124m\"\u001b[39m], split\u001b[38;5;241m=\u001b[39m\u001b[38;5;124m\"\u001b[39m\u001b[38;5;124mvalidation\u001b[39m\u001b[38;5;124m\"\u001b[39m)\n\u001b[0;32m     11\u001b[0m save_translation_files(dataset[\u001b[38;5;124m\"\u001b[39m\u001b[38;5;124mtest\u001b[39m\u001b[38;5;124m\"\u001b[39m], split\u001b[38;5;241m=\u001b[39m\u001b[38;5;124m\"\u001b[39m\u001b[38;5;124mtest\u001b[39m\u001b[38;5;124m\"\u001b[39m)\n",
      "Input \u001b[1;32mIn [10]\u001b[0m, in \u001b[0;36msave_translation_files\u001b[1;34m(dataset_split, split)\u001b[0m\n\u001b[0;32m      2\u001b[0m \u001b[38;5;28;01mdef\u001b[39;00m\u001b[38;5;250m \u001b[39m\u001b[38;5;21msave_translation_files\u001b[39m(dataset_split, split\u001b[38;5;241m=\u001b[39m\u001b[38;5;124m\"\u001b[39m\u001b[38;5;124mtrain\u001b[39m\u001b[38;5;124m\"\u001b[39m):\n\u001b[1;32m----> 3\u001b[0m     \u001b[38;5;28;01mwith\u001b[39;00m \u001b[38;5;28;43mopen\u001b[39;49m\u001b[43m(\u001b[49m\u001b[38;5;124;43mf\u001b[39;49m\u001b[38;5;124;43m\"\u001b[39;49m\u001b[38;5;124;43mdata/\u001b[39;49m\u001b[38;5;132;43;01m{\u001b[39;49;00m\u001b[43msplit\u001b[49m\u001b[38;5;132;43;01m}\u001b[39;49;00m\u001b[38;5;124;43m.en\u001b[39;49m\u001b[38;5;124;43m\"\u001b[39;49m\u001b[43m,\u001b[49m\u001b[43m \u001b[49m\u001b[38;5;124;43m\"\u001b[39;49m\u001b[38;5;124;43mw\u001b[39;49m\u001b[38;5;124;43m\"\u001b[39;49m\u001b[43m,\u001b[49m\u001b[43m \u001b[49m\u001b[43mencoding\u001b[49m\u001b[38;5;241;43m=\u001b[39;49m\u001b[38;5;124;43m\"\u001b[39;49m\u001b[38;5;124;43mutf-8\u001b[39;49m\u001b[38;5;124;43m\"\u001b[39;49m\u001b[43m)\u001b[49m \u001b[38;5;28;01mas\u001b[39;00m f_en, \\\n\u001b[0;32m      4\u001b[0m             \u001b[38;5;28mopen\u001b[39m(\u001b[38;5;124mf\u001b[39m\u001b[38;5;124m\"\u001b[39m\u001b[38;5;124mdata/\u001b[39m\u001b[38;5;132;01m{\u001b[39;00msplit\u001b[38;5;132;01m}\u001b[39;00m\u001b[38;5;124m.de\u001b[39m\u001b[38;5;124m\"\u001b[39m, \u001b[38;5;124m\"\u001b[39m\u001b[38;5;124mw\u001b[39m\u001b[38;5;124m\"\u001b[39m, encoding\u001b[38;5;241m=\u001b[39m\u001b[38;5;124m\"\u001b[39m\u001b[38;5;124mutf-8\u001b[39m\u001b[38;5;124m\"\u001b[39m) \u001b[38;5;28;01mas\u001b[39;00m f_de:\n\u001b[0;32m      5\u001b[0m         \u001b[38;5;28;01mfor\u001b[39;00m example \u001b[38;5;129;01min\u001b[39;00m dataset_split:\n\u001b[0;32m      6\u001b[0m             f_en\u001b[38;5;241m.\u001b[39mwrite(example[\u001b[38;5;124m\"\u001b[39m\u001b[38;5;124mtranslation\u001b[39m\u001b[38;5;124m\"\u001b[39m][\u001b[38;5;124m\"\u001b[39m\u001b[38;5;124men\u001b[39m\u001b[38;5;124m\"\u001b[39m] \u001b[38;5;241m+\u001b[39m \u001b[38;5;124m\"\u001b[39m\u001b[38;5;130;01m\\n\u001b[39;00m\u001b[38;5;124m\"\u001b[39m)\n",
      "\u001b[1;31mFileNotFoundError\u001b[0m: [Errno 2] No such file or directory: 'data/train.en'"
     ]
    }
   ],
   "source": [
    "# Save English and German translations to separate files\n",
    "def save_translation_files(dataset_split, split=\"train\"):\n",
    "    with open(f\"data/{split}.en\", \"w\", encoding=\"utf-8\") as f_en, \\\n",
    "            open(f\"data/{split}.de\", \"w\", encoding=\"utf-8\") as f_de:\n",
    "        for example in dataset_split:\n",
    "            f_en.write(example[\"translation\"][\"en\"] + \"\\n\")\n",
    "            f_de.write(example[\"translation\"][\"de\"] + \"\\n\")\n",
    "\n",
    "save_translation_files(dataset[\"train\"], split=\"train\")\n",
    "save_translation_files(dataset[\"validation\"], split=\"validation\")\n",
    "save_translation_files(dataset[\"test\"], split=\"test\")"
   ]
  },
  {
   "cell_type": "code",
   "execution_count": null,
   "id": "23d255f9bdf4e914",
   "metadata": {
    "ExecuteTime": {
     "end_time": "2025-04-18T13:39:33.624325200Z",
     "start_time": "2025-04-18T13:33:05.700793800Z"
    },
    "collapsed": false
   },
   "outputs": [],
   "source": [
    "# Train a joint BPE tokenizer on both English and German data\n",
    "tokenizer = spm.SentencePieceTrainer.train(\n",
    "    input=\"train.en,train.de\",\n",
    "    model_prefix=\"bpe_joint\",\n",
    "    model_type=\"bpe\"\n",
    ")"
   ]
  },
  {
   "cell_type": "code",
   "execution_count": null,
   "id": "2bdbc37ce2805a7c",
   "metadata": {
    "ExecuteTime": {
     "end_time": "2025-04-18T14:07:38.145737300Z",
     "start_time": "2025-04-18T13:39:33.675317300Z"
    },
    "collapsed": false
   },
   "outputs": [],
   "source": [
    "def tokenize_and_save(dataset_split, split=\"train\", src_lang=\"en\", tgt_lang=\"de\", limit=None):\n",
    "    with open(f\"{split}.src\", \"w\", encoding=\"utf-8\") as f_src, \\\n",
    "            open(f\"{split}.tgt\", \"w\", encoding=\"utf-8\") as f_tgt:\n",
    "        for i, example in enumerate(dataset_split):\n",
    "            if limit is not None and i >= limit:\n",
    "                break\n",
    "            f_src.write(\" \".join(tokenizer.encode(example[\"translation\"][src_lang], out_type=str)) + \"\\n\")\n",
    "            f_tgt.write(\" \".join(tokenizer.encode(example[\"translation\"][tgt_lang], out_type=str)) + \"\\n\")\n",
    "\n",
    "tokenize_and_save(dataset[\"train\"], split=\"train\", limit=None)\n",
    "tokenize_and_save(dataset[\"validation\"], split=\"validation\", limit=None)\n",
    "tokenize_and_save(dataset[\"test\"], split=\"test\", limit=None)"
   ]
  }
 ],
 "metadata": {
  "kernelspec": {
   "display_name": "Python 3",
   "language": "python",
   "name": "python3"
  },
  "language_info": {
   "codemirror_mode": {
    "name": "ipython",
    "version": 3
   },
   "file_extension": ".py",
   "mimetype": "text/x-python",
   "name": "python",
   "nbconvert_exporter": "python",
   "pygments_lexer": "ipython3",
   "version": "3.9.7"
  }
 },
 "nbformat": 4,
 "nbformat_minor": 5
}
